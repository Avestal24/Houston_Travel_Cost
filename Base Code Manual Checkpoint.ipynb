{
 "cells": [
  {
   "cell_type": "markdown",
   "id": "0261270a",
   "metadata": {},
   "source": [
    "Modules"
   ]
  },
  {
   "cell_type": "code",
   "execution_count": 4,
   "id": "b33e68ff",
   "metadata": {},
   "outputs": [],
   "source": [
    "# Import modules\n",
    "import pandas as pd\n",
    "import geopandas as gpd\n",
    "import matplotlib.pyplot as plt\n",
    "from cenpy import products\n",
    "import matplotlib.pyplot as plt"
   ]
  },
  {
   "cell_type": "markdown",
   "id": "d787710a",
   "metadata": {},
   "source": [
    "Set Up"
   ]
  },
  {
   "cell_type": "code",
   "execution_count": 5,
   "id": "eba045ca",
   "metadata": {},
   "outputs": [],
   "source": [
    "# Define product\n",
    "acs = products.ACS(2019)"
   ]
  },
  {
   "cell_type": "markdown",
   "id": "100a05b5",
   "metadata": {},
   "source": [
    "**View a new census table**\n",
    "https://api.census.gov/data/2019/acs/acs5/variables.html"
   ]
  },
  {
   "cell_type": "code",
   "execution_count": 6,
   "id": "ccd1bb2f",
   "metadata": {},
   "outputs": [],
   "source": [
    "# Download data\n",
    "    # the v list is a list of the names of variables you want to input that then goes into the data pull\n",
    "    # the level is \n",
    "v = []\n",
    "counter = 1\n",
    "while counter < 10:\n",
    "    col = 'B08012_00'+str(counter)+'E'\n",
    "    v.append(col)\n",
    "    counter += 1\n",
    "\n",
    "while counter < 40:\n",
    "    col = 'B08012_0'+str(counter)+'E'\n",
    "    v.append(col)\n",
    "    counter += 1\n",
    "    \n",
    "v.append('B08013_001E')\n",
    "v.append('B08013_002E')\n",
    "v.append('B08013_003E')"
   ]
  },
  {
   "cell_type": "code",
   "execution_count": 7,
   "id": "d905e86a",
   "metadata": {},
   "outputs": [
    {
     "name": "stderr",
     "output_type": "stream",
     "text": [
      "C:\\Users\\Lumin\\anaconda3\\envs\\gds\\lib\\site-packages\\pyproj\\crs\\crs.py:131: FutureWarning: '+init=<authority>:<code>' syntax is deprecated. '<authority>:<code>' is the preferred initialization method. When making the change, be mindful of axis order changes: https://pyproj4.github.io/pyproj/stable/gotchas.html#axis-order-changes-in-proj-6\n",
      "  in_crs_string = _prepare_from_proj_string(in_crs_string)\n",
      "C:\\Users\\Lumin\\anaconda3\\envs\\gds\\lib\\site-packages\\pyproj\\crs\\crs.py:131: FutureWarning: '+init=<authority>:<code>' syntax is deprecated. '<authority>:<code>' is the preferred initialization method. When making the change, be mindful of axis order changes: https://pyproj4.github.io/pyproj/stable/gotchas.html#axis-order-changes-in-proj-6\n",
      "  in_crs_string = _prepare_from_proj_string(in_crs_string)\n",
      "C:\\Users\\Lumin\\anaconda3\\envs\\gds\\lib\\site-packages\\cenpy\\products.py:762: FutureWarning: The `op` parameter is deprecated and will be removed in a future release. Please use the `predicate` parameter instead.\n",
      "  return self._from_name(county, variables, level, \"Counties\", **kwargs)\n"
     ]
    }
   ],
   "source": [
    "new_table = products.ACS(2019).from_county('Harris County, TX', level='tract', variables=v)"
   ]
  },
  {
   "cell_type": "code",
   "execution_count": 8,
   "id": "2cb0de17",
   "metadata": {
    "scrolled": true
   },
   "outputs": [
    {
     "name": "stdout",
     "output_type": "stream",
     "text": [
      "<class 'geopandas.geodataframe.GeoDataFrame'>\n",
      "Int64Index: 14 entries, 0 to 13\n",
      "Data columns (total 48 columns):\n",
      " #   Column       Non-Null Count  Dtype   \n",
      "---  ------       --------------  -----   \n",
      " 0   GEOID        14 non-null     object  \n",
      " 1   geometry     14 non-null     geometry\n",
      " 2   B08012_001E  14 non-null     float64 \n",
      " 3   B08012_002E  14 non-null     float64 \n",
      " 4   B08012_003E  14 non-null     float64 \n",
      " 5   B08012_004E  14 non-null     float64 \n",
      " 6   B08012_005E  14 non-null     float64 \n",
      " 7   B08012_006E  14 non-null     float64 \n",
      " 8   B08012_007E  14 non-null     float64 \n",
      " 9   B08012_008E  14 non-null     float64 \n",
      " 10  B08012_009E  14 non-null     float64 \n",
      " 11  B08012_010E  14 non-null     float64 \n",
      " 12  B08012_011E  14 non-null     float64 \n",
      " 13  B08012_012E  14 non-null     float64 \n",
      " 14  B08012_013E  14 non-null     float64 \n",
      " 15  B08012_014E  14 non-null     float64 \n",
      " 16  B08012_015E  14 non-null     float64 \n",
      " 17  B08012_016E  14 non-null     float64 \n",
      " 18  B08012_017E  14 non-null     float64 \n",
      " 19  B08012_018E  14 non-null     float64 \n",
      " 20  B08012_019E  14 non-null     float64 \n",
      " 21  B08012_020E  14 non-null     float64 \n",
      " 22  B08012_021E  14 non-null     float64 \n",
      " 23  B08012_022E  14 non-null     float64 \n",
      " 24  B08012_023E  14 non-null     float64 \n",
      " 25  B08012_024E  14 non-null     float64 \n",
      " 26  B08012_025E  14 non-null     float64 \n",
      " 27  B08012_026E  14 non-null     float64 \n",
      " 28  B08012_027E  14 non-null     float64 \n",
      " 29  B08012_028E  14 non-null     float64 \n",
      " 30  B08012_029E  14 non-null     float64 \n",
      " 31  B08012_030E  14 non-null     float64 \n",
      " 32  B08012_031E  14 non-null     float64 \n",
      " 33  B08012_032E  14 non-null     float64 \n",
      " 34  B08012_033E  14 non-null     float64 \n",
      " 35  B08012_034E  14 non-null     float64 \n",
      " 36  B08012_035E  14 non-null     float64 \n",
      " 37  B08012_036E  14 non-null     float64 \n",
      " 38  B08012_037E  14 non-null     float64 \n",
      " 39  B08012_038E  14 non-null     float64 \n",
      " 40  B08012_039E  14 non-null     float64 \n",
      " 41  B08013_001E  14 non-null     float64 \n",
      " 42  B08013_002E  14 non-null     float64 \n",
      " 43  B08013_003E  14 non-null     float64 \n",
      " 44  NAME         14 non-null     object  \n",
      " 45  state        14 non-null     object  \n",
      " 46  county       14 non-null     object  \n",
      " 47  tract        14 non-null     object  \n",
      "dtypes: float64(42), geometry(1), object(5)\n",
      "memory usage: 5.4+ KB\n"
     ]
    }
   ],
   "source": [
    "# Calculate stats for the new data for a given column\n",
    "new_table.info()"
   ]
  },
  {
   "cell_type": "code",
   "execution_count": 9,
   "id": "99e87b08",
   "metadata": {},
   "outputs": [
    {
     "data": {
      "text/plain": [
       "343800.0"
      ]
     },
     "execution_count": 9,
     "metadata": {},
     "output_type": "execute_result"
    }
   ],
   "source": [
    "new_table['B08013_002E'].sum()"
   ]
  },
  {
   "cell_type": "code",
   "execution_count": 10,
   "id": "62a20889",
   "metadata": {},
   "outputs": [
    {
     "data": {
      "text/plain": [
       "253860.0"
      ]
     },
     "execution_count": 10,
     "metadata": {},
     "output_type": "execute_result"
    }
   ],
   "source": [
    "new_table['B08013_003E'].sum()"
   ]
  },
  {
   "cell_type": "markdown",
   "id": "d5f42270",
   "metadata": {},
   "source": [
    "*Important Data*: men have 343800 aggregate travel hours, as opposed to women's 253860."
   ]
  },
  {
   "cell_type": "code",
   "execution_count": 11,
   "id": "ae9b2355",
   "metadata": {},
   "outputs": [
    {
     "data": {
      "text/plain": [
       "<AxesSubplot:>"
      ]
     },
     "execution_count": 11,
     "metadata": {},
     "output_type": "execute_result"
    },
    {
     "data": {
      "image/png": "[encoded data removed]",
      "text/plain": [
       "<Figure size 720x720 with 2 Axes>"
      ]
     },
     "metadata": {
      "needs_background": "light"
     },
     "output_type": "display_data"
    }
   ],
   "source": [
    "# Plot map of a given column\n",
    "f, ax = plt.subplots(1, 1, figsize=(10,10))\n",
    "new_table.plot('B08013_002E', ax=ax, cmap='plasma', legend=True)"
   ]
  },
  {
   "cell_type": "code",
   "execution_count": 12,
   "id": "b86d71f9",
   "metadata": {},
   "outputs": [
    {
     "data": {
      "text/plain": [
       "<AxesSubplot:>"
      ]
     },
     "execution_count": 12,
     "metadata": {},
     "output_type": "execute_result"
    },
    {
     "data": {
      "image/png": "[encoded data removed]",
      "text/plain": [
       "<Figure size 720x720 with 2 Axes>"
      ]
     },
     "metadata": {
      "needs_background": "light"
     },
     "output_type": "display_data"
    }
   ],
   "source": [
    "# Plot map of a given column\n",
    "f, ax = plt.subplots(1, 1, figsize=(10,10))\n",
    "new_table.plot('B08013_003E', ax=ax, cmap='plasma', legend=True)"
   ]
  },
  {
   "cell_type": "markdown",
   "id": "4e15bc38",
   "metadata": {},
   "source": [
    "Columns of note:\n",
    "B08012_001E = Total number of people polled per tract\n",
    "B08012_014E = Total number of men per tract\n",
    "B08012_027E = Total number of women per tract\n",
    "B08012_012E + B08012_013E = Total numer of workers with a travel time > 60 minutes\n",
    "B08012_025E + B08012_026E = Total numer of men with a travel time > 60 minutes\n",
    "B08012_038E + B08012_039E = Total numer of women with a travel time > 60 minutes\n",
    "B08013_001E = Aggregate travel hours\n",
    "B08013_002E = Men's aggregate travel hours\n",
    "B08013_003E = Men's aggregate travel hours"
   ]
  },
  {
   "cell_type": "markdown",
   "id": "b2e6ee8a",
   "metadata": {},
   "source": [
    "**Gather relevant information**"
   ]
  },
  {
   "cell_type": "markdown",
   "id": "e5d5f034",
   "metadata": {},
   "source": [
    "Base Variables:"
   ]
  },
  {
   "cell_type": "code",
   "execution_count": 13,
   "id": "3cc5ae82",
   "metadata": {},
   "outputs": [],
   "source": [
    "base = pd.DataFrame()\n",
    "\n",
    "def get_popmedian(gdf):\n",
    "    infodict = {}\n",
    "    \n",
    "    for row in gdf.iterrows():\n",
    "        pc = ['B08012_002E', 'B08012_003E', 'B08012_004E', 'B08012_005E', 'B08012_006E', 'B08012_007E', 'B08012_008E', 'B08012_009E', 'B08012_010E', 'B08012_011E', 'B08012_012E', 'B08012_013E']\n",
    "        people = int(row[1][2])\n",
    "        hpeople = people // 2\n",
    "        currcol = ''\n",
    "        \n",
    "        while hpeople > 0:\n",
    "            currcol = pc.pop(0)\n",
    "            value = new_table[currcol][row[0]]\n",
    "            hpeople = hpeople - value # subtract the number of people in that category from the total\n",
    "            \n",
    "        infodict[row[1][47]] = currcol\n",
    "        \n",
    "    return infodict\n",
    "\n",
    "def get_menmedian(gdf):\n",
    "    infodict = {}\n",
    "    \n",
    "    for row in gdf.iterrows():\n",
    "        pc = ['B08012_015E', 'B08012_016E', 'B08012_017E', 'B08012_018E', 'B08012_019E', 'B08012_020E', 'B08012_021E', 'B08012_022E', 'B08012_023E', 'B08012_024E', 'B08012_025E', 'B08012_026E']\n",
    "        men = int(row[1][15])\n",
    "        hmen = men // 2\n",
    "        currcol = ''\n",
    "        #print('new row', currcol)\n",
    "        \n",
    "        while hmen > 0:\n",
    "            currcol = pc.pop(0)\n",
    "            value = new_table[currcol][row[0]]\n",
    "            hmen = hmen - value # subtract the number of people in that category from the total\n",
    "            \n",
    "        #print('end while', currcol)\n",
    "        infodict[row[1][47]] = currcol\n",
    "        \n",
    "    return infodict\n",
    "\n",
    "\n",
    "def get_womenmedian(gdf):\n",
    "    infodict = {}\n",
    "    \n",
    "    for row in gdf.iterrows():\n",
    "        pc = ['B08012_028E', 'B08012_029E', 'B08012_030E', 'B08012_031E', 'B08012_032E', 'B08012_033E', 'B08012_034E', 'B08012_035E', 'B08012_036E', 'B08012_037E', 'B08012_038E', 'B08012_039E']\n",
    "        women = int(row[1][28])\n",
    "        hwomen = women // 2\n",
    "        currcol = ''\n",
    "        #print('new row', currcol)\n",
    "        \n",
    "        while hwomen > 0:\n",
    "            #print('while   half women =', hwomen)\n",
    "            currcol = pc.pop(0)\n",
    "            value = new_table[currcol][row[0]]\n",
    "            hwomen = hwomen - value # subtract the number of people in that category from the total\n",
    "            \n",
    "        #print('end while', currcol)\n",
    "        infodict[row[1][47]] = currcol\n",
    "        \n",
    "    return infodict"
   ]
  },
  {
   "cell_type": "markdown",
   "id": "64a338b7",
   "metadata": {},
   "source": [
    "B08012_004 = 10-14\n",
    "B08012_005 = 15-19\n",
    "B08012_006 = 20-24\n",
    "B08012_007 = 25-29\n",
    "B08012_008 = 30-34"
   ]
  },
  {
   "cell_type": "code",
   "execution_count": 14,
   "id": "9d610338",
   "metadata": {},
   "outputs": [
    {
     "data": {
      "text/plain": [
       "{'020604': 'B08012_005E',\n",
       " '020402': 'B08012_005E',\n",
       " '020501': 'B08012_004E',\n",
       " '020302': 'B08012_005E',\n",
       " '020603': 'B08012_006E',\n",
       " '020401': 'B08012_004E',\n",
       " '020103': 'B08012_006E',\n",
       " '020200': 'B08012_007E',\n",
       " '020502': 'B08012_004E',\n",
       " '020605': 'B08012_006E',\n",
       " '020104': 'B08012_007E',\n",
       " '020102': 'B08012_008E',\n",
       " '020301': 'B08012_004E',\n",
       " '020606': 'B08012_006E'}"
      ]
     },
     "execution_count": 14,
     "metadata": {},
     "output_type": "execute_result"
    }
   ],
   "source": [
    "population_median_cols = get_popmedian(new_table)\n",
    "population_median = ['15-19', '15-19', '10-14', '15-19', '20-24', '10-14', '20-24', '25-29', '10-14', '20-24', '25-29', '30-34', '10-14', '20-24']\n",
    "population_median_cols"
   ]
  },
  {
   "cell_type": "markdown",
   "id": "1f860f1c",
   "metadata": {},
   "source": [
    "B08012_017 = 10-14\n",
    "B08012_018 = 15-19\n",
    "B08012_019 = 20-24\n",
    "B08012_020 = 25-29\n",
    "B08012_021 = 30-35"
   ]
  },
  {
   "cell_type": "code",
   "execution_count": 15,
   "id": "fe4d5f9b",
   "metadata": {},
   "outputs": [
    {
     "data": {
      "text/plain": [
       "{'020604': 'B08012_018E',\n",
       " '020402': 'B08012_018E',\n",
       " '020501': 'B08012_018E',\n",
       " '020302': 'B08012_018E',\n",
       " '020603': 'B08012_019E',\n",
       " '020401': 'B08012_017E',\n",
       " '020103': 'B08012_020E',\n",
       " '020200': 'B08012_020E',\n",
       " '020502': 'B08012_018E',\n",
       " '020605': 'B08012_019E',\n",
       " '020104': 'B08012_021E',\n",
       " '020102': 'B08012_021E',\n",
       " '020301': 'B08012_017E',\n",
       " '020606': 'B08012_019E'}"
      ]
     },
     "execution_count": 15,
     "metadata": {},
     "output_type": "execute_result"
    }
   ],
   "source": [
    "men_median_cols = get_menmedian(new_table)\n",
    "men_median = ['15-19', '15-19', '15-19', '15-19', '20-24', '10-14', '25-29', '25-29', '15-19', '20-24', '30-34', '30-34', '10-14', '20-24']\n",
    "men_median_cols"
   ]
  },
  {
   "cell_type": "markdown",
   "id": "5e78bef8",
   "metadata": {},
   "source": [
    "B08012_029 = 5-9\n",
    "B08012_030 = 10-14\n",
    "B08012_031 = 15-19\n",
    "B08012_032 = 20-24\n",
    "B08012_033 = 25-29\n",
    "B08012_034 = 30-34"
   ]
  },
  {
   "cell_type": "code",
   "execution_count": 16,
   "id": "c9a6e6f7",
   "metadata": {},
   "outputs": [
    {
     "data": {
      "text/plain": [
       "{'020604': 'B08012_031E',\n",
       " '020402': 'B08012_030E',\n",
       " '020501': 'B08012_029E',\n",
       " '020302': 'B08012_031E',\n",
       " '020603': 'B08012_032E',\n",
       " '020401': 'B08012_030E',\n",
       " '020103': 'B08012_031E',\n",
       " '020200': 'B08012_033E',\n",
       " '020502': 'B08012_030E',\n",
       " '020605': 'B08012_032E',\n",
       " '020104': 'B08012_032E',\n",
       " '020102': 'B08012_034E',\n",
       " '020301': 'B08012_030E',\n",
       " '020606': 'B08012_032E'}"
      ]
     },
     "execution_count": 16,
     "metadata": {},
     "output_type": "execute_result"
    }
   ],
   "source": [
    "women_median_cols = get_womenmedian(new_table)\n",
    "women_median = ['15-19', '10-14', '5-9', '15-19', '20-24', '10-14', '15-19', '25-29', '10-14', '20-24', '20-24', '30-34', '10-14', '20-24']\n",
    "women_median_cols"
   ]
  },
  {
   "cell_type": "code",
   "execution_count": 17,
   "id": "85e741cb",
   "metadata": {},
   "outputs": [],
   "source": [
    "base['GEOID'] = new_table['GEOID']\n",
    "base['geometry'] = new_table['geometry']\n",
    "base['NAME'] = new_table['NAME']\n",
    "base['state'] = new_table['state']\n",
    "base['county'] = new_table['county']\n",
    "base['tract'] = new_table['tract']\n",
    "base['population_median'] = population_median\n",
    "base['men_median'] = men_median\n",
    "base['women_median'] = women_median"
   ]
  },
  {
   "cell_type": "code",
   "execution_count": 18,
   "id": "34084bb0",
   "metadata": {},
   "outputs": [
    {
     "data": {
      "text/html": [
       "<div>\n",
       "<style scoped>\n",
       "    .dataframe tbody tr th:only-of-type {\n",
       "        vertical-align: middle;\n",
       "    }\n",
       "\n",
       "    .dataframe tbody tr th {\n",
       "        vertical-align: top;\n",
       "    }\n",
       "\n",
       "    .dataframe thead th {\n",
       "        text-align: right;\n",
       "    }\n",
       "</style>\n",
       "<table border=\"1\" class=\"dataframe\">\n",
       "  <thead>\n",
       "    <tr style=\"text-align: right;\">\n",
       "      <th></th>\n",
       "      <th>GEOID</th>\n",
       "      <th>geometry</th>\n",
       "      <th>NAME</th>\n",
       "      <th>state</th>\n",
       "      <th>county</th>\n",
       "      <th>tract</th>\n",
       "      <th>population_median</th>\n",
       "      <th>men_median</th>\n",
       "      <th>women_median</th>\n",
       "    </tr>\n",
       "  </thead>\n",
       "  <tbody>\n",
       "    <tr>\n",
       "      <th>0</th>\n",
       "      <td>48203020604</td>\n",
       "      <td>POLYGON ((-10542200.570 3822928.240, -10542200...</td>\n",
       "      <td>Census Tract 206.04, Harrison County, Texas</td>\n",
       "      <td>48</td>\n",
       "      <td>203</td>\n",
       "      <td>020604</td>\n",
       "      <td>15-19</td>\n",
       "      <td>15-19</td>\n",
       "      <td>15-19</td>\n",
       "    </tr>\n",
       "    <tr>\n",
       "      <th>1</th>\n",
       "      <td>48203020402</td>\n",
       "      <td>POLYGON ((-10516258.230 3827513.530, -10516257...</td>\n",
       "      <td>Census Tract 204.02, Harrison County, Texas</td>\n",
       "      <td>48</td>\n",
       "      <td>203</td>\n",
       "      <td>020402</td>\n",
       "      <td>15-19</td>\n",
       "      <td>15-19</td>\n",
       "      <td>10-14</td>\n",
       "    </tr>\n",
       "    <tr>\n",
       "      <th>2</th>\n",
       "      <td>48203020501</td>\n",
       "      <td>POLYGON ((-10505033.890 3835034.510, -10505033...</td>\n",
       "      <td>Census Tract 205.01, Harrison County, Texas</td>\n",
       "      <td>48</td>\n",
       "      <td>203</td>\n",
       "      <td>020501</td>\n",
       "      <td>10-14</td>\n",
       "      <td>15-19</td>\n",
       "      <td>5-9</td>\n",
       "    </tr>\n",
       "    <tr>\n",
       "      <th>3</th>\n",
       "      <td>48203020302</td>\n",
       "      <td>POLYGON ((-10505670.970 3837985.810, -10505667...</td>\n",
       "      <td>Census Tract 203.02, Harrison County, Texas</td>\n",
       "      <td>48</td>\n",
       "      <td>203</td>\n",
       "      <td>020302</td>\n",
       "      <td>15-19</td>\n",
       "      <td>15-19</td>\n",
       "      <td>15-19</td>\n",
       "    </tr>\n",
       "    <tr>\n",
       "      <th>4</th>\n",
       "      <td>48203020603</td>\n",
       "      <td>POLYGON ((-10538910.080 3829652.730, -10538889...</td>\n",
       "      <td>Census Tract 206.03, Harrison County, Texas</td>\n",
       "      <td>48</td>\n",
       "      <td>203</td>\n",
       "      <td>020603</td>\n",
       "      <td>20-24</td>\n",
       "      <td>20-24</td>\n",
       "      <td>20-24</td>\n",
       "    </tr>\n",
       "    <tr>\n",
       "      <th>5</th>\n",
       "      <td>48203020401</td>\n",
       "      <td>POLYGON ((-10515066.110 3834885.950, -10515061...</td>\n",
       "      <td>Census Tract 204.01, Harrison County, Texas</td>\n",
       "      <td>48</td>\n",
       "      <td>203</td>\n",
       "      <td>020401</td>\n",
       "      <td>10-14</td>\n",
       "      <td>10-14</td>\n",
       "      <td>10-14</td>\n",
       "    </tr>\n",
       "    <tr>\n",
       "      <th>6</th>\n",
       "      <td>48203020103</td>\n",
       "      <td>POLYGON ((-10503682.240 3824785.580, -10503608...</td>\n",
       "      <td>Census Tract 201.03, Harrison County, Texas</td>\n",
       "      <td>48</td>\n",
       "      <td>203</td>\n",
       "      <td>020103</td>\n",
       "      <td>20-24</td>\n",
       "      <td>25-29</td>\n",
       "      <td>15-19</td>\n",
       "    </tr>\n",
       "    <tr>\n",
       "      <th>7</th>\n",
       "      <td>48203020200</td>\n",
       "      <td>POLYGON ((-10542199.010 3861433.820, -10542197...</td>\n",
       "      <td>Census Tract 202, Harrison County, Texas</td>\n",
       "      <td>48</td>\n",
       "      <td>203</td>\n",
       "      <td>020200</td>\n",
       "      <td>25-29</td>\n",
       "      <td>25-29</td>\n",
       "      <td>25-29</td>\n",
       "    </tr>\n",
       "    <tr>\n",
       "      <th>8</th>\n",
       "      <td>48203020502</td>\n",
       "      <td>POLYGON ((-10511655.170 3824200.700, -10511599...</td>\n",
       "      <td>Census Tract 205.02, Harrison County, Texas</td>\n",
       "      <td>48</td>\n",
       "      <td>203</td>\n",
       "      <td>020502</td>\n",
       "      <td>10-14</td>\n",
       "      <td>15-19</td>\n",
       "      <td>10-14</td>\n",
       "    </tr>\n",
       "    <tr>\n",
       "      <th>9</th>\n",
       "      <td>48203020605</td>\n",
       "      <td>POLYGON ((-10538076.410 3834774.760, -10538075...</td>\n",
       "      <td>Census Tract 206.05, Harrison County, Texas</td>\n",
       "      <td>48</td>\n",
       "      <td>203</td>\n",
       "      <td>020605</td>\n",
       "      <td>20-24</td>\n",
       "      <td>20-24</td>\n",
       "      <td>20-24</td>\n",
       "    </tr>\n",
       "    <tr>\n",
       "      <th>10</th>\n",
       "      <td>48203020104</td>\n",
       "      <td>POLYGON ((-10501137.820 3841256.650, -10501074...</td>\n",
       "      <td>Census Tract 201.04, Harrison County, Texas</td>\n",
       "      <td>48</td>\n",
       "      <td>203</td>\n",
       "      <td>020104</td>\n",
       "      <td>25-29</td>\n",
       "      <td>30-34</td>\n",
       "      <td>20-24</td>\n",
       "    </tr>\n",
       "    <tr>\n",
       "      <th>11</th>\n",
       "      <td>48203020102</td>\n",
       "      <td>POLYGON ((-10484997.380 3855039.810, -10484993...</td>\n",
       "      <td>Census Tract 201.02, Harrison County, Texas</td>\n",
       "      <td>48</td>\n",
       "      <td>203</td>\n",
       "      <td>020102</td>\n",
       "      <td>30-34</td>\n",
       "      <td>30-34</td>\n",
       "      <td>30-34</td>\n",
       "    </tr>\n",
       "    <tr>\n",
       "      <th>12</th>\n",
       "      <td>48203020301</td>\n",
       "      <td>POLYGON ((-10503012.880 3834940.890, -10503007...</td>\n",
       "      <td>Census Tract 203.01, Harrison County, Texas</td>\n",
       "      <td>48</td>\n",
       "      <td>203</td>\n",
       "      <td>020301</td>\n",
       "      <td>10-14</td>\n",
       "      <td>10-14</td>\n",
       "      <td>10-14</td>\n",
       "    </tr>\n",
       "    <tr>\n",
       "      <th>13</th>\n",
       "      <td>48203020606</td>\n",
       "      <td>POLYGON ((-10542178.860 3833352.110, -10542178...</td>\n",
       "      <td>Census Tract 206.06, Harrison County, Texas</td>\n",
       "      <td>48</td>\n",
       "      <td>203</td>\n",
       "      <td>020606</td>\n",
       "      <td>20-24</td>\n",
       "      <td>20-24</td>\n",
       "      <td>20-24</td>\n",
       "    </tr>\n",
       "  </tbody>\n",
       "</table>\n",
       "</div>"
      ],
      "text/plain": [
       "          GEOID                                           geometry  \\\n",
       "0   48203020604  POLYGON ((-10542200.570 3822928.240, -10542200...   \n",
       "1   48203020402  POLYGON ((-10516258.230 3827513.530, -10516257...   \n",
       "2   48203020501  POLYGON ((-10505033.890 3835034.510, -10505033...   \n",
       "3   48203020302  POLYGON ((-10505670.970 3837985.810, -10505667...   \n",
       "4   48203020603  POLYGON ((-10538910.080 3829652.730, -10538889...   \n",
       "5   48203020401  POLYGON ((-10515066.110 3834885.950, -10515061...   \n",
       "6   48203020103  POLYGON ((-10503682.240 3824785.580, -10503608...   \n",
       "7   48203020200  POLYGON ((-10542199.010 3861433.820, -10542197...   \n",
       "8   48203020502  POLYGON ((-10511655.170 3824200.700, -10511599...   \n",
       "9   48203020605  POLYGON ((-10538076.410 3834774.760, -10538075...   \n",
       "10  48203020104  POLYGON ((-10501137.820 3841256.650, -10501074...   \n",
       "11  48203020102  POLYGON ((-10484997.380 3855039.810, -10484993...   \n",
       "12  48203020301  POLYGON ((-10503012.880 3834940.890, -10503007...   \n",
       "13  48203020606  POLYGON ((-10542178.860 3833352.110, -10542178...   \n",
       "\n",
       "                                           NAME state county   tract  \\\n",
       "0   Census Tract 206.04, Harrison County, Texas    48    203  020604   \n",
       "1   Census Tract 204.02, Harrison County, Texas    48    203  020402   \n",
       "2   Census Tract 205.01, Harrison County, Texas    48    203  020501   \n",
       "3   Census Tract 203.02, Harrison County, Texas    48    203  020302   \n",
       "4   Census Tract 206.03, Harrison County, Texas    48    203  020603   \n",
       "5   Census Tract 204.01, Harrison County, Texas    48    203  020401   \n",
       "6   Census Tract 201.03, Harrison County, Texas    48    203  020103   \n",
       "7      Census Tract 202, Harrison County, Texas    48    203  020200   \n",
       "8   Census Tract 205.02, Harrison County, Texas    48    203  020502   \n",
       "9   Census Tract 206.05, Harrison County, Texas    48    203  020605   \n",
       "10  Census Tract 201.04, Harrison County, Texas    48    203  020104   \n",
       "11  Census Tract 201.02, Harrison County, Texas    48    203  020102   \n",
       "12  Census Tract 203.01, Harrison County, Texas    48    203  020301   \n",
       "13  Census Tract 206.06, Harrison County, Texas    48    203  020606   \n",
       "\n",
       "   population_median men_median women_median  \n",
       "0              15-19      15-19        15-19  \n",
       "1              15-19      15-19        10-14  \n",
       "2              10-14      15-19          5-9  \n",
       "3              15-19      15-19        15-19  \n",
       "4              20-24      20-24        20-24  \n",
       "5              10-14      10-14        10-14  \n",
       "6              20-24      25-29        15-19  \n",
       "7              25-29      25-29        25-29  \n",
       "8              10-14      15-19        10-14  \n",
       "9              20-24      20-24        20-24  \n",
       "10             25-29      30-34        20-24  \n",
       "11             30-34      30-34        30-34  \n",
       "12             10-14      10-14        10-14  \n",
       "13             20-24      20-24        20-24  "
      ]
     },
     "execution_count": 18,
     "metadata": {},
     "output_type": "execute_result"
    }
   ],
   "source": [
    "base"
   ]
  },
  {
   "cell_type": "code",
   "execution_count": 19,
   "id": "ba1c5e29",
   "metadata": {},
   "outputs": [],
   "source": [
    "pm_int = []\n",
    "for item in population_median:\n",
    "    if item == '5-9':\n",
    "        pm_int.append(7)\n",
    "        \n",
    "    elif item == '10-14':\n",
    "        pm_int.append(12)\n",
    "        \n",
    "    elif item == '15-19':\n",
    "        pm_int.append(17)\n",
    "        \n",
    "    elif item == '20-24':\n",
    "        pm_int.append(22)\n",
    "        \n",
    "    elif item == '25-29':\n",
    "        pm_int.append(27)\n",
    "        \n",
    "    elif item == '30-34':\n",
    "        pm_int.append(32)\n",
    "        \n",
    "base['pm_int'] = pm_int"
   ]
  },
  {
   "cell_type": "code",
   "execution_count": 20,
   "id": "82f1e3b1",
   "metadata": {},
   "outputs": [],
   "source": [
    "wm_int = []\n",
    "for item in women_median:\n",
    "    if item == '5-9':\n",
    "        wm_int.append(7)\n",
    "        \n",
    "    elif item == '10-14':\n",
    "        wm_int.append(12)\n",
    "        \n",
    "    elif item == '15-19':\n",
    "        wm_int.append(17)\n",
    "        \n",
    "    elif item == '20-24':\n",
    "        wm_int.append(22)\n",
    "        \n",
    "    elif item == '25-29':\n",
    "        wm_int.append(27)\n",
    "        \n",
    "    elif item == '30-34':\n",
    "        wm_int.append(32)\n",
    "        \n",
    "base['wm_int'] = wm_int"
   ]
  },
  {
   "cell_type": "code",
   "execution_count": 21,
   "id": "d644eb4b",
   "metadata": {},
   "outputs": [],
   "source": [
    "mm_int = []\n",
    "for item in men_median:\n",
    "    if item == '5-9':\n",
    "        mm_int.append(7)\n",
    "        \n",
    "    elif item == '10-14':\n",
    "        mm_int.append(12)\n",
    "        \n",
    "    elif item == '15-19':\n",
    "        mm_int.append(17)\n",
    "        \n",
    "    elif item == '20-24':\n",
    "        mm_int.append(22)\n",
    "        \n",
    "    elif item == '25-29':\n",
    "        mm_int.append(27)\n",
    "        \n",
    "    elif item == '30-34':\n",
    "        mm_int.append(32)\n",
    "        \n",
    "    else:\n",
    "        mm_int.append('problem')\n",
    "        \n",
    "base['mm_int'] = mm_int"
   ]
  },
  {
   "cell_type": "code",
   "execution_count": 22,
   "id": "76facbb3",
   "metadata": {},
   "outputs": [
    {
     "data": {
      "text/html": [
       "<div>\n",
       "<style scoped>\n",
       "    .dataframe tbody tr th:only-of-type {\n",
       "        vertical-align: middle;\n",
       "    }\n",
       "\n",
       "    .dataframe tbody tr th {\n",
       "        vertical-align: top;\n",
       "    }\n",
       "\n",
       "    .dataframe thead th {\n",
       "        text-align: right;\n",
       "    }\n",
       "</style>\n",
       "<table border=\"1\" class=\"dataframe\">\n",
       "  <thead>\n",
       "    <tr style=\"text-align: right;\">\n",
       "      <th></th>\n",
       "      <th>GEOID</th>\n",
       "      <th>geometry</th>\n",
       "      <th>NAME</th>\n",
       "      <th>state</th>\n",
       "      <th>county</th>\n",
       "      <th>tract</th>\n",
       "      <th>population_median</th>\n",
       "      <th>men_median</th>\n",
       "      <th>women_median</th>\n",
       "      <th>pm_int</th>\n",
       "      <th>wm_int</th>\n",
       "      <th>mm_int</th>\n",
       "    </tr>\n",
       "  </thead>\n",
       "  <tbody>\n",
       "    <tr>\n",
       "      <th>0</th>\n",
       "      <td>48203020604</td>\n",
       "      <td>POLYGON ((-10542200.570 3822928.240, -10542200...</td>\n",
       "      <td>Census Tract 206.04, Harrison County, Texas</td>\n",
       "      <td>48</td>\n",
       "      <td>203</td>\n",
       "      <td>020604</td>\n",
       "      <td>15-19</td>\n",
       "      <td>15-19</td>\n",
       "      <td>15-19</td>\n",
       "      <td>17</td>\n",
       "      <td>17</td>\n",
       "      <td>17</td>\n",
       "    </tr>\n",
       "    <tr>\n",
       "      <th>1</th>\n",
       "      <td>48203020402</td>\n",
       "      <td>POLYGON ((-10516258.230 3827513.530, -10516257...</td>\n",
       "      <td>Census Tract 204.02, Harrison County, Texas</td>\n",
       "      <td>48</td>\n",
       "      <td>203</td>\n",
       "      <td>020402</td>\n",
       "      <td>15-19</td>\n",
       "      <td>15-19</td>\n",
       "      <td>10-14</td>\n",
       "      <td>17</td>\n",
       "      <td>12</td>\n",
       "      <td>17</td>\n",
       "    </tr>\n",
       "    <tr>\n",
       "      <th>2</th>\n",
       "      <td>48203020501</td>\n",
       "      <td>POLYGON ((-10505033.890 3835034.510, -10505033...</td>\n",
       "      <td>Census Tract 205.01, Harrison County, Texas</td>\n",
       "      <td>48</td>\n",
       "      <td>203</td>\n",
       "      <td>020501</td>\n",
       "      <td>10-14</td>\n",
       "      <td>15-19</td>\n",
       "      <td>5-9</td>\n",
       "      <td>12</td>\n",
       "      <td>7</td>\n",
       "      <td>17</td>\n",
       "    </tr>\n",
       "    <tr>\n",
       "      <th>3</th>\n",
       "      <td>48203020302</td>\n",
       "      <td>POLYGON ((-10505670.970 3837985.810, -10505667...</td>\n",
       "      <td>Census Tract 203.02, Harrison County, Texas</td>\n",
       "      <td>48</td>\n",
       "      <td>203</td>\n",
       "      <td>020302</td>\n",
       "      <td>15-19</td>\n",
       "      <td>15-19</td>\n",
       "      <td>15-19</td>\n",
       "      <td>17</td>\n",
       "      <td>17</td>\n",
       "      <td>17</td>\n",
       "    </tr>\n",
       "    <tr>\n",
       "      <th>4</th>\n",
       "      <td>48203020603</td>\n",
       "      <td>POLYGON ((-10538910.080 3829652.730, -10538889...</td>\n",
       "      <td>Census Tract 206.03, Harrison County, Texas</td>\n",
       "      <td>48</td>\n",
       "      <td>203</td>\n",
       "      <td>020603</td>\n",
       "      <td>20-24</td>\n",
       "      <td>20-24</td>\n",
       "      <td>20-24</td>\n",
       "      <td>22</td>\n",
       "      <td>22</td>\n",
       "      <td>22</td>\n",
       "    </tr>\n",
       "    <tr>\n",
       "      <th>5</th>\n",
       "      <td>48203020401</td>\n",
       "      <td>POLYGON ((-10515066.110 3834885.950, -10515061...</td>\n",
       "      <td>Census Tract 204.01, Harrison County, Texas</td>\n",
       "      <td>48</td>\n",
       "      <td>203</td>\n",
       "      <td>020401</td>\n",
       "      <td>10-14</td>\n",
       "      <td>10-14</td>\n",
       "      <td>10-14</td>\n",
       "      <td>12</td>\n",
       "      <td>12</td>\n",
       "      <td>12</td>\n",
       "    </tr>\n",
       "    <tr>\n",
       "      <th>6</th>\n",
       "      <td>48203020103</td>\n",
       "      <td>POLYGON ((-10503682.240 3824785.580, -10503608...</td>\n",
       "      <td>Census Tract 201.03, Harrison County, Texas</td>\n",
       "      <td>48</td>\n",
       "      <td>203</td>\n",
       "      <td>020103</td>\n",
       "      <td>20-24</td>\n",
       "      <td>25-29</td>\n",
       "      <td>15-19</td>\n",
       "      <td>22</td>\n",
       "      <td>17</td>\n",
       "      <td>27</td>\n",
       "    </tr>\n",
       "    <tr>\n",
       "      <th>7</th>\n",
       "      <td>48203020200</td>\n",
       "      <td>POLYGON ((-10542199.010 3861433.820, -10542197...</td>\n",
       "      <td>Census Tract 202, Harrison County, Texas</td>\n",
       "      <td>48</td>\n",
       "      <td>203</td>\n",
       "      <td>020200</td>\n",
       "      <td>25-29</td>\n",
       "      <td>25-29</td>\n",
       "      <td>25-29</td>\n",
       "      <td>27</td>\n",
       "      <td>27</td>\n",
       "      <td>27</td>\n",
       "    </tr>\n",
       "    <tr>\n",
       "      <th>8</th>\n",
       "      <td>48203020502</td>\n",
       "      <td>POLYGON ((-10511655.170 3824200.700, -10511599...</td>\n",
       "      <td>Census Tract 205.02, Harrison County, Texas</td>\n",
       "      <td>48</td>\n",
       "      <td>203</td>\n",
       "      <td>020502</td>\n",
       "      <td>10-14</td>\n",
       "      <td>15-19</td>\n",
       "      <td>10-14</td>\n",
       "      <td>12</td>\n",
       "      <td>12</td>\n",
       "      <td>17</td>\n",
       "    </tr>\n",
       "    <tr>\n",
       "      <th>9</th>\n",
       "      <td>48203020605</td>\n",
       "      <td>POLYGON ((-10538076.410 3834774.760, -10538075...</td>\n",
       "      <td>Census Tract 206.05, Harrison County, Texas</td>\n",
       "      <td>48</td>\n",
       "      <td>203</td>\n",
       "      <td>020605</td>\n",
       "      <td>20-24</td>\n",
       "      <td>20-24</td>\n",
       "      <td>20-24</td>\n",
       "      <td>22</td>\n",
       "      <td>22</td>\n",
       "      <td>22</td>\n",
       "    </tr>\n",
       "    <tr>\n",
       "      <th>10</th>\n",
       "      <td>48203020104</td>\n",
       "      <td>POLYGON ((-10501137.820 3841256.650, -10501074...</td>\n",
       "      <td>Census Tract 201.04, Harrison County, Texas</td>\n",
       "      <td>48</td>\n",
       "      <td>203</td>\n",
       "      <td>020104</td>\n",
       "      <td>25-29</td>\n",
       "      <td>30-34</td>\n",
       "      <td>20-24</td>\n",
       "      <td>27</td>\n",
       "      <td>22</td>\n",
       "      <td>32</td>\n",
       "    </tr>\n",
       "    <tr>\n",
       "      <th>11</th>\n",
       "      <td>48203020102</td>\n",
       "      <td>POLYGON ((-10484997.380 3855039.810, -10484993...</td>\n",
       "      <td>Census Tract 201.02, Harrison County, Texas</td>\n",
       "      <td>48</td>\n",
       "      <td>203</td>\n",
       "      <td>020102</td>\n",
       "      <td>30-34</td>\n",
       "      <td>30-34</td>\n",
       "      <td>30-34</td>\n",
       "      <td>32</td>\n",
       "      <td>32</td>\n",
       "      <td>32</td>\n",
       "    </tr>\n",
       "    <tr>\n",
       "      <th>12</th>\n",
       "      <td>48203020301</td>\n",
       "      <td>POLYGON ((-10503012.880 3834940.890, -10503007...</td>\n",
       "      <td>Census Tract 203.01, Harrison County, Texas</td>\n",
       "      <td>48</td>\n",
       "      <td>203</td>\n",
       "      <td>020301</td>\n",
       "      <td>10-14</td>\n",
       "      <td>10-14</td>\n",
       "      <td>10-14</td>\n",
       "      <td>12</td>\n",
       "      <td>12</td>\n",
       "      <td>12</td>\n",
       "    </tr>\n",
       "    <tr>\n",
       "      <th>13</th>\n",
       "      <td>48203020606</td>\n",
       "      <td>POLYGON ((-10542178.860 3833352.110, -10542178...</td>\n",
       "      <td>Census Tract 206.06, Harrison County, Texas</td>\n",
       "      <td>48</td>\n",
       "      <td>203</td>\n",
       "      <td>020606</td>\n",
       "      <td>20-24</td>\n",
       "      <td>20-24</td>\n",
       "      <td>20-24</td>\n",
       "      <td>22</td>\n",
       "      <td>22</td>\n",
       "      <td>22</td>\n",
       "    </tr>\n",
       "  </tbody>\n",
       "</table>\n",
       "</div>"
      ],
      "text/plain": [
       "          GEOID                                           geometry  \\\n",
       "0   48203020604  POLYGON ((-10542200.570 3822928.240, -10542200...   \n",
       "1   48203020402  POLYGON ((-10516258.230 3827513.530, -10516257...   \n",
       "2   48203020501  POLYGON ((-10505033.890 3835034.510, -10505033...   \n",
       "3   48203020302  POLYGON ((-10505670.970 3837985.810, -10505667...   \n",
       "4   48203020603  POLYGON ((-10538910.080 3829652.730, -10538889...   \n",
       "5   48203020401  POLYGON ((-10515066.110 3834885.950, -10515061...   \n",
       "6   48203020103  POLYGON ((-10503682.240 3824785.580, -10503608...   \n",
       "7   48203020200  POLYGON ((-10542199.010 3861433.820, -10542197...   \n",
       "8   48203020502  POLYGON ((-10511655.170 3824200.700, -10511599...   \n",
       "9   48203020605  POLYGON ((-10538076.410 3834774.760, -10538075...   \n",
       "10  48203020104  POLYGON ((-10501137.820 3841256.650, -10501074...   \n",
       "11  48203020102  POLYGON ((-10484997.380 3855039.810, -10484993...   \n",
       "12  48203020301  POLYGON ((-10503012.880 3834940.890, -10503007...   \n",
       "13  48203020606  POLYGON ((-10542178.860 3833352.110, -10542178...   \n",
       "\n",
       "                                           NAME state county   tract  \\\n",
       "0   Census Tract 206.04, Harrison County, Texas    48    203  020604   \n",
       "1   Census Tract 204.02, Harrison County, Texas    48    203  020402   \n",
       "2   Census Tract 205.01, Harrison County, Texas    48    203  020501   \n",
       "3   Census Tract 203.02, Harrison County, Texas    48    203  020302   \n",
       "4   Census Tract 206.03, Harrison County, Texas    48    203  020603   \n",
       "5   Census Tract 204.01, Harrison County, Texas    48    203  020401   \n",
       "6   Census Tract 201.03, Harrison County, Texas    48    203  020103   \n",
       "7      Census Tract 202, Harrison County, Texas    48    203  020200   \n",
       "8   Census Tract 205.02, Harrison County, Texas    48    203  020502   \n",
       "9   Census Tract 206.05, Harrison County, Texas    48    203  020605   \n",
       "10  Census Tract 201.04, Harrison County, Texas    48    203  020104   \n",
       "11  Census Tract 201.02, Harrison County, Texas    48    203  020102   \n",
       "12  Census Tract 203.01, Harrison County, Texas    48    203  020301   \n",
       "13  Census Tract 206.06, Harrison County, Texas    48    203  020606   \n",
       "\n",
       "   population_median men_median women_median  pm_int  wm_int  mm_int  \n",
       "0              15-19      15-19        15-19      17      17      17  \n",
       "1              15-19      15-19        10-14      17      12      17  \n",
       "2              10-14      15-19          5-9      12       7      17  \n",
       "3              15-19      15-19        15-19      17      17      17  \n",
       "4              20-24      20-24        20-24      22      22      22  \n",
       "5              10-14      10-14        10-14      12      12      12  \n",
       "6              20-24      25-29        15-19      22      17      27  \n",
       "7              25-29      25-29        25-29      27      27      27  \n",
       "8              10-14      15-19        10-14      12      12      17  \n",
       "9              20-24      20-24        20-24      22      22      22  \n",
       "10             25-29      30-34        20-24      27      22      32  \n",
       "11             30-34      30-34        30-34      32      32      32  \n",
       "12             10-14      10-14        10-14      12      12      12  \n",
       "13             20-24      20-24        20-24      22      22      22  "
      ]
     },
     "execution_count": 22,
     "metadata": {},
     "output_type": "execute_result"
    }
   ],
   "source": [
    "base"
   ]
  },
  {
   "cell_type": "code",
   "execution_count": 23,
   "id": "6711697c",
   "metadata": {},
   "outputs": [],
   "source": [
    "# Compute correlation matrix\n",
    "corr_matrix = base.corr()\n",
    "\n",
    "# Display just house value correlations\n",
    "#corr_matrix['population_median'].sort_values(ascending = False)"
   ]
  },
  {
   "cell_type": "code",
   "execution_count": 24,
   "id": "7d849e98",
   "metadata": {},
   "outputs": [
    {
     "data": {
      "text/html": [
       "<div>\n",
       "<style scoped>\n",
       "    .dataframe tbody tr th:only-of-type {\n",
       "        vertical-align: middle;\n",
       "    }\n",
       "\n",
       "    .dataframe tbody tr th {\n",
       "        vertical-align: top;\n",
       "    }\n",
       "\n",
       "    .dataframe thead th {\n",
       "        text-align: right;\n",
       "    }\n",
       "</style>\n",
       "<table border=\"1\" class=\"dataframe\">\n",
       "  <thead>\n",
       "    <tr style=\"text-align: right;\">\n",
       "      <th></th>\n",
       "      <th>pm_int</th>\n",
       "      <th>wm_int</th>\n",
       "      <th>mm_int</th>\n",
       "    </tr>\n",
       "  </thead>\n",
       "  <tbody>\n",
       "    <tr>\n",
       "      <th>pm_int</th>\n",
       "      <td>1.000000</td>\n",
       "      <td>0.939520</td>\n",
       "      <td>0.935032</td>\n",
       "    </tr>\n",
       "    <tr>\n",
       "      <th>wm_int</th>\n",
       "      <td>0.939520</td>\n",
       "      <td>1.000000</td>\n",
       "      <td>0.798898</td>\n",
       "    </tr>\n",
       "    <tr>\n",
       "      <th>mm_int</th>\n",
       "      <td>0.935032</td>\n",
       "      <td>0.798898</td>\n",
       "      <td>1.000000</td>\n",
       "    </tr>\n",
       "  </tbody>\n",
       "</table>\n",
       "</div>"
      ],
      "text/plain": [
       "          pm_int    wm_int    mm_int\n",
       "pm_int  1.000000  0.939520  0.935032\n",
       "wm_int  0.939520  1.000000  0.798898\n",
       "mm_int  0.935032  0.798898  1.000000"
      ]
     },
     "execution_count": 24,
     "metadata": {},
     "output_type": "execute_result"
    }
   ],
   "source": [
    "corr_matrix"
   ]
  },
  {
   "cell_type": "code",
   "execution_count": 25,
   "id": "54e83935",
   "metadata": {},
   "outputs": [],
   "source": [
    "base = gpd.GeoDataFrame(base, geometry = 'geometry')"
   ]
  },
  {
   "cell_type": "code",
   "execution_count": 26,
   "id": "4a605ad1",
   "metadata": {},
   "outputs": [
    {
     "data": {
      "text/plain": [
       "<AxesSubplot:>"
      ]
     },
     "execution_count": 26,
     "metadata": {},
     "output_type": "execute_result"
    },
    {
     "data": {
      "image/png": "[encoded data removed]",
      "text/plain": [
       "<Figure size 720x720 with 2 Axes>"
      ]
     },
     "metadata": {
      "needs_background": "light"
     },
     "output_type": "display_data"
    }
   ],
   "source": [
    "# Plot map of a given column\n",
    "f, ax = plt.subplots(1, 1, figsize=(10,10))\n",
    "base.plot('pm_int', ax=ax, cmap='plasma', legend=True)"
   ]
  },
  {
   "cell_type": "code",
   "execution_count": 27,
   "id": "59c69a04",
   "metadata": {},
   "outputs": [
    {
     "data": {
      "text/plain": [
       "<AxesSubplot:>"
      ]
     },
     "execution_count": 27,
     "metadata": {},
     "output_type": "execute_result"
    },
    {
     "data": {
      "image/png": "[encoded data removed]",
      "text/plain": [
       "<Figure size 720x720 with 2 Axes>"
      ]
     },
     "metadata": {
      "needs_background": "light"
     },
     "output_type": "display_data"
    }
   ],
   "source": [
    "# Plot map of a given column\n",
    "f, ax = plt.subplots(1, 1, figsize=(10,10))\n",
    "base.plot('mm_int', ax=ax, cmap='plasma', legend=True)"
   ]
  },
  {
   "cell_type": "code",
   "execution_count": 28,
   "id": "62af7037",
   "metadata": {},
   "outputs": [
    {
     "data": {
      "text/plain": [
       "<AxesSubplot:>"
      ]
     },
     "execution_count": 28,
     "metadata": {},
     "output_type": "execute_result"
    },
    {
     "data": {
      "image/png": "[encoded data removed]",
      "text/plain": [
       "<Figure size 720x720 with 2 Axes>"
      ]
     },
     "metadata": {
      "needs_background": "light"
     },
     "output_type": "display_data"
    }
   ],
   "source": [
    "# Plot map of a given column\n",
    "f, ax = plt.subplots(1, 1, figsize=(10,10))\n",
    "base.plot('wm_int', ax=ax, cmap='plasma', legend=True)"
   ]
  },
  {
   "cell_type": "code",
   "execution_count": null,
   "id": "9b101671",
   "metadata": {},
   "outputs": [],
   "source": []
  }
 ],
 "metadata": {
  "kernelspec": {
   "display_name": "Python 3 (ipykernel)",
   "language": "python",
   "name": "python3"
  },
  "language_info": {
   "codemirror_mode": {
    "name": "ipython",
    "version": 3
   },
   "file_extension": ".py",
   "mimetype": "text/x-python",
   "name": "python",
   "nbconvert_exporter": "python",
   "pygments_lexer": "ipython3",
   "version": "3.8.12"
  }
 },
 "nbformat": 4,
 "nbformat_minor": 5
}
