{
 "cells": [
  {
   "cell_type": "markdown",
   "id": "0261270a",
   "metadata": {},
   "source": [
    "Modules"
   ]
  },
  {
   "cell_type": "code",
   "execution_count": 30,
   "id": "b33e68ff",
   "metadata": {},
   "outputs": [],
   "source": [
    "# Import modules\n",
    "import pandas as pd\n",
    "import geopandas as gpd\n",
    "import matplotlib.pyplot as plt\n",
    "from cenpy import products\n",
    "import matplotlib.pyplot as plt\n",
    "import seaborn as sns\n",
    "import numpy as np\n",
    "from sklearn.preprocessing import StandardScaler\n",
    "from sklearn.model_selection import train_test_split\n",
    "from sklearn.ensemble import RandomForestRegressor\n",
    "from sklearn.metrics import mean_squared_error\n",
    "from shapely.geometry import Point\n",
    "from sklearn.linear_model import LinearRegression"
   ]
  },
  {
   "cell_type": "markdown",
   "id": "d787710a",
   "metadata": {},
   "source": [
    "Set Up"
   ]
  },
  {
   "cell_type": "code",
   "execution_count": 2,
   "id": "eba045ca",
   "metadata": {},
   "outputs": [],
   "source": [
    "# Define product\n",
    "acs = products.ACS(2019)"
   ]
  },
  {
   "cell_type": "markdown",
   "id": "100a05b5",
   "metadata": {},
   "source": [
    "### View base data <br>\n",
    "https://api.census.gov/data/2019/acs/acs5/variables.html"
   ]
  },
  {
   "cell_type": "code",
   "execution_count": 4,
   "id": "ccd1bb2f",
   "metadata": {},
   "outputs": [],
   "source": [
    "# Download data\n",
    "    # the v list is a list of the names of variables you want to input that then goes into the data pull\n",
    "    # the level is \n",
    "v = []\n",
    "counter = 1\n",
    "while counter < 10:\n",
    "    col = 'B08012_00'+str(counter)+'E'\n",
    "    v.append(col)\n",
    "    counter += 1\n",
    "\n",
    "while counter < 40:\n",
    "    col = 'B08012_0'+str(counter)+'E'\n",
    "    v.append(col)\n",
    "    counter += 1\n",
    "    \n",
    "v.append('B08013_001E')\n",
    "v.append('B08013_002E')\n",
    "v.append('B08013_003E')"
   ]
  },
  {
   "cell_type": "code",
   "execution_count": 5,
   "id": "d905e86a",
   "metadata": {},
   "outputs": [
    {
     "name": "stderr",
     "output_type": "stream",
     "text": [
      "C:\\Users\\sshul\\anaconda3\\envs\\gds\\lib\\site-packages\\pyproj\\crs\\crs.py:131: FutureWarning: '+init=<authority>:<code>' syntax is deprecated. '<authority>:<code>' is the preferred initialization method. When making the change, be mindful of axis order changes: https://pyproj4.github.io/pyproj/stable/gotchas.html#axis-order-changes-in-proj-6\n",
      "  in_crs_string = _prepare_from_proj_string(in_crs_string)\n",
      "C:\\Users\\sshul\\anaconda3\\envs\\gds\\lib\\site-packages\\pyproj\\crs\\crs.py:131: FutureWarning: '+init=<authority>:<code>' syntax is deprecated. '<authority>:<code>' is the preferred initialization method. When making the change, be mindful of axis order changes: https://pyproj4.github.io/pyproj/stable/gotchas.html#axis-order-changes-in-proj-6\n",
      "  in_crs_string = _prepare_from_proj_string(in_crs_string)\n",
      "C:\\Users\\sshul\\anaconda3\\envs\\gds\\lib\\site-packages\\cenpy\\products.py:762: FutureWarning: The `op` parameter is deprecated and will be removed in a future release. Please use the `predicate` parameter instead.\n",
      "  return self._from_name(county, variables, level, \"Counties\", **kwargs)\n"
     ]
    }
   ],
   "source": [
    "new_table = products.ACS(2019).from_county('Harris County, TX', level='tract', variables=v)"
   ]
  },
  {
   "cell_type": "code",
   "execution_count": 6,
   "id": "2cb0de17",
   "metadata": {
    "scrolled": true
   },
   "outputs": [
    {
     "name": "stdout",
     "output_type": "stream",
     "text": [
      "<class 'geopandas.geodataframe.GeoDataFrame'>\n",
      "Int64Index: 14 entries, 0 to 13\n",
      "Data columns (total 48 columns):\n",
      " #   Column       Non-Null Count  Dtype   \n",
      "---  ------       --------------  -----   \n",
      " 0   GEOID        14 non-null     object  \n",
      " 1   geometry     14 non-null     geometry\n",
      " 2   B08012_001E  14 non-null     float64 \n",
      " 3   B08012_002E  14 non-null     float64 \n",
      " 4   B08012_003E  14 non-null     float64 \n",
      " 5   B08012_004E  14 non-null     float64 \n",
      " 6   B08012_005E  14 non-null     float64 \n",
      " 7   B08012_006E  14 non-null     float64 \n",
      " 8   B08012_007E  14 non-null     float64 \n",
      " 9   B08012_008E  14 non-null     float64 \n",
      " 10  B08012_009E  14 non-null     float64 \n",
      " 11  B08012_010E  14 non-null     float64 \n",
      " 12  B08012_011E  14 non-null     float64 \n",
      " 13  B08012_012E  14 non-null     float64 \n",
      " 14  B08012_013E  14 non-null     float64 \n",
      " 15  B08012_014E  14 non-null     float64 \n",
      " 16  B08012_015E  14 non-null     float64 \n",
      " 17  B08012_016E  14 non-null     float64 \n",
      " 18  B08012_017E  14 non-null     float64 \n",
      " 19  B08012_018E  14 non-null     float64 \n",
      " 20  B08012_019E  14 non-null     float64 \n",
      " 21  B08012_020E  14 non-null     float64 \n",
      " 22  B08012_021E  14 non-null     float64 \n",
      " 23  B08012_022E  14 non-null     float64 \n",
      " 24  B08012_023E  14 non-null     float64 \n",
      " 25  B08012_024E  14 non-null     float64 \n",
      " 26  B08012_025E  14 non-null     float64 \n",
      " 27  B08012_026E  14 non-null     float64 \n",
      " 28  B08012_027E  14 non-null     float64 \n",
      " 29  B08012_028E  14 non-null     float64 \n",
      " 30  B08012_029E  14 non-null     float64 \n",
      " 31  B08012_030E  14 non-null     float64 \n",
      " 32  B08012_031E  14 non-null     float64 \n",
      " 33  B08012_032E  14 non-null     float64 \n",
      " 34  B08012_033E  14 non-null     float64 \n",
      " 35  B08012_034E  14 non-null     float64 \n",
      " 36  B08012_035E  14 non-null     float64 \n",
      " 37  B08012_036E  14 non-null     float64 \n",
      " 38  B08012_037E  14 non-null     float64 \n",
      " 39  B08012_038E  14 non-null     float64 \n",
      " 40  B08012_039E  14 non-null     float64 \n",
      " 41  B08013_001E  14 non-null     float64 \n",
      " 42  B08013_002E  14 non-null     float64 \n",
      " 43  B08013_003E  14 non-null     float64 \n",
      " 44  NAME         14 non-null     object  \n",
      " 45  state        14 non-null     object  \n",
      " 46  county       14 non-null     object  \n",
      " 47  tract        14 non-null     object  \n",
      "dtypes: float64(42), geometry(1), object(5)\n",
      "memory usage: 5.4+ KB\n"
     ]
    }
   ],
   "source": [
    "# Calculate stats for the new data for a given column\n",
    "new_table.info()"
   ]
  },
  {
   "cell_type": "code",
   "execution_count": 7,
   "id": "ae9b2355",
   "metadata": {},
   "outputs": [
    {
     "data": {
      "text/plain": [
       "<AxesSubplot:>"
      ]
     },
     "execution_count": 7,
     "metadata": {},
     "output_type": "execute_result"
    },
    {
     "data": {
      "image/png": "[encoded data removed]",
      "text/plain": [
       "<Figure size 720x720 with 2 Axes>"
      ]
     },
     "metadata": {
      "needs_background": "light"
     },
     "output_type": "display_data"
    }
   ],
   "source": [
    "# Plot map of a given column\n",
    "f, ax = plt.subplots(1, 1, figsize=(10,10))\n",
    "new_table.plot('B08013_002E', ax=ax, cmap='plasma', legend=True)"
   ]
  },
  {
   "cell_type": "code",
   "execution_count": 8,
   "id": "b86d71f9",
   "metadata": {},
   "outputs": [
    {
     "data": {
      "text/plain": [
       "<AxesSubplot:>"
      ]
     },
     "execution_count": 8,
     "metadata": {},
     "output_type": "execute_result"
    },
    {
     "data": {
      "image/png": "[encoded data removed]",
      "text/plain": [
       "<Figure size 720x720 with 2 Axes>"
      ]
     },
     "metadata": {
      "needs_background": "light"
     },
     "output_type": "display_data"
    }
   ],
   "source": [
    "# Plot map of a given column\n",
    "f, ax = plt.subplots(1, 1, figsize=(10,10))\n",
    "new_table.plot('B08013_003E', ax=ax, cmap='plasma', legend=True)"
   ]
  },
  {
   "cell_type": "markdown",
   "id": "4e15bc38",
   "metadata": {},
   "source": [
    "Columns of note: <br>\n",
    "B08012_001E = Total number of people polled per tract <br>\n",
    "B08012_014E = Total number of men per tract <br>\n",
    "B08012_027E = Total number of women per tract <br>\n",
    "B08012_012E + B08012_013E = Total numer of workers with a travel time > 60 minutes <br>\n",
    "B08012_025E + B08012_026E = Total numer of men with a travel time > 60 minutes <br>\n",
    "B08012_038E + B08012_039E = Total numer of women with a travel time > 60 minutes <br>\n",
    "B08013_001E = Aggregate travel hours <br>\n",
    "B08013_002E = Men's aggregate travel hours <br>\n",
    "B08013_003E = Men's aggregate travel hours <br>"
   ]
  },
  {
   "cell_type": "markdown",
   "id": "b2e6ee8a",
   "metadata": {},
   "source": [
    "## Gather Variables"
   ]
  },
  {
   "cell_type": "markdown",
   "id": "e5d5f034",
   "metadata": {},
   "source": [
    "### *Base Variables:*"
   ]
  },
  {
   "cell_type": "code",
   "execution_count": 9,
   "id": "3cc5ae82",
   "metadata": {},
   "outputs": [],
   "source": [
    "def get_popmedian(gdf):\n",
    "    infodict = {}\n",
    "    \n",
    "    for row in gdf.iterrows():\n",
    "        pc = ['B08012_002E', 'B08012_003E', 'B08012_004E', 'B08012_005E', 'B08012_006E', 'B08012_007E', 'B08012_008E', 'B08012_009E', 'B08012_010E', 'B08012_011E', 'B08012_012E', 'B08012_013E']\n",
    "        people = int(row[1][2])\n",
    "        hpeople = people // 2\n",
    "        currcol = ''\n",
    "        \n",
    "        while hpeople > 0:\n",
    "            currcol = pc.pop(0)\n",
    "            value = new_table[currcol][row[0]]\n",
    "            hpeople = hpeople - value # subtract the number of people in that category from the total\n",
    "            \n",
    "        infodict[row[1][47]] = currcol\n",
    "        \n",
    "    return infodict\n",
    "\n",
    "def get_menmedian(gdf):\n",
    "    infodict = {}\n",
    "    \n",
    "    for row in gdf.iterrows():\n",
    "        pc = ['B08012_015E', 'B08012_016E', 'B08012_017E', 'B08012_018E', 'B08012_019E', 'B08012_020E', 'B08012_021E', 'B08012_022E', 'B08012_023E', 'B08012_024E', 'B08012_025E', 'B08012_026E']\n",
    "        men = int(row[1][15])\n",
    "        hmen = men // 2\n",
    "        currcol = ''\n",
    "        #print('new row', currcol)\n",
    "        \n",
    "        while hmen > 0:\n",
    "            currcol = pc.pop(0)\n",
    "            value = new_table[currcol][row[0]]\n",
    "            hmen = hmen - value # subtract the number of people in that category from the total\n",
    "            \n",
    "        #print('end while', currcol)\n",
    "        infodict[row[1][47]] = currcol\n",
    "        \n",
    "    return infodict\n",
    "\n",
    "\n",
    "def get_womenmedian(gdf):\n",
    "    infodict = {}\n",
    "    \n",
    "    for row in gdf.iterrows():\n",
    "        pc = ['B08012_028E', 'B08012_029E', 'B08012_030E', 'B08012_031E', 'B08012_032E', 'B08012_033E', 'B08012_034E', 'B08012_035E', 'B08012_036E', 'B08012_037E', 'B08012_038E', 'B08012_039E']\n",
    "        women = int(row[1][28])\n",
    "        hwomen = women // 2\n",
    "        currcol = ''\n",
    "        #print('new row', currcol)\n",
    "        \n",
    "        while hwomen > 0:\n",
    "            #print('while   half women =', hwomen)\n",
    "            currcol = pc.pop(0)\n",
    "            value = new_table[currcol][row[0]]\n",
    "            hwomen = hwomen - value # subtract the number of people in that category from the total\n",
    "            \n",
    "        #print('end while', currcol)\n",
    "        infodict[row[1][47]] = currcol\n",
    "        \n",
    "    return infodict"
   ]
  },
  {
   "cell_type": "markdown",
   "id": "64a338b7",
   "metadata": {},
   "source": [
    "B08012_004 = 10-14\n",
    "B08012_005 = 15-19\n",
    "B08012_006 = 20-24\n",
    "B08012_007 = 25-29\n",
    "B08012_008 = 30-34"
   ]
  },
  {
   "cell_type": "code",
   "execution_count": 10,
   "id": "9d610338",
   "metadata": {},
   "outputs": [
    {
     "data": {
      "text/plain": [
       "{'020604': 'B08012_005E',\n",
       " '020402': 'B08012_005E',\n",
       " '020501': 'B08012_004E',\n",
       " '020302': 'B08012_005E',\n",
       " '020603': 'B08012_006E',\n",
       " '020401': 'B08012_004E',\n",
       " '020103': 'B08012_006E',\n",
       " '020200': 'B08012_007E',\n",
       " '020502': 'B08012_004E',\n",
       " '020605': 'B08012_006E',\n",
       " '020104': 'B08012_007E',\n",
       " '020102': 'B08012_008E',\n",
       " '020301': 'B08012_004E',\n",
       " '020606': 'B08012_006E'}"
      ]
     },
     "execution_count": 10,
     "metadata": {},
     "output_type": "execute_result"
    }
   ],
   "source": [
    "population_median_cols = get_popmedian(new_table)\n",
    "population_median = ['15-19', '15-19', '10-14', '15-19', '20-24', '10-14', '20-24', '25-29', '10-14', '20-24', '25-29', '30-34', '10-14', '20-24']\n",
    "population_median_cols"
   ]
  },
  {
   "cell_type": "markdown",
   "id": "1f860f1c",
   "metadata": {},
   "source": [
    "B08012_017 = 10-14\n",
    "B08012_018 = 15-19\n",
    "B08012_019 = 20-24\n",
    "B08012_020 = 25-29\n",
    "B08012_021 = 30-35"
   ]
  },
  {
   "cell_type": "code",
   "execution_count": 11,
   "id": "fe4d5f9b",
   "metadata": {},
   "outputs": [
    {
     "data": {
      "text/plain": [
       "{'020604': 'B08012_018E',\n",
       " '020402': 'B08012_018E',\n",
       " '020501': 'B08012_018E',\n",
       " '020302': 'B08012_018E',\n",
       " '020603': 'B08012_019E',\n",
       " '020401': 'B08012_017E',\n",
       " '020103': 'B08012_020E',\n",
       " '020200': 'B08012_020E',\n",
       " '020502': 'B08012_018E',\n",
       " '020605': 'B08012_019E',\n",
       " '020104': 'B08012_021E',\n",
       " '020102': 'B08012_021E',\n",
       " '020301': 'B08012_017E',\n",
       " '020606': 'B08012_019E'}"
      ]
     },
     "execution_count": 11,
     "metadata": {},
     "output_type": "execute_result"
    }
   ],
   "source": [
    "men_median_cols = get_menmedian(new_table)\n",
    "men_median = ['15-19', '15-19', '15-19', '15-19', '20-24', '10-14', '25-29', '25-29', '15-19', '20-24', '30-34', '30-34', '10-14', '20-24']\n",
    "men_median_cols"
   ]
  },
  {
   "cell_type": "markdown",
   "id": "5e78bef8",
   "metadata": {},
   "source": [
    "B08012_029 = 5-9\n",
    "B08012_030 = 10-14\n",
    "B08012_031 = 15-19\n",
    "B08012_032 = 20-24\n",
    "B08012_033 = 25-29\n",
    "B08012_034 = 30-34"
   ]
  },
  {
   "cell_type": "code",
   "execution_count": 12,
   "id": "c9a6e6f7",
   "metadata": {},
   "outputs": [
    {
     "data": {
      "text/plain": [
       "{'020604': 'B08012_031E',\n",
       " '020402': 'B08012_030E',\n",
       " '020501': 'B08012_029E',\n",
       " '020302': 'B08012_031E',\n",
       " '020603': 'B08012_032E',\n",
       " '020401': 'B08012_030E',\n",
       " '020103': 'B08012_031E',\n",
       " '020200': 'B08012_033E',\n",
       " '020502': 'B08012_030E',\n",
       " '020605': 'B08012_032E',\n",
       " '020104': 'B08012_032E',\n",
       " '020102': 'B08012_034E',\n",
       " '020301': 'B08012_030E',\n",
       " '020606': 'B08012_032E'}"
      ]
     },
     "execution_count": 12,
     "metadata": {},
     "output_type": "execute_result"
    }
   ],
   "source": [
    "women_median_cols = get_womenmedian(new_table)\n",
    "women_median = ['15-19', '10-14', '5-9', '15-19', '20-24', '10-14', '15-19', '25-29', '10-14', '20-24', '20-24', '30-34', '10-14', '20-24']\n",
    "women_median_cols"
   ]
  },
  {
   "cell_type": "code",
   "execution_count": 33,
   "id": "85e741cb",
   "metadata": {},
   "outputs": [],
   "source": [
    "base = pd.DataFrame()\n",
    "\n",
    "# Adding columns to model table\n",
    "base['GEOID'] = new_table['GEOID']\n",
    "base['geometry'] = new_table['geometry']\n",
    "base['NAME'] = new_table['NAME']\n",
    "base['state'] = new_table['state']\n",
    "base['county'] = new_table['county']\n",
    "base['tract'] = new_table['tract']\n",
    "base['population_median'] = population_median\n",
    "base['men_median'] = men_median\n",
    "base['women_median'] = women_median"
   ]
  },
  {
   "cell_type": "markdown",
   "id": "a2268ff5",
   "metadata": {},
   "source": [
    "### *Explanatory Variables*"
   ]
  },
  {
   "cell_type": "code",
   "execution_count": 34,
   "id": "f85439b5",
   "metadata": {},
   "outputs": [
    {
     "name": "stderr",
     "output_type": "stream",
     "text": [
      "C:\\Users\\sshul\\anaconda3\\envs\\gds\\lib\\site-packages\\pyproj\\crs\\crs.py:131: FutureWarning: '+init=<authority>:<code>' syntax is deprecated. '<authority>:<code>' is the preferred initialization method. When making the change, be mindful of axis order changes: https://pyproj4.github.io/pyproj/stable/gotchas.html#axis-order-changes-in-proj-6\n",
      "  in_crs_string = _prepare_from_proj_string(in_crs_string)\n",
      "C:\\Users\\sshul\\anaconda3\\envs\\gds\\lib\\site-packages\\pyproj\\crs\\crs.py:131: FutureWarning: '+init=<authority>:<code>' syntax is deprecated. '<authority>:<code>' is the preferred initialization method. When making the change, be mindful of axis order changes: https://pyproj4.github.io/pyproj/stable/gotchas.html#axis-order-changes-in-proj-6\n",
      "  in_crs_string = _prepare_from_proj_string(in_crs_string)\n",
      "C:\\Users\\sshul\\anaconda3\\envs\\gds\\lib\\site-packages\\cenpy\\products.py:762: FutureWarning: The `op` parameter is deprecated and will be removed in a future release. Please use the `predicate` parameter instead.\n",
      "  return self._from_name(county, variables, level, \"Counties\", **kwargs)\n"
     ]
    }
   ],
   "source": [
    "# people that have a wage or salary income\n",
    "salary = products.ACS(2019).from_county('Harris County, TX', level='tract', variables=['B19052_001E', 'B19052_002E'])\n",
    "p_salary = (salary['B19052_002E']/salary['B19052_001E'])\n",
    "base['p_salary'] = p_salary"
   ]
  },
  {
   "cell_type": "code",
   "execution_count": 35,
   "id": "ceb3f03e",
   "metadata": {},
   "outputs": [
    {
     "name": "stderr",
     "output_type": "stream",
     "text": [
      "C:\\Users\\sshul\\anaconda3\\envs\\gds\\lib\\site-packages\\pyproj\\crs\\crs.py:131: FutureWarning: '+init=<authority>:<code>' syntax is deprecated. '<authority>:<code>' is the preferred initialization method. When making the change, be mindful of axis order changes: https://pyproj4.github.io/pyproj/stable/gotchas.html#axis-order-changes-in-proj-6\n",
      "  in_crs_string = _prepare_from_proj_string(in_crs_string)\n",
      "C:\\Users\\sshul\\anaconda3\\envs\\gds\\lib\\site-packages\\pyproj\\crs\\crs.py:131: FutureWarning: '+init=<authority>:<code>' syntax is deprecated. '<authority>:<code>' is the preferred initialization method. When making the change, be mindful of axis order changes: https://pyproj4.github.io/pyproj/stable/gotchas.html#axis-order-changes-in-proj-6\n",
      "  in_crs_string = _prepare_from_proj_string(in_crs_string)\n",
      "C:\\Users\\sshul\\anaconda3\\envs\\gds\\lib\\site-packages\\cenpy\\products.py:762: FutureWarning: The `op` parameter is deprecated and will be removed in a future release. Please use the `predicate` parameter instead.\n",
      "  return self._from_name(county, variables, level, \"Counties\", **kwargs)\n"
     ]
    }
   ],
   "source": [
    "# percentage of people with internet access\n",
    "internet = products.ACS(2019).from_county('Harris County, TX', level='tract', variables=['B28002_002E', 'B28002_001E'])\n",
    "p_has_internet = internet['B28002_002E'] / internet['B28002_001E']\n",
    "base['p_has_internet'] = p_has_internet"
   ]
  },
  {
   "cell_type": "code",
   "execution_count": 36,
   "id": "1a3c385d",
   "metadata": {},
   "outputs": [
    {
     "name": "stderr",
     "output_type": "stream",
     "text": [
      "C:\\Users\\sshul\\anaconda3\\envs\\gds\\lib\\site-packages\\pyproj\\crs\\crs.py:131: FutureWarning: '+init=<authority>:<code>' syntax is deprecated. '<authority>:<code>' is the preferred initialization method. When making the change, be mindful of axis order changes: https://pyproj4.github.io/pyproj/stable/gotchas.html#axis-order-changes-in-proj-6\n",
      "  in_crs_string = _prepare_from_proj_string(in_crs_string)\n",
      "C:\\Users\\sshul\\anaconda3\\envs\\gds\\lib\\site-packages\\pyproj\\crs\\crs.py:131: FutureWarning: '+init=<authority>:<code>' syntax is deprecated. '<authority>:<code>' is the preferred initialization method. When making the change, be mindful of axis order changes: https://pyproj4.github.io/pyproj/stable/gotchas.html#axis-order-changes-in-proj-6\n",
      "  in_crs_string = _prepare_from_proj_string(in_crs_string)\n",
      "C:\\Users\\sshul\\anaconda3\\envs\\gds\\lib\\site-packages\\cenpy\\products.py:762: FutureWarning: The `op` parameter is deprecated and will be removed in a future release. Please use the `predicate` parameter instead.\n",
      "  return self._from_name(county, variables, level, \"Counties\", **kwargs)\n"
     ]
    }
   ],
   "source": [
    "# percentage of black people B01001B_001E\n",
    "pop = products.ACS(2019).from_county('Harris County, TX', level='tract', variables=['B01001B_001E', 'B01001_001E'])\n",
    "p_black = pop['B01001B_001E'] / pop['B01001_001E']\n",
    "base['p_black'] = p_black"
   ]
  },
  {
   "cell_type": "code",
   "execution_count": 37,
   "id": "ddc369f9",
   "metadata": {},
   "outputs": [
    {
     "name": "stderr",
     "output_type": "stream",
     "text": [
      "C:\\Users\\sshul\\anaconda3\\envs\\gds\\lib\\site-packages\\pyproj\\crs\\crs.py:131: FutureWarning: '+init=<authority>:<code>' syntax is deprecated. '<authority>:<code>' is the preferred initialization method. When making the change, be mindful of axis order changes: https://pyproj4.github.io/pyproj/stable/gotchas.html#axis-order-changes-in-proj-6\n",
      "  in_crs_string = _prepare_from_proj_string(in_crs_string)\n",
      "C:\\Users\\sshul\\anaconda3\\envs\\gds\\lib\\site-packages\\pyproj\\crs\\crs.py:131: FutureWarning: '+init=<authority>:<code>' syntax is deprecated. '<authority>:<code>' is the preferred initialization method. When making the change, be mindful of axis order changes: https://pyproj4.github.io/pyproj/stable/gotchas.html#axis-order-changes-in-proj-6\n",
      "  in_crs_string = _prepare_from_proj_string(in_crs_string)\n",
      "C:\\Users\\sshul\\anaconda3\\envs\\gds\\lib\\site-packages\\cenpy\\products.py:762: FutureWarning: The `op` parameter is deprecated and will be removed in a future release. Please use the `predicate` parameter instead.\n",
      "  return self._from_name(county, variables, level, \"Counties\", **kwargs)\n"
     ]
    }
   ],
   "source": [
    "# median total earnings B20002_001E\n",
    "earnings = products.ACS(2019).from_county('Harris County, TX', level='tract', variables=['B20002_001E'])\n",
    "base['med_total_earnings'] = earnings['B20002_001E']"
   ]
  },
  {
   "cell_type": "code",
   "execution_count": 38,
   "id": "4a7bbef6",
   "metadata": {},
   "outputs": [
    {
     "name": "stderr",
     "output_type": "stream",
     "text": [
      "C:\\Users\\sshul\\anaconda3\\envs\\gds\\lib\\site-packages\\pyproj\\crs\\crs.py:131: FutureWarning: '+init=<authority>:<code>' syntax is deprecated. '<authority>:<code>' is the preferred initialization method. When making the change, be mindful of axis order changes: https://pyproj4.github.io/pyproj/stable/gotchas.html#axis-order-changes-in-proj-6\n",
      "  in_crs_string = _prepare_from_proj_string(in_crs_string)\n",
      "C:\\Users\\sshul\\anaconda3\\envs\\gds\\lib\\site-packages\\pyproj\\crs\\crs.py:131: FutureWarning: '+init=<authority>:<code>' syntax is deprecated. '<authority>:<code>' is the preferred initialization method. When making the change, be mindful of axis order changes: https://pyproj4.github.io/pyproj/stable/gotchas.html#axis-order-changes-in-proj-6\n",
      "  in_crs_string = _prepare_from_proj_string(in_crs_string)\n",
      "C:\\Users\\sshul\\anaconda3\\envs\\gds\\lib\\site-packages\\cenpy\\products.py:762: FutureWarning: The `op` parameter is deprecated and will be removed in a future release. Please use the `predicate` parameter instead.\n",
      "  return self._from_name(county, variables, level, \"Counties\", **kwargs)\n"
     ]
    }
   ],
   "source": [
    "# total B08124_001E\n",
    "# percent drove alone to work B08124_008E\n",
    "# percent drove carpooled B08124_015E\n",
    "# percent public transportation B08124_022E\n",
    "# percent walked B08124_029E\n",
    "# percent bicycle/motorcycle/taxi/other B08124_036E\n",
    "# percent worked from home B08124_043E\n",
    "transportation = products.ACS(2019).from_county('Harris County, TX', level='tract', variables=['B08124_001E', 'B08124_008E', 'B08124_015E', 'B08124_022E', 'B08124_029E', 'B08124_036E', 'B08124_043E'])\n",
    "\n",
    "p_drovealone = transportation['B08124_008E'] / transportation['B08124_001E']\n",
    "p_carpool = transportation['B08124_015E'] / transportation['B08124_001E']\n",
    "p_publictrans = transportation['B08124_022E'] / transportation['B08124_001E']\n",
    "p_walked = transportation['B08124_029E'] / transportation['B08124_001E']\n",
    "p_bikemotorother = transportation['B08124_036E'] / transportation['B08124_001E']\n",
    "p_workfromhome = transportation['B08124_043E'] / transportation['B08124_001E']\n",
    "\n",
    "base['p_drovealone'] = p_drovealone\n",
    "base['p_carpool'] = p_carpool\n",
    "base['p_publictrans'] = p_publictrans\n",
    "base['p_walked'] = p_walked\n",
    "base['p_bikemotorother'] = p_bikemotorother\n",
    "base['p_workfromhome'] = p_workfromhome"
   ]
  },
  {
   "cell_type": "code",
   "execution_count": 39,
   "id": "c29f423a",
   "metadata": {},
   "outputs": [
    {
     "name": "stderr",
     "output_type": "stream",
     "text": [
      "C:\\Users\\sshul\\anaconda3\\envs\\gds\\lib\\site-packages\\pyproj\\crs\\crs.py:131: FutureWarning: '+init=<authority>:<code>' syntax is deprecated. '<authority>:<code>' is the preferred initialization method. When making the change, be mindful of axis order changes: https://pyproj4.github.io/pyproj/stable/gotchas.html#axis-order-changes-in-proj-6\n",
      "  in_crs_string = _prepare_from_proj_string(in_crs_string)\n",
      "C:\\Users\\sshul\\anaconda3\\envs\\gds\\lib\\site-packages\\pyproj\\crs\\crs.py:131: FutureWarning: '+init=<authority>:<code>' syntax is deprecated. '<authority>:<code>' is the preferred initialization method. When making the change, be mindful of axis order changes: https://pyproj4.github.io/pyproj/stable/gotchas.html#axis-order-changes-in-proj-6\n",
      "  in_crs_string = _prepare_from_proj_string(in_crs_string)\n",
      "C:\\Users\\sshul\\anaconda3\\envs\\gds\\lib\\site-packages\\cenpy\\products.py:762: FutureWarning: The `op` parameter is deprecated and will be removed in a future release. Please use the `predicate` parameter instead.\n",
      "  return self._from_name(county, variables, level, \"Counties\", **kwargs)\n"
     ]
    }
   ],
   "source": [
    "# percent with health insurance 26-64\n",
    "insurance = products.ACS(2019).from_county('Harris County, TX', level='tract', variables=['B27019_001E', 'B27019_004E', 'B27019_009E', 'B27019_014E', 'B27019_019E'])\n",
    "p_healthinsurance = (insurance['B27019_004E'] + insurance['B27019_009E'] + insurance['B27019_014E'] + insurance['B27019_019E']) / insurance['B27019_001E']\n",
    "base['p_healthinsurance'] = p_healthinsurance"
   ]
  },
  {
   "cell_type": "code",
   "execution_count": 40,
   "id": "ba1c5e29",
   "metadata": {},
   "outputs": [],
   "source": [
    "pm_int = []\n",
    "for item in population_median:\n",
    "    if item == '5-9':\n",
    "        pm_int.append(7)\n",
    "        \n",
    "    elif item == '10-14':\n",
    "        pm_int.append(12)\n",
    "        \n",
    "    elif item == '15-19':\n",
    "        pm_int.append(17)\n",
    "        \n",
    "    elif item == '20-24':\n",
    "        pm_int.append(22)\n",
    "        \n",
    "    elif item == '25-29':\n",
    "        pm_int.append(27)\n",
    "        \n",
    "    elif item == '30-34':\n",
    "        pm_int.append(32)\n",
    "        \n",
    "base['pm_int'] = pm_int"
   ]
  },
  {
   "cell_type": "code",
   "execution_count": 41,
   "id": "82f1e3b1",
   "metadata": {},
   "outputs": [],
   "source": [
    "wm_int = []\n",
    "for item in women_median:\n",
    "    if item == '5-9':\n",
    "        wm_int.append(7)\n",
    "        \n",
    "    elif item == '10-14':\n",
    "        wm_int.append(12)\n",
    "        \n",
    "    elif item == '15-19':\n",
    "        wm_int.append(17)\n",
    "        \n",
    "    elif item == '20-24':\n",
    "        wm_int.append(22)\n",
    "        \n",
    "    elif item == '25-29':\n",
    "        wm_int.append(27)\n",
    "        \n",
    "    elif item == '30-34':\n",
    "        wm_int.append(32)\n",
    "        \n",
    "base['wm_int'] = wm_int"
   ]
  },
  {
   "cell_type": "code",
   "execution_count": 42,
   "id": "d644eb4b",
   "metadata": {},
   "outputs": [],
   "source": [
    "mm_int = []\n",
    "for item in men_median:\n",
    "    if item == '5-9':\n",
    "        mm_int.append(7)\n",
    "        \n",
    "    elif item == '10-14':\n",
    "        mm_int.append(12)\n",
    "        \n",
    "    elif item == '15-19':\n",
    "        mm_int.append(17)\n",
    "        \n",
    "    elif item == '20-24':\n",
    "        mm_int.append(22)\n",
    "        \n",
    "    elif item == '25-29':\n",
    "        mm_int.append(27)\n",
    "        \n",
    "    elif item == '30-34':\n",
    "        mm_int.append(32)\n",
    "        \n",
    "    else:\n",
    "        mm_int.append('problem')\n",
    "        \n",
    "base['mm_int'] = mm_int"
   ]
  },
  {
   "cell_type": "markdown",
   "id": "fe31c0f8",
   "metadata": {},
   "source": [
    "## Analysis:"
   ]
  },
  {
   "cell_type": "markdown",
   "id": "cbd464a6",
   "metadata": {},
   "source": [
    "### *Correlation Matrix*"
   ]
  },
  {
   "cell_type": "code",
   "execution_count": 87,
   "id": "6711697c",
   "metadata": {},
   "outputs": [],
   "source": [
    "# Compute correlation matrix\n",
    "feature_list =  ['pm_int','mm_int','wm_int','p_carpool', 'p_has_internet', 'p_healthinsurance', 'med_total_earnings', 'p_drovealone', 'p_salary', 'p_walked', 'p_workfromhome', 'p_bikemotorother', 'p_black']\n",
    "corr_matrix = base[feature_list].corr()\n",
    "\n",
    "# Display just house value correlations\n",
    "#corr_matrix['population_median'].sort_values(ascending = False)"
   ]
  },
  {
   "cell_type": "code",
   "execution_count": 88,
   "id": "7d849e98",
   "metadata": {},
   "outputs": [
    {
     "data": {
      "text/plain": [
       "pm_int                1.000000\n",
       "wm_int                0.939520\n",
       "mm_int                0.935032\n",
       "p_carpool             0.365044\n",
       "p_has_internet        0.263626\n",
       "p_healthinsurance     0.248170\n",
       "med_total_earnings    0.240417\n",
       "p_drovealone         -0.045760\n",
       "p_salary             -0.056781\n",
       "p_walked             -0.202142\n",
       "p_workfromhome       -0.234144\n",
       "p_bikemotorother     -0.235797\n",
       "p_black              -0.396460\n",
       "Name: pm_int, dtype: float64"
      ]
     },
     "execution_count": 88,
     "metadata": {},
     "output_type": "execute_result"
    }
   ],
   "source": [
    "corr_matrix['pm_int'].sort_values(ascending = False)"
   ]
  },
  {
   "cell_type": "code",
   "execution_count": 89,
   "id": "4a605ad1",
   "metadata": {
    "scrolled": true
   },
   "outputs": [
    {
     "data": {
      "text/html": [
       "<div>\n",
       "<style scoped>\n",
       "    .dataframe tbody tr th:only-of-type {\n",
       "        vertical-align: middle;\n",
       "    }\n",
       "\n",
       "    .dataframe tbody tr th {\n",
       "        vertical-align: top;\n",
       "    }\n",
       "\n",
       "    .dataframe thead th {\n",
       "        text-align: right;\n",
       "    }\n",
       "</style>\n",
       "<table border=\"1\" class=\"dataframe\">\n",
       "  <thead>\n",
       "    <tr style=\"text-align: right;\">\n",
       "      <th></th>\n",
       "      <th>pm_int</th>\n",
       "      <th>mm_int</th>\n",
       "      <th>wm_int</th>\n",
       "      <th>p_carpool</th>\n",
       "      <th>p_has_internet</th>\n",
       "      <th>p_healthinsurance</th>\n",
       "      <th>med_total_earnings</th>\n",
       "      <th>p_drovealone</th>\n",
       "      <th>p_salary</th>\n",
       "      <th>p_walked</th>\n",
       "      <th>p_workfromhome</th>\n",
       "      <th>p_bikemotorother</th>\n",
       "      <th>p_black</th>\n",
       "    </tr>\n",
       "  </thead>\n",
       "  <tbody>\n",
       "    <tr>\n",
       "      <th>pm_int</th>\n",
       "      <td>1.000000</td>\n",
       "      <td>0.935032</td>\n",
       "      <td>0.939520</td>\n",
       "      <td>0.365044</td>\n",
       "      <td>0.263626</td>\n",
       "      <td>0.248170</td>\n",
       "      <td>0.240417</td>\n",
       "      <td>-0.045760</td>\n",
       "      <td>-0.056781</td>\n",
       "      <td>-0.202142</td>\n",
       "      <td>-0.234144</td>\n",
       "      <td>-0.235797</td>\n",
       "      <td>-0.396460</td>\n",
       "    </tr>\n",
       "    <tr>\n",
       "      <th>mm_int</th>\n",
       "      <td>0.935032</td>\n",
       "      <td>1.000000</td>\n",
       "      <td>0.798898</td>\n",
       "      <td>0.400102</td>\n",
       "      <td>0.227523</td>\n",
       "      <td>0.128535</td>\n",
       "      <td>0.263632</td>\n",
       "      <td>-0.038123</td>\n",
       "      <td>-0.070714</td>\n",
       "      <td>-0.307569</td>\n",
       "      <td>-0.299316</td>\n",
       "      <td>-0.163685</td>\n",
       "      <td>-0.399368</td>\n",
       "    </tr>\n",
       "    <tr>\n",
       "      <th>wm_int</th>\n",
       "      <td>0.939520</td>\n",
       "      <td>0.798898</td>\n",
       "      <td>1.000000</td>\n",
       "      <td>0.386969</td>\n",
       "      <td>0.387064</td>\n",
       "      <td>0.311710</td>\n",
       "      <td>0.258892</td>\n",
       "      <td>-0.120626</td>\n",
       "      <td>-0.082084</td>\n",
       "      <td>-0.132188</td>\n",
       "      <td>-0.211461</td>\n",
       "      <td>-0.173689</td>\n",
       "      <td>-0.508800</td>\n",
       "    </tr>\n",
       "    <tr>\n",
       "      <th>p_carpool</th>\n",
       "      <td>0.365044</td>\n",
       "      <td>0.400102</td>\n",
       "      <td>0.386969</td>\n",
       "      <td>1.000000</td>\n",
       "      <td>0.156718</td>\n",
       "      <td>-0.185822</td>\n",
       "      <td>0.112476</td>\n",
       "      <td>-0.679211</td>\n",
       "      <td>-0.284643</td>\n",
       "      <td>-0.235007</td>\n",
       "      <td>-0.423556</td>\n",
       "      <td>0.237530</td>\n",
       "      <td>-0.249116</td>\n",
       "    </tr>\n",
       "    <tr>\n",
       "      <th>p_has_internet</th>\n",
       "      <td>0.263626</td>\n",
       "      <td>0.227523</td>\n",
       "      <td>0.387064</td>\n",
       "      <td>0.156718</td>\n",
       "      <td>1.000000</td>\n",
       "      <td>0.455018</td>\n",
       "      <td>0.769319</td>\n",
       "      <td>0.238931</td>\n",
       "      <td>0.617957</td>\n",
       "      <td>0.045473</td>\n",
       "      <td>-0.484293</td>\n",
       "      <td>-0.178152</td>\n",
       "      <td>-0.786264</td>\n",
       "    </tr>\n",
       "    <tr>\n",
       "      <th>p_healthinsurance</th>\n",
       "      <td>0.248170</td>\n",
       "      <td>0.128535</td>\n",
       "      <td>0.311710</td>\n",
       "      <td>-0.185822</td>\n",
       "      <td>0.455018</td>\n",
       "      <td>1.000000</td>\n",
       "      <td>0.421512</td>\n",
       "      <td>0.304140</td>\n",
       "      <td>0.415393</td>\n",
       "      <td>0.290752</td>\n",
       "      <td>-0.248650</td>\n",
       "      <td>-0.076531</td>\n",
       "      <td>-0.324221</td>\n",
       "    </tr>\n",
       "    <tr>\n",
       "      <th>med_total_earnings</th>\n",
       "      <td>0.240417</td>\n",
       "      <td>0.263632</td>\n",
       "      <td>0.258892</td>\n",
       "      <td>0.112476</td>\n",
       "      <td>0.769319</td>\n",
       "      <td>0.421512</td>\n",
       "      <td>1.000000</td>\n",
       "      <td>0.469803</td>\n",
       "      <td>0.523761</td>\n",
       "      <td>-0.268915</td>\n",
       "      <td>-0.469002</td>\n",
       "      <td>-0.520046</td>\n",
       "      <td>-0.776092</td>\n",
       "    </tr>\n",
       "    <tr>\n",
       "      <th>p_drovealone</th>\n",
       "      <td>-0.045760</td>\n",
       "      <td>-0.038123</td>\n",
       "      <td>-0.120626</td>\n",
       "      <td>-0.679211</td>\n",
       "      <td>0.238931</td>\n",
       "      <td>0.304140</td>\n",
       "      <td>0.469803</td>\n",
       "      <td>1.000000</td>\n",
       "      <td>0.428127</td>\n",
       "      <td>0.116340</td>\n",
       "      <td>-0.222742</td>\n",
       "      <td>-0.647335</td>\n",
       "      <td>-0.101133</td>\n",
       "    </tr>\n",
       "    <tr>\n",
       "      <th>p_salary</th>\n",
       "      <td>-0.056781</td>\n",
       "      <td>-0.070714</td>\n",
       "      <td>-0.082084</td>\n",
       "      <td>-0.284643</td>\n",
       "      <td>0.617957</td>\n",
       "      <td>0.415393</td>\n",
       "      <td>0.523761</td>\n",
       "      <td>0.428127</td>\n",
       "      <td>1.000000</td>\n",
       "      <td>0.151441</td>\n",
       "      <td>-0.147793</td>\n",
       "      <td>-0.258834</td>\n",
       "      <td>-0.336662</td>\n",
       "    </tr>\n",
       "    <tr>\n",
       "      <th>p_walked</th>\n",
       "      <td>-0.202142</td>\n",
       "      <td>-0.307569</td>\n",
       "      <td>-0.132188</td>\n",
       "      <td>-0.235007</td>\n",
       "      <td>0.045473</td>\n",
       "      <td>0.290752</td>\n",
       "      <td>-0.268915</td>\n",
       "      <td>0.116340</td>\n",
       "      <td>0.151441</td>\n",
       "      <td>1.000000</td>\n",
       "      <td>-0.282189</td>\n",
       "      <td>0.180077</td>\n",
       "      <td>0.426159</td>\n",
       "    </tr>\n",
       "    <tr>\n",
       "      <th>p_workfromhome</th>\n",
       "      <td>-0.234144</td>\n",
       "      <td>-0.299316</td>\n",
       "      <td>-0.211461</td>\n",
       "      <td>-0.423556</td>\n",
       "      <td>-0.484293</td>\n",
       "      <td>-0.248650</td>\n",
       "      <td>-0.469002</td>\n",
       "      <td>-0.222742</td>\n",
       "      <td>-0.147793</td>\n",
       "      <td>-0.282189</td>\n",
       "      <td>1.000000</td>\n",
       "      <td>0.010280</td>\n",
       "      <td>0.234248</td>\n",
       "    </tr>\n",
       "    <tr>\n",
       "      <th>p_bikemotorother</th>\n",
       "      <td>-0.235797</td>\n",
       "      <td>-0.163685</td>\n",
       "      <td>-0.173689</td>\n",
       "      <td>0.237530</td>\n",
       "      <td>-0.178152</td>\n",
       "      <td>-0.076531</td>\n",
       "      <td>-0.520046</td>\n",
       "      <td>-0.647335</td>\n",
       "      <td>-0.258834</td>\n",
       "      <td>0.180077</td>\n",
       "      <td>0.010280</td>\n",
       "      <td>1.000000</td>\n",
       "      <td>0.207486</td>\n",
       "    </tr>\n",
       "    <tr>\n",
       "      <th>p_black</th>\n",
       "      <td>-0.396460</td>\n",
       "      <td>-0.399368</td>\n",
       "      <td>-0.508800</td>\n",
       "      <td>-0.249116</td>\n",
       "      <td>-0.786264</td>\n",
       "      <td>-0.324221</td>\n",
       "      <td>-0.776092</td>\n",
       "      <td>-0.101133</td>\n",
       "      <td>-0.336662</td>\n",
       "      <td>0.426159</td>\n",
       "      <td>0.234248</td>\n",
       "      <td>0.207486</td>\n",
       "      <td>1.000000</td>\n",
       "    </tr>\n",
       "  </tbody>\n",
       "</table>\n",
       "</div>"
      ],
      "text/plain": [
       "                      pm_int    mm_int    wm_int  p_carpool  p_has_internet  \\\n",
       "pm_int              1.000000  0.935032  0.939520   0.365044        0.263626   \n",
       "mm_int              0.935032  1.000000  0.798898   0.400102        0.227523   \n",
       "wm_int              0.939520  0.798898  1.000000   0.386969        0.387064   \n",
       "p_carpool           0.365044  0.400102  0.386969   1.000000        0.156718   \n",
       "p_has_internet      0.263626  0.227523  0.387064   0.156718        1.000000   \n",
       "p_healthinsurance   0.248170  0.128535  0.311710  -0.185822        0.455018   \n",
       "med_total_earnings  0.240417  0.263632  0.258892   0.112476        0.769319   \n",
       "p_drovealone       -0.045760 -0.038123 -0.120626  -0.679211        0.238931   \n",
       "p_salary           -0.056781 -0.070714 -0.082084  -0.284643        0.617957   \n",
       "p_walked           -0.202142 -0.307569 -0.132188  -0.235007        0.045473   \n",
       "p_workfromhome     -0.234144 -0.299316 -0.211461  -0.423556       -0.484293   \n",
       "p_bikemotorother   -0.235797 -0.163685 -0.173689   0.237530       -0.178152   \n",
       "p_black            -0.396460 -0.399368 -0.508800  -0.249116       -0.786264   \n",
       "\n",
       "                    p_healthinsurance  med_total_earnings  p_drovealone  \\\n",
       "pm_int                       0.248170            0.240417     -0.045760   \n",
       "mm_int                       0.128535            0.263632     -0.038123   \n",
       "wm_int                       0.311710            0.258892     -0.120626   \n",
       "p_carpool                   -0.185822            0.112476     -0.679211   \n",
       "p_has_internet               0.455018            0.769319      0.238931   \n",
       "p_healthinsurance            1.000000            0.421512      0.304140   \n",
       "med_total_earnings           0.421512            1.000000      0.469803   \n",
       "p_drovealone                 0.304140            0.469803      1.000000   \n",
       "p_salary                     0.415393            0.523761      0.428127   \n",
       "p_walked                     0.290752           -0.268915      0.116340   \n",
       "p_workfromhome              -0.248650           -0.469002     -0.222742   \n",
       "p_bikemotorother            -0.076531           -0.520046     -0.647335   \n",
       "p_black                     -0.324221           -0.776092     -0.101133   \n",
       "\n",
       "                    p_salary  p_walked  p_workfromhome  p_bikemotorother  \\\n",
       "pm_int             -0.056781 -0.202142       -0.234144         -0.235797   \n",
       "mm_int             -0.070714 -0.307569       -0.299316         -0.163685   \n",
       "wm_int             -0.082084 -0.132188       -0.211461         -0.173689   \n",
       "p_carpool          -0.284643 -0.235007       -0.423556          0.237530   \n",
       "p_has_internet      0.617957  0.045473       -0.484293         -0.178152   \n",
       "p_healthinsurance   0.415393  0.290752       -0.248650         -0.076531   \n",
       "med_total_earnings  0.523761 -0.268915       -0.469002         -0.520046   \n",
       "p_drovealone        0.428127  0.116340       -0.222742         -0.647335   \n",
       "p_salary            1.000000  0.151441       -0.147793         -0.258834   \n",
       "p_walked            0.151441  1.000000       -0.282189          0.180077   \n",
       "p_workfromhome     -0.147793 -0.282189        1.000000          0.010280   \n",
       "p_bikemotorother   -0.258834  0.180077        0.010280          1.000000   \n",
       "p_black            -0.336662  0.426159        0.234248          0.207486   \n",
       "\n",
       "                     p_black  \n",
       "pm_int             -0.396460  \n",
       "mm_int             -0.399368  \n",
       "wm_int             -0.508800  \n",
       "p_carpool          -0.249116  \n",
       "p_has_internet     -0.786264  \n",
       "p_healthinsurance  -0.324221  \n",
       "med_total_earnings -0.776092  \n",
       "p_drovealone       -0.101133  \n",
       "p_salary           -0.336662  \n",
       "p_walked            0.426159  \n",
       "p_workfromhome      0.234248  \n",
       "p_bikemotorother    0.207486  \n",
       "p_black             1.000000  "
      ]
     },
     "execution_count": 89,
     "metadata": {},
     "output_type": "execute_result"
    }
   ],
   "source": [
    "corr_matrix"
   ]
  },
  {
   "cell_type": "code",
   "execution_count": 90,
   "id": "8669a5cb",
   "metadata": {},
   "outputs": [
    {
     "name": "stderr",
     "output_type": "stream",
     "text": [
      "No artists with labels found to put in legend.  Note that artists whose label start with an underscore are ignored when legend() is called with no argument.\n"
     ]
    },
    {
     "data": {
      "image/png": "[encoded data removed]",
      "text/plain": [
       "<Figure size 432x288 with 1 Axes>"
      ]
     },
     "metadata": {
      "needs_background": "light"
     },
     "output_type": "display_data"
    }
   ],
   "source": [
    "# Histogram of correlation matrix \n",
    "\n",
    "width = 0.8\n",
    "corr_matrix_sub = corr_matrix.loc['pm_int',:].sort_values(ascending = True)\n",
    "plt.barh(range(0, len(feature_list)), corr_matrix_sub, height = width, color = 'b')\n",
    "#plt.bar(2, base['pm_int'], width = width, color = 'r', alpha = 0.5, label = 'Median travel time in the entire population')\n",
    "plt.yticks(np.array(range(0, len(feature_list))), corr_matrix_sub.index)\n",
    "plt.legend()\n",
    "plt.title('Correlation between population median travel time per tract and explanatory variables.')\n",
    "plt.show()"
   ]
  },
  {
   "cell_type": "code",
   "execution_count": 47,
   "id": "561a08e0",
   "metadata": {},
   "outputs": [
    {
     "data": {
      "text/plain": [
       "p_black              -0.396460\n",
       "p_bikemotorother     -0.235797\n",
       "p_workfromhome       -0.234144\n",
       "p_walked             -0.202142\n",
       "p_salary             -0.056781\n",
       "p_drovealone         -0.045760\n",
       "med_total_earnings    0.240417\n",
       "p_healthinsurance     0.248170\n",
       "p_has_internet        0.263626\n",
       "p_carpool             0.365044\n",
       "mm_int                0.935032\n",
       "wm_int                0.939520\n",
       "pm_int                1.000000\n",
       "Name: pm_int, dtype: float64"
      ]
     },
     "execution_count": 47,
     "metadata": {},
     "output_type": "execute_result"
    }
   ],
   "source": [
    "corr_matrix.loc['pm_int',:].sort_values(ascending = True)"
   ]
  },
  {
   "cell_type": "code",
   "execution_count": 48,
   "id": "3e29f7ba",
   "metadata": {},
   "outputs": [
    {
     "data": {
      "text/plain": [
       "p_black              -0.508800\n",
       "p_workfromhome       -0.211461\n",
       "p_bikemotorother     -0.173689\n",
       "p_walked             -0.132188\n",
       "p_drovealone         -0.120626\n",
       "p_salary             -0.082084\n",
       "med_total_earnings    0.258892\n",
       "p_healthinsurance     0.311710\n",
       "p_carpool             0.386969\n",
       "p_has_internet        0.387064\n",
       "mm_int                0.798898\n",
       "pm_int                0.939520\n",
       "wm_int                1.000000\n",
       "Name: wm_int, dtype: float64"
      ]
     },
     "execution_count": 48,
     "metadata": {},
     "output_type": "execute_result"
    }
   ],
   "source": [
    "corr_matrix.loc['wm_int',:].sort_values(ascending = True)"
   ]
  },
  {
   "cell_type": "code",
   "execution_count": 69,
   "id": "1fcbf109",
   "metadata": {},
   "outputs": [],
   "source": [
    "\n",
    "#sns.set_theme(style=\"ticks\")\n",
    "# Define feature list\n",
    "#feature_list =  ['p_carpool', 'B19052_002E', 'p_has_internet', 'p_healthinsurance', 'med_total_earnings', 'p_drovealone', 'p_salary', 'p_walked', 'p_workfromhome', 'p_bikemotorother', 'p_black']\n",
    "\n",
    "#sns.pairplot(base[feature_list])"
   ]
  },
  {
   "cell_type": "markdown",
   "id": "d8c08c79",
   "metadata": {},
   "source": [
    "## Model"
   ]
  },
  {
   "cell_type": "code",
   "execution_count": 72,
   "id": "8d7248c2",
   "metadata": {},
   "outputs": [],
   "source": [
    "# Define feature list\n",
    "feature_list =  ['p_carpool', 'p_has_internet', 'p_healthinsurance', 'med_total_earnings', 'p_drovealone', 'p_salary', 'p_walked', 'p_workfromhome', 'p_bikemotorother', 'p_black']\n",
    "\n",
    "# Define features and labels \n",
    "X = base[feature_list]\n",
    "y = base['pm_int']\n",
    "\n",
    "# Standarize data\n",
    "scaler = StandardScaler()  \n",
    "scaler_fit = scaler.fit(X)\n",
    "X_scaled = scaler_fit.transform(X)"
   ]
  },
  {
   "cell_type": "code",
   "execution_count": 73,
   "id": "f46dca92",
   "metadata": {},
   "outputs": [],
   "source": [
    "# Split data \n",
    "X_train, X_test, y_train, y_test = train_test_split(X_scaled, y, test_size=0.2, random_state=42)"
   ]
  },
  {
   "cell_type": "code",
   "execution_count": 74,
   "id": "438d82a0",
   "metadata": {},
   "outputs": [
    {
     "data": {
      "text/plain": [
       "RandomForestRegressor(n_estimators=300)"
      ]
     },
     "execution_count": 74,
     "metadata": {},
     "output_type": "execute_result"
    }
   ],
   "source": [
    "# Define model\n",
    "forest_reg = RandomForestRegressor(n_estimators = 300)\n",
    "\n",
    "# Fit model\n",
    "forest_reg.fit(X_train, y_train)"
   ]
  },
  {
   "cell_type": "code",
   "execution_count": 75,
   "id": "53097aa7",
   "metadata": {},
   "outputs": [
    {
     "data": {
      "text/plain": [
       "8.520704630921518"
      ]
     },
     "execution_count": 75,
     "metadata": {},
     "output_type": "execute_result"
    }
   ],
   "source": [
    "# Predict test labels predictions\n",
    "predictions = forest_reg.predict(X_test)\n",
    "\n",
    "# Compute mean-squared-error\n",
    "final_mse = mean_squared_error(y_test , predictions)\n",
    "final_rmse = np.sqrt(final_mse)\n",
    "final_rmse"
   ]
  },
  {
   "cell_type": "code",
   "execution_count": 76,
   "id": "a59ab729",
   "metadata": {},
   "outputs": [
    {
     "name": "stderr",
     "output_type": "stream",
     "text": [
      "C:\\Users\\sshul\\anaconda3\\envs\\gds\\lib\\site-packages\\sklearn\\base.py:443: UserWarning: X has feature names, but RandomForestRegressor was fitted without feature names\n",
      "  warnings.warn(\n"
     ]
    }
   ],
   "source": [
    "predictions = forest_reg.predict(X)\n"
   ]
  },
  {
   "cell_type": "code",
   "execution_count": 77,
   "id": "d8bd3417",
   "metadata": {},
   "outputs": [],
   "source": [
    "linreg = LinearRegression().fit(X, y)\n",
    "linreg_prediction = linreg.predict(X)"
   ]
  },
  {
   "cell_type": "code",
   "execution_count": 78,
   "id": "b3cd7819",
   "metadata": {},
   "outputs": [],
   "source": [
    "coefs_arr = np.hstack([np.array([linreg.intercept_]), linreg.coef_])"
   ]
  },
  {
   "cell_type": "code",
   "execution_count": 79,
   "id": "e1de3b5e",
   "metadata": {},
   "outputs": [
    {
     "data": {
      "text/html": [
       "<div>\n",
       "<style scoped>\n",
       "    .dataframe tbody tr th:only-of-type {\n",
       "        vertical-align: middle;\n",
       "    }\n",
       "\n",
       "    .dataframe tbody tr th {\n",
       "        vertical-align: top;\n",
       "    }\n",
       "\n",
       "    .dataframe thead th {\n",
       "        text-align: right;\n",
       "    }\n",
       "</style>\n",
       "<table border=\"1\" class=\"dataframe\">\n",
       "  <thead>\n",
       "    <tr style=\"text-align: right;\">\n",
       "      <th></th>\n",
       "      <th>Variable</th>\n",
       "      <th>Coefficient</th>\n",
       "    </tr>\n",
       "  </thead>\n",
       "  <tbody>\n",
       "    <tr>\n",
       "      <th>0</th>\n",
       "      <td>Intercept</td>\n",
       "      <td>-79.839072</td>\n",
       "    </tr>\n",
       "    <tr>\n",
       "      <th>1</th>\n",
       "      <td>p_carpool</td>\n",
       "      <td>167.932683</td>\n",
       "    </tr>\n",
       "    <tr>\n",
       "      <th>2</th>\n",
       "      <td>p_has_internet</td>\n",
       "      <td>10.689345</td>\n",
       "    </tr>\n",
       "    <tr>\n",
       "      <th>3</th>\n",
       "      <td>p_healthinsurance</td>\n",
       "      <td>38.905217</td>\n",
       "    </tr>\n",
       "    <tr>\n",
       "      <th>4</th>\n",
       "      <td>med_total_earnings</td>\n",
       "      <td>-0.001062</td>\n",
       "    </tr>\n",
       "    <tr>\n",
       "      <th>5</th>\n",
       "      <td>p_drovealone</td>\n",
       "      <td>117.622579</td>\n",
       "    </tr>\n",
       "    <tr>\n",
       "      <th>6</th>\n",
       "      <td>p_salary</td>\n",
       "      <td>-0.578936</td>\n",
       "    </tr>\n",
       "    <tr>\n",
       "      <th>7</th>\n",
       "      <td>p_walked</td>\n",
       "      <td>-135.391135</td>\n",
       "    </tr>\n",
       "    <tr>\n",
       "      <th>8</th>\n",
       "      <td>p_workfromhome</td>\n",
       "      <td>16.309589</td>\n",
       "    </tr>\n",
       "    <tr>\n",
       "      <th>9</th>\n",
       "      <td>p_bikemotorother</td>\n",
       "      <td>-166.473715</td>\n",
       "    </tr>\n",
       "    <tr>\n",
       "      <th>10</th>\n",
       "      <td>p_black</td>\n",
       "      <td>-23.391013</td>\n",
       "    </tr>\n",
       "  </tbody>\n",
       "</table>\n",
       "</div>"
      ],
      "text/plain": [
       "              Variable  Coefficient\n",
       "0            Intercept   -79.839072\n",
       "1            p_carpool   167.932683\n",
       "2       p_has_internet    10.689345\n",
       "3    p_healthinsurance    38.905217\n",
       "4   med_total_earnings    -0.001062\n",
       "5         p_drovealone   117.622579\n",
       "6             p_salary    -0.578936\n",
       "7             p_walked  -135.391135\n",
       "8       p_workfromhome    16.309589\n",
       "9     p_bikemotorother  -166.473715\n",
       "10             p_black   -23.391013"
      ]
     },
     "execution_count": 79,
     "metadata": {},
     "output_type": "execute_result"
    }
   ],
   "source": [
    "coln = ['Intercept', 'p_carpool', 'p_has_internet', 'p_healthinsurance', 'med_total_earnings', 'p_drovealone', 'p_salary', 'p_walked', 'p_workfromhome', 'p_bikemotorother', 'p_black']\n",
    "pd.DataFrame({'Variable': coln, 'Coefficient': coefs_arr})"
   ]
  },
  {
   "cell_type": "code",
   "execution_count": 80,
   "id": "5eb818ba",
   "metadata": {},
   "outputs": [
    {
     "data": {
      "text/plain": [
       "6.093513986068523"
      ]
     },
     "execution_count": 80,
     "metadata": {},
     "output_type": "execute_result"
    }
   ],
   "source": [
    "# Compute mean-squared-error\n",
    "final_mse = mean_squared_error(y , predictions)\n",
    "final_rmse = np.sqrt(final_mse)\n",
    "final_rmse"
   ]
  },
  {
   "cell_type": "markdown",
   "id": "e717d40f",
   "metadata": {},
   "source": [
    "# VISUALIZATIONS"
   ]
  },
  {
   "cell_type": "code",
   "execution_count": 84,
   "id": "7a490be0",
   "metadata": {},
   "outputs": [
    {
     "data": {
      "text/plain": [
       "(0.0, 50.0)"
      ]
     },
     "execution_count": 84,
     "metadata": {},
     "output_type": "execute_result"
    },
    {
     "data": {
      "image/png": "[encoded data removed]",
      "text/plain": [
       "<Figure size 576x576 with 1 Axes>"
      ]
     },
     "metadata": {
      "needs_background": "light"
     },
     "output_type": "display_data"
    }
   ],
   "source": [
    "# Plot\n",
    "fig, ax = plt.subplots(figsize=(8, 8))\n",
    "ax.scatter(y, linreg_prediction, alpha=0.4, s=50, zorder=2)\n",
    "ax.plot([0, 80], [0, 80], color='k', lw=1, zorder=3)\n",
    "ax.set_ylabel('Predicted time of travel', fontsize=14)\n",
    "ax.set_xlabel('Observed time of travel', fontsize=14)\n",
    "ax.tick_params(axis='both', which='major', labelsize=13)\n",
    "ax.grid(ls='dashed', lw=1, zorder=1)\n",
    "ax.set_ylim(0,50)\n",
    "ax.set_xlim(0,50)"
   ]
  },
  {
   "cell_type": "code",
   "execution_count": 36,
   "id": "080a2c4b",
   "metadata": {},
   "outputs": [
    {
     "data": {
      "image/png": "[encoded data removed]",
      "text/plain": [
       "<Figure size 432x288 with 1 Axes>"
      ]
     },
     "metadata": {},
     "output_type": "display_data"
    }
   ],
   "source": [
    "\n",
    "\n",
    "#width = 0.5\n",
    "\n",
    "men_agg   = [343800.0]\n",
    "women_agg = [253860.0]\n",
    "pop_agg = [597665.0]\n",
    "\n",
    "# Pie chart, where the slices will be ordered and plotted counter-clockwise:\n",
    "labels = ['Men aggregate hours traveled', 'Women aggregate hours traveled']\n",
    "sizes = [343800.0, 253860.0]\n",
    "\n",
    "\n",
    "fig, ax = plt.subplots()\n",
    "ax.pie(sizes, labels=labels, autopct='%.0f%%')\n",
    "ax.axis('equal')  # Equal aspect ratio ensures the pie chart is circular.\n",
    "ax.set_title('Total Aggregate hours spent traveling')\n",
    " \n",
    "plt.show()"
   ]
  },
  {
   "cell_type": "code",
   "execution_count": 82,
   "id": "cf801ac0",
   "metadata": {},
   "outputs": [
    {
     "data": {
      "text/plain": [
       "array([[<AxesSubplot:title={'center':'mm_int'}>,\n",
       "        <AxesSubplot:title={'center':'wm_int'}>],\n",
       "       [<AxesSubplot:title={'center':'pm_int'}>, <AxesSubplot:>]],\n",
       "      dtype=object)"
      ]
     },
     "execution_count": 82,
     "metadata": {},
     "output_type": "execute_result"
    },
    {
     "data": {
      "image/png": "[encoded data removed]",
      "text/plain": [
       "<Figure size 432x288 with 4 Axes>"
      ]
     },
     "metadata": {
      "needs_background": "light"
     },
     "output_type": "display_data"
    }
   ],
   "source": [
    "base[['mm_int', 'wm_int', 'pm_int']].hist()"
   ]
  },
  {
   "cell_type": "code",
   "execution_count": 83,
   "id": "b412a55d",
   "metadata": {},
   "outputs": [
    {
     "data": {
      "image/png": "[encoded data removed]",
      "text/plain": [
       "<Figure size 432x288 with 1 Axes>"
      ]
     },
     "metadata": {
      "needs_background": "light"
     },
     "output_type": "display_data"
    }
   ],
   "source": [
    "width = 0.8\n",
    "#plt.bar(1, new_table['B08013_001E'], width = width, color = 'b', label = 'Aggregate commute time')\n",
    "plt.bar(1, new_table['B08013_002E'].sum(), width = width, color = 'r', alpha = 0.5, label = 'Aggregate commute time for men')\n",
    "plt.bar(2, new_table['B08013_003E'].sum(), width = width, color = 'g', alpha = 0.5, label = 'Aggregate commute time for women')\n",
    "plt.xticks(np.array([0.5, 1.5]), ['',''])\n",
    "plt.legend()\n",
    "plt.title('Aggregate commute time per day by gender')\n",
    "plt.show()"
   ]
  },
  {
   "cell_type": "code",
   "execution_count": 84,
   "id": "26309505",
   "metadata": {},
   "outputs": [
    {
     "data": {
      "image/png": "[encoded data removed]",
      "text/plain": [
       "<Figure size 432x288 with 1 Axes>"
      ]
     },
     "metadata": {
      "needs_background": "light"
     },
     "output_type": "display_data"
    }
   ],
   "source": [
    "plt.bar(1, new_table['B08012_014E'].sum(), width = width, color = 'r', alpha = 0.5, label = 'Number of men polled')\n",
    "plt.bar(2, new_table['B08012_027E'].sum(), width = width, color = 'g', alpha = 0.5, label = 'Number of women polled')\n",
    "plt.xticks(np.array([0.5, 1.5]), ['',''])\n",
    "plt.legend()\n",
    "plt.title('Number of people polled for commute times by gender')\n",
    "plt.show()"
   ]
  },
  {
   "cell_type": "code",
   "execution_count": null,
   "id": "7bed4aa0",
   "metadata": {},
   "outputs": [],
   "source": []
  }
 ],
 "metadata": {
  "kernelspec": {
   "display_name": "Python 3 (ipykernel)",
   "language": "python",
   "name": "python3"
  },
  "language_info": {
   "codemirror_mode": {
    "name": "ipython",
    "version": 3
   },
   "file_extension": ".py",
   "mimetype": "text/x-python",
   "name": "python",
   "nbconvert_exporter": "python",
   "pygments_lexer": "ipython3",
   "version": "3.8.12"
  }
 },
 "nbformat": 4,
 "nbformat_minor": 5
}
