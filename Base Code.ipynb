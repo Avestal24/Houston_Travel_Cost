{
 "cells": [
  {
   "cell_type": "markdown",
   "id": "0261270a",
   "metadata": {},
   "source": [
    "Modules"
   ]
  },
  {
   "cell_type": "code",
   "execution_count": 88,
   "id": "b33e68ff",
   "metadata": {},
   "outputs": [],
   "source": [
    "# Import modules\n",
    "import pandas as pd\n",
    "import geopandas as gpd\n",
    "import matplotlib.pyplot as plt\n",
    "from cenpy import products\n",
    "import matplotlib.pyplot as plt\n",
    "import seaborn as sns"
   ]
  },
  {
   "cell_type": "markdown",
   "id": "d787710a",
   "metadata": {},
   "source": [
    "Set Up"
   ]
  },
  {
   "cell_type": "code",
   "execution_count": 2,
   "id": "eba045ca",
   "metadata": {},
   "outputs": [],
   "source": [
    "# Define product\n",
    "acs = products.ACS(2019)"
   ]
  },
  {
   "cell_type": "markdown",
   "id": "100a05b5",
   "metadata": {},
   "source": [
    "**View a new census table**\n",
    "https://api.census.gov/data/2019/acs/acs5/variables.html"
   ]
  },
  {
   "cell_type": "code",
   "execution_count": 3,
   "id": "ccd1bb2f",
   "metadata": {},
   "outputs": [],
   "source": [
    "# Download data\n",
    "    # the v list is a list of the names of variables you want to input that then goes into the data pull\n",
    "    # the level is \n",
    "v = []\n",
    "counter = 1\n",
    "while counter < 10:\n",
    "    col = 'B08012_00'+str(counter)+'E'\n",
    "    v.append(col)\n",
    "    counter += 1\n",
    "\n",
    "while counter < 40:\n",
    "    col = 'B08012_0'+str(counter)+'E'\n",
    "    v.append(col)\n",
    "    counter += 1\n",
    "    \n",
    "v.append('B08013_001E')\n",
    "v.append('B08013_002E')\n",
    "v.append('B08013_003E')"
   ]
  },
  {
   "cell_type": "code",
   "execution_count": 4,
   "id": "d905e86a",
   "metadata": {},
   "outputs": [
    {
     "name": "stderr",
     "output_type": "stream",
     "text": [
      "C:\\Users\\zenon\\anaconda3\\envs\\gds\\lib\\site-packages\\pyproj\\crs\\crs.py:131: FutureWarning: '+init=<authority>:<code>' syntax is deprecated. '<authority>:<code>' is the preferred initialization method. When making the change, be mindful of axis order changes: https://pyproj4.github.io/pyproj/stable/gotchas.html#axis-order-changes-in-proj-6\n",
      "  in_crs_string = _prepare_from_proj_string(in_crs_string)\n",
      "C:\\Users\\zenon\\anaconda3\\envs\\gds\\lib\\site-packages\\pyproj\\crs\\crs.py:131: FutureWarning: '+init=<authority>:<code>' syntax is deprecated. '<authority>:<code>' is the preferred initialization method. When making the change, be mindful of axis order changes: https://pyproj4.github.io/pyproj/stable/gotchas.html#axis-order-changes-in-proj-6\n",
      "  in_crs_string = _prepare_from_proj_string(in_crs_string)\n",
      "C:\\Users\\zenon\\anaconda3\\envs\\gds\\lib\\site-packages\\cenpy\\products.py:762: FutureWarning: The `op` parameter is deprecated and will be removed in a future release. Please use the `predicate` parameter instead.\n",
      "  return self._from_name(county, variables, level, \"Counties\", **kwargs)\n"
     ]
    }
   ],
   "source": [
    "new_table = products.ACS(2019).from_county('Harris County, TX', level='tract', variables=v)"
   ]
  },
  {
   "cell_type": "code",
   "execution_count": 5,
   "id": "2cb0de17",
   "metadata": {
    "scrolled": true
   },
   "outputs": [
    {
     "name": "stdout",
     "output_type": "stream",
     "text": [
      "<class 'geopandas.geodataframe.GeoDataFrame'>\n",
      "Int64Index: 14 entries, 0 to 13\n",
      "Data columns (total 48 columns):\n",
      " #   Column       Non-Null Count  Dtype   \n",
      "---  ------       --------------  -----   \n",
      " 0   GEOID        14 non-null     object  \n",
      " 1   geometry     14 non-null     geometry\n",
      " 2   B08012_001E  14 non-null     float64 \n",
      " 3   B08012_002E  14 non-null     float64 \n",
      " 4   B08012_003E  14 non-null     float64 \n",
      " 5   B08012_004E  14 non-null     float64 \n",
      " 6   B08012_005E  14 non-null     float64 \n",
      " 7   B08012_006E  14 non-null     float64 \n",
      " 8   B08012_007E  14 non-null     float64 \n",
      " 9   B08012_008E  14 non-null     float64 \n",
      " 10  B08012_009E  14 non-null     float64 \n",
      " 11  B08012_010E  14 non-null     float64 \n",
      " 12  B08012_011E  14 non-null     float64 \n",
      " 13  B08012_012E  14 non-null     float64 \n",
      " 14  B08012_013E  14 non-null     float64 \n",
      " 15  B08012_014E  14 non-null     float64 \n",
      " 16  B08012_015E  14 non-null     float64 \n",
      " 17  B08012_016E  14 non-null     float64 \n",
      " 18  B08012_017E  14 non-null     float64 \n",
      " 19  B08012_018E  14 non-null     float64 \n",
      " 20  B08012_019E  14 non-null     float64 \n",
      " 21  B08012_020E  14 non-null     float64 \n",
      " 22  B08012_021E  14 non-null     float64 \n",
      " 23  B08012_022E  14 non-null     float64 \n",
      " 24  B08012_023E  14 non-null     float64 \n",
      " 25  B08012_024E  14 non-null     float64 \n",
      " 26  B08012_025E  14 non-null     float64 \n",
      " 27  B08012_026E  14 non-null     float64 \n",
      " 28  B08012_027E  14 non-null     float64 \n",
      " 29  B08012_028E  14 non-null     float64 \n",
      " 30  B08012_029E  14 non-null     float64 \n",
      " 31  B08012_030E  14 non-null     float64 \n",
      " 32  B08012_031E  14 non-null     float64 \n",
      " 33  B08012_032E  14 non-null     float64 \n",
      " 34  B08012_033E  14 non-null     float64 \n",
      " 35  B08012_034E  14 non-null     float64 \n",
      " 36  B08012_035E  14 non-null     float64 \n",
      " 37  B08012_036E  14 non-null     float64 \n",
      " 38  B08012_037E  14 non-null     float64 \n",
      " 39  B08012_038E  14 non-null     float64 \n",
      " 40  B08012_039E  14 non-null     float64 \n",
      " 41  B08013_001E  14 non-null     float64 \n",
      " 42  B08013_002E  14 non-null     float64 \n",
      " 43  B08013_003E  14 non-null     float64 \n",
      " 44  NAME         14 non-null     object  \n",
      " 45  state        14 non-null     object  \n",
      " 46  county       14 non-null     object  \n",
      " 47  tract        14 non-null     object  \n",
      "dtypes: float64(42), geometry(1), object(5)\n",
      "memory usage: 5.4+ KB\n"
     ]
    }
   ],
   "source": [
    "# Calculate stats for the new data for a given column\n",
    "new_table.info()"
   ]
  },
  {
   "cell_type": "code",
   "execution_count": 6,
   "id": "2299705d",
   "metadata": {},
   "outputs": [
    {
     "data": {
      "text/plain": [
       "597665.0"
      ]
     },
     "execution_count": 6,
     "metadata": {},
     "output_type": "execute_result"
    }
   ],
   "source": [
    "new_table['B08013_001E'].sum()"
   ]
  },
  {
   "cell_type": "code",
   "execution_count": 7,
   "id": "99e87b08",
   "metadata": {},
   "outputs": [
    {
     "data": {
      "text/plain": [
       "343800.0"
      ]
     },
     "execution_count": 7,
     "metadata": {},
     "output_type": "execute_result"
    }
   ],
   "source": [
    "new_table['B08013_002E'].sum()"
   ]
  },
  {
   "cell_type": "code",
   "execution_count": 8,
   "id": "62a20889",
   "metadata": {},
   "outputs": [
    {
     "data": {
      "text/plain": [
       "253860.0"
      ]
     },
     "execution_count": 8,
     "metadata": {},
     "output_type": "execute_result"
    }
   ],
   "source": [
    "new_table['B08013_003E'].sum()"
   ]
  },
  {
   "cell_type": "markdown",
   "id": "d5f42270",
   "metadata": {},
   "source": [
    "*Important Data*: men have 343800 aggregate travel hours, as opposed to women's 253860."
   ]
  },
  {
   "cell_type": "code",
   "execution_count": 9,
   "id": "ae9b2355",
   "metadata": {},
   "outputs": [
    {
     "data": {
      "text/plain": [
       "<AxesSubplot:>"
      ]
     },
     "execution_count": 9,
     "metadata": {},
     "output_type": "execute_result"
    },
    {
     "data": {
      "image/png": "[encoded data removed]",
      "text/plain": [
       "<Figure size 720x720 with 2 Axes>"
      ]
     },
     "metadata": {
      "needs_background": "light"
     },
     "output_type": "display_data"
    }
   ],
   "source": [
    "# Plot map of a given column\n",
    "f, ax = plt.subplots(1, 1, figsize=(10,10))\n",
    "new_table.plot('B08013_002E', ax=ax, cmap='plasma', legend=True)"
   ]
  },
  {
   "cell_type": "code",
   "execution_count": 10,
   "id": "b86d71f9",
   "metadata": {},
   "outputs": [
    {
     "data": {
      "text/plain": [
       "<AxesSubplot:>"
      ]
     },
     "execution_count": 10,
     "metadata": {},
     "output_type": "execute_result"
    },
    {
     "data": {
      "image/png": "[encoded data removed]",
      "text/plain": [
       "<Figure size 720x720 with 2 Axes>"
      ]
     },
     "metadata": {
      "needs_background": "light"
     },
     "output_type": "display_data"
    }
   ],
   "source": [
    "# Plot map of a given column\n",
    "f, ax = plt.subplots(1, 1, figsize=(10,10))\n",
    "new_table.plot('B08013_003E', ax=ax, cmap='plasma', legend=True)"
   ]
  },
  {
   "cell_type": "markdown",
   "id": "4e15bc38",
   "metadata": {},
   "source": [
    "Columns of note:\n",
    "B08012_001E = Total number of people polled per tract\n",
    "B08012_014E = Total number of men per tract\n",
    "B08012_027E = Total number of women per tract\n",
    "B08012_012E + B08012_013E = Total numer of workers with a travel time > 60 minutes\n",
    "B08012_025E + B08012_026E = Total numer of men with a travel time > 60 minutes\n",
    "B08012_038E + B08012_039E = Total numer of women with a travel time > 60 minutes\n",
    "B08013_001E = Aggregate travel hours\n",
    "B08013_002E = Men's aggregate travel hours\n",
    "B08013_003E = Men's aggregate travel hours"
   ]
  },
  {
   "cell_type": "markdown",
   "id": "b2e6ee8a",
   "metadata": {},
   "source": [
    "**Gather relevant information**"
   ]
  },
  {
   "cell_type": "markdown",
   "id": "e5d5f034",
   "metadata": {},
   "source": [
    "Base Variables:"
   ]
  },
  {
   "cell_type": "code",
   "execution_count": 11,
   "id": "3cc5ae82",
   "metadata": {},
   "outputs": [],
   "source": [
    "base = pd.DataFrame()\n",
    "\n",
    "def get_popmedian(gdf):\n",
    "    infodict = {}\n",
    "    \n",
    "    for row in gdf.iterrows():\n",
    "        pc = ['B08012_002E', 'B08012_003E', 'B08012_004E', 'B08012_005E', 'B08012_006E', 'B08012_007E', 'B08012_008E', 'B08012_009E', 'B08012_010E', 'B08012_011E', 'B08012_012E', 'B08012_013E']\n",
    "        people = int(row[1][2])\n",
    "        hpeople = people // 2\n",
    "        currcol = ''\n",
    "        \n",
    "        while hpeople > 0:\n",
    "            currcol = pc.pop(0)\n",
    "            value = new_table[currcol][row[0]]\n",
    "            hpeople = hpeople - value # subtract the number of people in that category from the total\n",
    "            \n",
    "        infodict[row[1][47]] = currcol\n",
    "        \n",
    "    return infodict\n",
    "\n",
    "def get_menmedian(gdf):\n",
    "    infodict = {}\n",
    "    \n",
    "    for row in gdf.iterrows():\n",
    "        pc = ['B08012_015E', 'B08012_016E', 'B08012_017E', 'B08012_018E', 'B08012_019E', 'B08012_020E', 'B08012_021E', 'B08012_022E', 'B08012_023E', 'B08012_024E', 'B08012_025E', 'B08012_026E']\n",
    "        men = int(row[1][15])\n",
    "        hmen = men // 2\n",
    "        currcol = ''\n",
    "        #print('new row', currcol)\n",
    "        \n",
    "        while hmen > 0:\n",
    "            currcol = pc.pop(0)\n",
    "            value = new_table[currcol][row[0]]\n",
    "            hmen = hmen - value # subtract the number of people in that category from the total\n",
    "            \n",
    "        #print('end while', currcol)\n",
    "        infodict[row[1][47]] = currcol\n",
    "        \n",
    "    return infodict\n",
    "\n",
    "\n",
    "def get_womenmedian(gdf):\n",
    "    infodict = {}\n",
    "    \n",
    "    for row in gdf.iterrows():\n",
    "        pc = ['B08012_028E', 'B08012_029E', 'B08012_030E', 'B08012_031E', 'B08012_032E', 'B08012_033E', 'B08012_034E', 'B08012_035E', 'B08012_036E', 'B08012_037E', 'B08012_038E', 'B08012_039E']\n",
    "        women = int(row[1][28])\n",
    "        hwomen = women // 2\n",
    "        currcol = ''\n",
    "        #print('new row', currcol)\n",
    "        \n",
    "        while hwomen > 0:\n",
    "            #print('while   half women =', hwomen)\n",
    "            currcol = pc.pop(0)\n",
    "            value = new_table[currcol][row[0]]\n",
    "            hwomen = hwomen - value # subtract the number of people in that category from the total\n",
    "            \n",
    "        #print('end while', currcol)\n",
    "        infodict[row[1][47]] = currcol\n",
    "        \n",
    "    return infodict"
   ]
  },
  {
   "cell_type": "markdown",
   "id": "64a338b7",
   "metadata": {},
   "source": [
    "B08012_004 = 10-14\n",
    "B08012_005 = 15-19\n",
    "B08012_006 = 20-24\n",
    "B08012_007 = 25-29\n",
    "B08012_008 = 30-34"
   ]
  },
  {
   "cell_type": "code",
   "execution_count": 12,
   "id": "9d610338",
   "metadata": {},
   "outputs": [
    {
     "data": {
      "text/plain": [
       "{'020604': 'B08012_005E',\n",
       " '020402': 'B08012_005E',\n",
       " '020501': 'B08012_004E',\n",
       " '020302': 'B08012_005E',\n",
       " '020603': 'B08012_006E',\n",
       " '020401': 'B08012_004E',\n",
       " '020103': 'B08012_006E',\n",
       " '020200': 'B08012_007E',\n",
       " '020502': 'B08012_004E',\n",
       " '020605': 'B08012_006E',\n",
       " '020104': 'B08012_007E',\n",
       " '020102': 'B08012_008E',\n",
       " '020301': 'B08012_004E',\n",
       " '020606': 'B08012_006E'}"
      ]
     },
     "execution_count": 12,
     "metadata": {},
     "output_type": "execute_result"
    }
   ],
   "source": [
    "population_median_cols = get_popmedian(new_table)\n",
    "population_median = ['15-19', '15-19', '10-14', '15-19', '20-24', '10-14', '20-24', '25-29', '10-14', '20-24', '25-29', '30-34', '10-14', '20-24']\n",
    "population_median_cols"
   ]
  },
  {
   "cell_type": "markdown",
   "id": "1f860f1c",
   "metadata": {},
   "source": [
    "B08012_017 = 10-14\n",
    "B08012_018 = 15-19\n",
    "B08012_019 = 20-24\n",
    "B08012_020 = 25-29\n",
    "B08012_021 = 30-35"
   ]
  },
  {
   "cell_type": "code",
   "execution_count": 13,
   "id": "fe4d5f9b",
   "metadata": {},
   "outputs": [
    {
     "data": {
      "text/plain": [
       "{'020604': 'B08012_018E',\n",
       " '020402': 'B08012_018E',\n",
       " '020501': 'B08012_018E',\n",
       " '020302': 'B08012_018E',\n",
       " '020603': 'B08012_019E',\n",
       " '020401': 'B08012_017E',\n",
       " '020103': 'B08012_020E',\n",
       " '020200': 'B08012_020E',\n",
       " '020502': 'B08012_018E',\n",
       " '020605': 'B08012_019E',\n",
       " '020104': 'B08012_021E',\n",
       " '020102': 'B08012_021E',\n",
       " '020301': 'B08012_017E',\n",
       " '020606': 'B08012_019E'}"
      ]
     },
     "execution_count": 13,
     "metadata": {},
     "output_type": "execute_result"
    }
   ],
   "source": [
    "men_median_cols = get_menmedian(new_table)\n",
    "men_median = ['15-19', '15-19', '15-19', '15-19', '20-24', '10-14', '25-29', '25-29', '15-19', '20-24', '30-34', '30-34', '10-14', '20-24']\n",
    "men_median_cols"
   ]
  },
  {
   "cell_type": "markdown",
   "id": "5e78bef8",
   "metadata": {},
   "source": [
    "B08012_029 = 5-9\n",
    "B08012_030 = 10-14\n",
    "B08012_031 = 15-19\n",
    "B08012_032 = 20-24\n",
    "B08012_033 = 25-29\n",
    "B08012_034 = 30-34"
   ]
  },
  {
   "cell_type": "code",
   "execution_count": 14,
   "id": "c9a6e6f7",
   "metadata": {},
   "outputs": [
    {
     "data": {
      "text/plain": [
       "{'020604': 'B08012_031E',\n",
       " '020402': 'B08012_030E',\n",
       " '020501': 'B08012_029E',\n",
       " '020302': 'B08012_031E',\n",
       " '020603': 'B08012_032E',\n",
       " '020401': 'B08012_030E',\n",
       " '020103': 'B08012_031E',\n",
       " '020200': 'B08012_033E',\n",
       " '020502': 'B08012_030E',\n",
       " '020605': 'B08012_032E',\n",
       " '020104': 'B08012_032E',\n",
       " '020102': 'B08012_034E',\n",
       " '020301': 'B08012_030E',\n",
       " '020606': 'B08012_032E'}"
      ]
     },
     "execution_count": 14,
     "metadata": {},
     "output_type": "execute_result"
    }
   ],
   "source": [
    "women_median_cols = get_womenmedian(new_table)\n",
    "women_median = ['15-19', '10-14', '5-9', '15-19', '20-24', '10-14', '15-19', '25-29', '10-14', '20-24', '20-24', '30-34', '10-14', '20-24']\n",
    "women_median_cols"
   ]
  },
  {
   "cell_type": "code",
   "execution_count": 15,
   "id": "85e741cb",
   "metadata": {},
   "outputs": [],
   "source": [
    "# Adding columns to model table\n",
    "base['GEOID'] = new_table['GEOID']\n",
    "base['geometry'] = new_table['geometry']\n",
    "base['NAME'] = new_table['NAME']\n",
    "base['state'] = new_table['state']\n",
    "base['county'] = new_table['county']\n",
    "base['tract'] = new_table['tract']\n",
    "base['population_median'] = population_median\n",
    "base['men_median'] = men_median\n",
    "base['women_median'] = women_median"
   ]
  },
  {
   "cell_type": "code",
   "execution_count": 16,
   "id": "f85439b5",
   "metadata": {},
   "outputs": [
    {
     "name": "stderr",
     "output_type": "stream",
     "text": [
      "C:\\Users\\zenon\\anaconda3\\envs\\gds\\lib\\site-packages\\pyproj\\crs\\crs.py:131: FutureWarning: '+init=<authority>:<code>' syntax is deprecated. '<authority>:<code>' is the preferred initialization method. When making the change, be mindful of axis order changes: https://pyproj4.github.io/pyproj/stable/gotchas.html#axis-order-changes-in-proj-6\n",
      "  in_crs_string = _prepare_from_proj_string(in_crs_string)\n",
      "C:\\Users\\zenon\\anaconda3\\envs\\gds\\lib\\site-packages\\pyproj\\crs\\crs.py:131: FutureWarning: '+init=<authority>:<code>' syntax is deprecated. '<authority>:<code>' is the preferred initialization method. When making the change, be mindful of axis order changes: https://pyproj4.github.io/pyproj/stable/gotchas.html#axis-order-changes-in-proj-6\n",
      "  in_crs_string = _prepare_from_proj_string(in_crs_string)\n",
      "C:\\Users\\zenon\\anaconda3\\envs\\gds\\lib\\site-packages\\cenpy\\products.py:762: FutureWarning: The `op` parameter is deprecated and will be removed in a future release. Please use the `predicate` parameter instead.\n",
      "  return self._from_name(county, variables, level, \"Counties\", **kwargs)\n"
     ]
    }
   ],
   "source": [
    "# people that have a wage or salary income\n",
    "salary = products.ACS(2019).from_county('Harris County, TX', level='tract', variables=['B19052_001E', 'B19052_002E'])\n",
    "p_salary = (salary['B19052_002E']/salary['B19052_001E'])\n",
    "base['p_salary'] = p_salary\n",
    "base['B19052_002E'] = salary['B19052_002E']"
   ]
  },
  {
   "cell_type": "code",
   "execution_count": 17,
   "id": "ceb3f03e",
   "metadata": {},
   "outputs": [
    {
     "name": "stderr",
     "output_type": "stream",
     "text": [
      "C:\\Users\\zenon\\anaconda3\\envs\\gds\\lib\\site-packages\\pyproj\\crs\\crs.py:131: FutureWarning: '+init=<authority>:<code>' syntax is deprecated. '<authority>:<code>' is the preferred initialization method. When making the change, be mindful of axis order changes: https://pyproj4.github.io/pyproj/stable/gotchas.html#axis-order-changes-in-proj-6\n",
      "  in_crs_string = _prepare_from_proj_string(in_crs_string)\n",
      "C:\\Users\\zenon\\anaconda3\\envs\\gds\\lib\\site-packages\\pyproj\\crs\\crs.py:131: FutureWarning: '+init=<authority>:<code>' syntax is deprecated. '<authority>:<code>' is the preferred initialization method. When making the change, be mindful of axis order changes: https://pyproj4.github.io/pyproj/stable/gotchas.html#axis-order-changes-in-proj-6\n",
      "  in_crs_string = _prepare_from_proj_string(in_crs_string)\n",
      "C:\\Users\\zenon\\anaconda3\\envs\\gds\\lib\\site-packages\\cenpy\\products.py:762: FutureWarning: The `op` parameter is deprecated and will be removed in a future release. Please use the `predicate` parameter instead.\n",
      "  return self._from_name(county, variables, level, \"Counties\", **kwargs)\n"
     ]
    }
   ],
   "source": [
    "# percentage of people with internet access\n",
    "internet = products.ACS(2019).from_county('Harris County, TX', level='tract', variables=['B28002_002E', 'B28002_001E'])\n",
    "p_has_internet = internet['B28002_002E'] / internet['B28002_001E']\n",
    "base['p_has_internet'] = p_has_internet"
   ]
  },
  {
   "cell_type": "code",
   "execution_count": 18,
   "id": "1a3c385d",
   "metadata": {},
   "outputs": [
    {
     "name": "stderr",
     "output_type": "stream",
     "text": [
      "C:\\Users\\zenon\\anaconda3\\envs\\gds\\lib\\site-packages\\pyproj\\crs\\crs.py:131: FutureWarning: '+init=<authority>:<code>' syntax is deprecated. '<authority>:<code>' is the preferred initialization method. When making the change, be mindful of axis order changes: https://pyproj4.github.io/pyproj/stable/gotchas.html#axis-order-changes-in-proj-6\n",
      "  in_crs_string = _prepare_from_proj_string(in_crs_string)\n",
      "C:\\Users\\zenon\\anaconda3\\envs\\gds\\lib\\site-packages\\pyproj\\crs\\crs.py:131: FutureWarning: '+init=<authority>:<code>' syntax is deprecated. '<authority>:<code>' is the preferred initialization method. When making the change, be mindful of axis order changes: https://pyproj4.github.io/pyproj/stable/gotchas.html#axis-order-changes-in-proj-6\n",
      "  in_crs_string = _prepare_from_proj_string(in_crs_string)\n",
      "C:\\Users\\zenon\\anaconda3\\envs\\gds\\lib\\site-packages\\cenpy\\products.py:762: FutureWarning: The `op` parameter is deprecated and will be removed in a future release. Please use the `predicate` parameter instead.\n",
      "  return self._from_name(county, variables, level, \"Counties\", **kwargs)\n"
     ]
    }
   ],
   "source": [
    "# percentage of black people B01001B_001E\n",
    "pop = products.ACS(2019).from_county('Harris County, TX', level='tract', variables=['B01001B_001E', 'B01001_001E'])\n",
    "p_black = pop['B01001B_001E'] / pop['B01001_001E']\n",
    "base['p_black'] = p_black"
   ]
  },
  {
   "cell_type": "code",
   "execution_count": 19,
   "id": "ddc369f9",
   "metadata": {},
   "outputs": [
    {
     "name": "stderr",
     "output_type": "stream",
     "text": [
      "C:\\Users\\zenon\\anaconda3\\envs\\gds\\lib\\site-packages\\pyproj\\crs\\crs.py:131: FutureWarning: '+init=<authority>:<code>' syntax is deprecated. '<authority>:<code>' is the preferred initialization method. When making the change, be mindful of axis order changes: https://pyproj4.github.io/pyproj/stable/gotchas.html#axis-order-changes-in-proj-6\n",
      "  in_crs_string = _prepare_from_proj_string(in_crs_string)\n",
      "C:\\Users\\zenon\\anaconda3\\envs\\gds\\lib\\site-packages\\pyproj\\crs\\crs.py:131: FutureWarning: '+init=<authority>:<code>' syntax is deprecated. '<authority>:<code>' is the preferred initialization method. When making the change, be mindful of axis order changes: https://pyproj4.github.io/pyproj/stable/gotchas.html#axis-order-changes-in-proj-6\n",
      "  in_crs_string = _prepare_from_proj_string(in_crs_string)\n",
      "C:\\Users\\zenon\\anaconda3\\envs\\gds\\lib\\site-packages\\cenpy\\products.py:762: FutureWarning: The `op` parameter is deprecated and will be removed in a future release. Please use the `predicate` parameter instead.\n",
      "  return self._from_name(county, variables, level, \"Counties\", **kwargs)\n"
     ]
    }
   ],
   "source": [
    "# median total earnings B20002_001E\n",
    "earnings = products.ACS(2019).from_county('Harris County, TX', level='tract', variables=['B20002_001E'])\n",
    "base['med_total_earnings'] = earnings['B20002_001E']"
   ]
  },
  {
   "cell_type": "code",
   "execution_count": 20,
   "id": "4a7bbef6",
   "metadata": {},
   "outputs": [
    {
     "name": "stderr",
     "output_type": "stream",
     "text": [
      "C:\\Users\\zenon\\anaconda3\\envs\\gds\\lib\\site-packages\\pyproj\\crs\\crs.py:131: FutureWarning: '+init=<authority>:<code>' syntax is deprecated. '<authority>:<code>' is the preferred initialization method. When making the change, be mindful of axis order changes: https://pyproj4.github.io/pyproj/stable/gotchas.html#axis-order-changes-in-proj-6\n",
      "  in_crs_string = _prepare_from_proj_string(in_crs_string)\n",
      "C:\\Users\\zenon\\anaconda3\\envs\\gds\\lib\\site-packages\\pyproj\\crs\\crs.py:131: FutureWarning: '+init=<authority>:<code>' syntax is deprecated. '<authority>:<code>' is the preferred initialization method. When making the change, be mindful of axis order changes: https://pyproj4.github.io/pyproj/stable/gotchas.html#axis-order-changes-in-proj-6\n",
      "  in_crs_string = _prepare_from_proj_string(in_crs_string)\n",
      "C:\\Users\\zenon\\anaconda3\\envs\\gds\\lib\\site-packages\\cenpy\\products.py:762: FutureWarning: The `op` parameter is deprecated and will be removed in a future release. Please use the `predicate` parameter instead.\n",
      "  return self._from_name(county, variables, level, \"Counties\", **kwargs)\n"
     ]
    }
   ],
   "source": [
    "# total B08124_001E\n",
    "# percent drove alone to work B08124_008E\n",
    "# percent drove carpooled B08124_015E\n",
    "# percent public transportation B08124_022E\n",
    "# percent walked B08124_029E\n",
    "# percent bicycle/motorcycle/taxi/other B08124_036E\n",
    "# percent worked from home B08124_043E\n",
    "transportation = products.ACS(2019).from_county('Harris County, TX', level='tract', variables=['B08124_001E', 'B08124_008E', 'B08124_015E', 'B08124_022E', 'B08124_029E', 'B08124_036E', 'B08124_043E'])\n",
    "\n",
    "p_drovealone = transportation['B08124_008E'] / transportation['B08124_001E']\n",
    "p_carpool = transportation['B08124_015E'] / transportation['B08124_001E']\n",
    "p_publictrans = transportation['B08124_022E'] / transportation['B08124_001E']\n",
    "p_walked = transportation['B08124_029E'] / transportation['B08124_001E']\n",
    "p_bikemotorother = transportation['B08124_036E'] / transportation['B08124_001E']\n",
    "p_workfromhome = transportation['B08124_043E'] / transportation['B08124_001E']\n",
    "\n",
    "base['p_drovealone'] = p_drovealone\n",
    "base['p_carpool'] = p_carpool\n",
    "base['p_publictrans'] = p_publictrans\n",
    "base['p_walked'] = p_walked\n",
    "base['p_bikemotorother'] = p_bikemotorother\n",
    "base['p_workfromhome'] = p_workfromhome"
   ]
  },
  {
   "cell_type": "code",
   "execution_count": 21,
   "id": "c29f423a",
   "metadata": {},
   "outputs": [
    {
     "name": "stderr",
     "output_type": "stream",
     "text": [
      "C:\\Users\\zenon\\anaconda3\\envs\\gds\\lib\\site-packages\\pyproj\\crs\\crs.py:131: FutureWarning: '+init=<authority>:<code>' syntax is deprecated. '<authority>:<code>' is the preferred initialization method. When making the change, be mindful of axis order changes: https://pyproj4.github.io/pyproj/stable/gotchas.html#axis-order-changes-in-proj-6\n",
      "  in_crs_string = _prepare_from_proj_string(in_crs_string)\n",
      "C:\\Users\\zenon\\anaconda3\\envs\\gds\\lib\\site-packages\\pyproj\\crs\\crs.py:131: FutureWarning: '+init=<authority>:<code>' syntax is deprecated. '<authority>:<code>' is the preferred initialization method. When making the change, be mindful of axis order changes: https://pyproj4.github.io/pyproj/stable/gotchas.html#axis-order-changes-in-proj-6\n",
      "  in_crs_string = _prepare_from_proj_string(in_crs_string)\n",
      "C:\\Users\\zenon\\anaconda3\\envs\\gds\\lib\\site-packages\\cenpy\\products.py:762: FutureWarning: The `op` parameter is deprecated and will be removed in a future release. Please use the `predicate` parameter instead.\n",
      "  return self._from_name(county, variables, level, \"Counties\", **kwargs)\n"
     ]
    }
   ],
   "source": [
    "# percent with health insurance 26-64\n",
    "insurance = products.ACS(2019).from_county('Harris County, TX', level='tract', variables=['B27019_001E', 'B27019_004E', 'B27019_009E', 'B27019_014E', 'B27019_019E'])\n",
    "p_healthinsurance = (insurance['B27019_004E'] + insurance['B27019_009E'] + insurance['B27019_014E'] + insurance['B27019_019E']) / insurance['B27019_001E']\n",
    "base['p_healthinsurance'] = p_healthinsurance"
   ]
  },
  {
   "cell_type": "code",
   "execution_count": 22,
   "id": "ff157f31",
   "metadata": {},
   "outputs": [
    {
     "data": {
      "text/plain": [
       "0     0.0\n",
       "1     0.0\n",
       "2     0.0\n",
       "3     0.0\n",
       "4     0.0\n",
       "5     0.0\n",
       "6     0.0\n",
       "7     0.0\n",
       "8     0.0\n",
       "9     0.0\n",
       "10    0.0\n",
       "11    0.0\n",
       "12    0.0\n",
       "13    0.0\n",
       "Name: B08124_022E, dtype: float64"
      ]
     },
     "execution_count": 22,
     "metadata": {},
     "output_type": "execute_result"
    }
   ],
   "source": [
    "transportation['B08124_022E']"
   ]
  },
  {
   "cell_type": "code",
   "execution_count": 23,
   "id": "ba1c5e29",
   "metadata": {},
   "outputs": [],
   "source": [
    "pm_int = []\n",
    "for item in population_median:\n",
    "    if item == '5-9':\n",
    "        pm_int.append(7)\n",
    "        \n",
    "    elif item == '10-14':\n",
    "        pm_int.append(12)\n",
    "        \n",
    "    elif item == '15-19':\n",
    "        pm_int.append(17)\n",
    "        \n",
    "    elif item == '20-24':\n",
    "        pm_int.append(22)\n",
    "        \n",
    "    elif item == '25-29':\n",
    "        pm_int.append(27)\n",
    "        \n",
    "    elif item == '30-34':\n",
    "        pm_int.append(32)\n",
    "        \n",
    "base['pm_int'] = pm_int"
   ]
  },
  {
   "cell_type": "code",
   "execution_count": 24,
   "id": "82f1e3b1",
   "metadata": {},
   "outputs": [],
   "source": [
    "wm_int = []\n",
    "for item in women_median:\n",
    "    if item == '5-9':\n",
    "        wm_int.append(7)\n",
    "        \n",
    "    elif item == '10-14':\n",
    "        wm_int.append(12)\n",
    "        \n",
    "    elif item == '15-19':\n",
    "        wm_int.append(17)\n",
    "        \n",
    "    elif item == '20-24':\n",
    "        wm_int.append(22)\n",
    "        \n",
    "    elif item == '25-29':\n",
    "        wm_int.append(27)\n",
    "        \n",
    "    elif item == '30-34':\n",
    "        wm_int.append(32)\n",
    "        \n",
    "base['wm_int'] = wm_int"
   ]
  },
  {
   "cell_type": "code",
   "execution_count": 25,
   "id": "d644eb4b",
   "metadata": {},
   "outputs": [],
   "source": [
    "mm_int = []\n",
    "for item in men_median:\n",
    "    if item == '5-9':\n",
    "        mm_int.append(7)\n",
    "        \n",
    "    elif item == '10-14':\n",
    "        mm_int.append(12)\n",
    "        \n",
    "    elif item == '15-19':\n",
    "        mm_int.append(17)\n",
    "        \n",
    "    elif item == '20-24':\n",
    "        mm_int.append(22)\n",
    "        \n",
    "    elif item == '25-29':\n",
    "        mm_int.append(27)\n",
    "        \n",
    "    elif item == '30-34':\n",
    "        mm_int.append(32)\n",
    "        \n",
    "    else:\n",
    "        mm_int.append('problem')\n",
    "        \n",
    "base['mm_int'] = mm_int"
   ]
  },
  {
   "cell_type": "code",
   "execution_count": 38,
   "id": "0b5dc9cc",
   "metadata": {},
   "outputs": [
    {
     "data": {
      "text/plain": [
       "(14, 24)"
      ]
     },
     "execution_count": 38,
     "metadata": {},
     "output_type": "execute_result"
    }
   ],
   "source": [
    "base.shape"
   ]
  },
  {
   "cell_type": "code",
   "execution_count": 100,
   "id": "6711697c",
   "metadata": {},
   "outputs": [],
   "source": [
    "# Compute correlation matrix\n",
    "feature_list =  ['pm_int','mm_int','wm_int','p_carpool', 'B19052_002E', 'p_has_internet', 'p_healthinsurance', 'med_total_earnings', 'p_drovealone', 'p_salary', 'p_walked', 'p_workfromhome', 'p_bikemotorother', 'p_black']\n",
    "corr_matrix = base[feature_list].corr()\n",
    "\n",
    "# Display just house value correlations\n",
    "#corr_matrix['population_median'].sort_values(ascending = False)"
   ]
  },
  {
   "cell_type": "code",
   "execution_count": 101,
   "id": "7d849e98",
   "metadata": {},
   "outputs": [
    {
     "data": {
      "text/plain": [
       "pm_int                1.000000\n",
       "wm_int                0.939520\n",
       "mm_int                0.935032\n",
       "p_carpool             0.365044\n",
       "B19052_002E           0.320370\n",
       "p_has_internet        0.263626\n",
       "p_healthinsurance     0.248170\n",
       "med_total_earnings    0.240417\n",
       "p_drovealone         -0.045760\n",
       "p_salary             -0.056781\n",
       "p_walked             -0.202142\n",
       "p_workfromhome       -0.234144\n",
       "p_bikemotorother     -0.235797\n",
       "p_black              -0.396460\n",
       "Name: pm_int, dtype: float64"
      ]
     },
     "execution_count": 101,
     "metadata": {},
     "output_type": "execute_result"
    }
   ],
   "source": [
    "corr_matrix['pm_int'].sort_values(ascending = False)"
   ]
  },
  {
   "cell_type": "code",
   "execution_count": 102,
   "id": "4a605ad1",
   "metadata": {
    "scrolled": true
   },
   "outputs": [
    {
     "data": {
      "text/html": [
       "<div>\n",
       "<style scoped>\n",
       "    .dataframe tbody tr th:only-of-type {\n",
       "        vertical-align: middle;\n",
       "    }\n",
       "\n",
       "    .dataframe tbody tr th {\n",
       "        vertical-align: top;\n",
       "    }\n",
       "\n",
       "    .dataframe thead th {\n",
       "        text-align: right;\n",
       "    }\n",
       "</style>\n",
       "<table border=\"1\" class=\"dataframe\">\n",
       "  <thead>\n",
       "    <tr style=\"text-align: right;\">\n",
       "      <th></th>\n",
       "      <th>pm_int</th>\n",
       "      <th>mm_int</th>\n",
       "      <th>wm_int</th>\n",
       "      <th>p_carpool</th>\n",
       "      <th>B19052_002E</th>\n",
       "      <th>p_has_internet</th>\n",
       "      <th>p_healthinsurance</th>\n",
       "      <th>med_total_earnings</th>\n",
       "      <th>p_drovealone</th>\n",
       "      <th>p_salary</th>\n",
       "      <th>p_walked</th>\n",
       "      <th>p_workfromhome</th>\n",
       "      <th>p_bikemotorother</th>\n",
       "      <th>p_black</th>\n",
       "    </tr>\n",
       "  </thead>\n",
       "  <tbody>\n",
       "    <tr>\n",
       "      <th>pm_int</th>\n",
       "      <td>1.000000</td>\n",
       "      <td>0.935032</td>\n",
       "      <td>0.939520</td>\n",
       "      <td>0.365044</td>\n",
       "      <td>0.320370</td>\n",
       "      <td>0.263626</td>\n",
       "      <td>0.248170</td>\n",
       "      <td>0.240417</td>\n",
       "      <td>-0.045760</td>\n",
       "      <td>-0.056781</td>\n",
       "      <td>-0.202142</td>\n",
       "      <td>-0.234144</td>\n",
       "      <td>-0.235797</td>\n",
       "      <td>-0.396460</td>\n",
       "    </tr>\n",
       "    <tr>\n",
       "      <th>mm_int</th>\n",
       "      <td>0.935032</td>\n",
       "      <td>1.000000</td>\n",
       "      <td>0.798898</td>\n",
       "      <td>0.400102</td>\n",
       "      <td>0.165731</td>\n",
       "      <td>0.227523</td>\n",
       "      <td>0.128535</td>\n",
       "      <td>0.263632</td>\n",
       "      <td>-0.038123</td>\n",
       "      <td>-0.070714</td>\n",
       "      <td>-0.307569</td>\n",
       "      <td>-0.299316</td>\n",
       "      <td>-0.163685</td>\n",
       "      <td>-0.399368</td>\n",
       "    </tr>\n",
       "    <tr>\n",
       "      <th>wm_int</th>\n",
       "      <td>0.939520</td>\n",
       "      <td>0.798898</td>\n",
       "      <td>1.000000</td>\n",
       "      <td>0.386969</td>\n",
       "      <td>0.433936</td>\n",
       "      <td>0.387064</td>\n",
       "      <td>0.311710</td>\n",
       "      <td>0.258892</td>\n",
       "      <td>-0.120626</td>\n",
       "      <td>-0.082084</td>\n",
       "      <td>-0.132188</td>\n",
       "      <td>-0.211461</td>\n",
       "      <td>-0.173689</td>\n",
       "      <td>-0.508800</td>\n",
       "    </tr>\n",
       "    <tr>\n",
       "      <th>p_carpool</th>\n",
       "      <td>0.365044</td>\n",
       "      <td>0.400102</td>\n",
       "      <td>0.386969</td>\n",
       "      <td>1.000000</td>\n",
       "      <td>-0.039228</td>\n",
       "      <td>0.156718</td>\n",
       "      <td>-0.185822</td>\n",
       "      <td>0.112476</td>\n",
       "      <td>-0.679211</td>\n",
       "      <td>-0.284643</td>\n",
       "      <td>-0.235007</td>\n",
       "      <td>-0.423556</td>\n",
       "      <td>0.237530</td>\n",
       "      <td>-0.249116</td>\n",
       "    </tr>\n",
       "    <tr>\n",
       "      <th>B19052_002E</th>\n",
       "      <td>0.320370</td>\n",
       "      <td>0.165731</td>\n",
       "      <td>0.433936</td>\n",
       "      <td>-0.039228</td>\n",
       "      <td>1.000000</td>\n",
       "      <td>0.735020</td>\n",
       "      <td>0.621043</td>\n",
       "      <td>0.656873</td>\n",
       "      <td>0.402737</td>\n",
       "      <td>0.581285</td>\n",
       "      <td>0.323343</td>\n",
       "      <td>-0.506700</td>\n",
       "      <td>-0.254785</td>\n",
       "      <td>-0.543636</td>\n",
       "    </tr>\n",
       "    <tr>\n",
       "      <th>p_has_internet</th>\n",
       "      <td>0.263626</td>\n",
       "      <td>0.227523</td>\n",
       "      <td>0.387064</td>\n",
       "      <td>0.156718</td>\n",
       "      <td>0.735020</td>\n",
       "      <td>1.000000</td>\n",
       "      <td>0.455018</td>\n",
       "      <td>0.769319</td>\n",
       "      <td>0.238931</td>\n",
       "      <td>0.617957</td>\n",
       "      <td>0.045473</td>\n",
       "      <td>-0.484293</td>\n",
       "      <td>-0.178152</td>\n",
       "      <td>-0.786264</td>\n",
       "    </tr>\n",
       "    <tr>\n",
       "      <th>p_healthinsurance</th>\n",
       "      <td>0.248170</td>\n",
       "      <td>0.128535</td>\n",
       "      <td>0.311710</td>\n",
       "      <td>-0.185822</td>\n",
       "      <td>0.621043</td>\n",
       "      <td>0.455018</td>\n",
       "      <td>1.000000</td>\n",
       "      <td>0.421512</td>\n",
       "      <td>0.304140</td>\n",
       "      <td>0.415393</td>\n",
       "      <td>0.290752</td>\n",
       "      <td>-0.248650</td>\n",
       "      <td>-0.076531</td>\n",
       "      <td>-0.324221</td>\n",
       "    </tr>\n",
       "    <tr>\n",
       "      <th>med_total_earnings</th>\n",
       "      <td>0.240417</td>\n",
       "      <td>0.263632</td>\n",
       "      <td>0.258892</td>\n",
       "      <td>0.112476</td>\n",
       "      <td>0.656873</td>\n",
       "      <td>0.769319</td>\n",
       "      <td>0.421512</td>\n",
       "      <td>1.000000</td>\n",
       "      <td>0.469803</td>\n",
       "      <td>0.523761</td>\n",
       "      <td>-0.268915</td>\n",
       "      <td>-0.469002</td>\n",
       "      <td>-0.520046</td>\n",
       "      <td>-0.776092</td>\n",
       "    </tr>\n",
       "    <tr>\n",
       "      <th>p_drovealone</th>\n",
       "      <td>-0.045760</td>\n",
       "      <td>-0.038123</td>\n",
       "      <td>-0.120626</td>\n",
       "      <td>-0.679211</td>\n",
       "      <td>0.402737</td>\n",
       "      <td>0.238931</td>\n",
       "      <td>0.304140</td>\n",
       "      <td>0.469803</td>\n",
       "      <td>1.000000</td>\n",
       "      <td>0.428127</td>\n",
       "      <td>0.116340</td>\n",
       "      <td>-0.222742</td>\n",
       "      <td>-0.647335</td>\n",
       "      <td>-0.101133</td>\n",
       "    </tr>\n",
       "    <tr>\n",
       "      <th>p_salary</th>\n",
       "      <td>-0.056781</td>\n",
       "      <td>-0.070714</td>\n",
       "      <td>-0.082084</td>\n",
       "      <td>-0.284643</td>\n",
       "      <td>0.581285</td>\n",
       "      <td>0.617957</td>\n",
       "      <td>0.415393</td>\n",
       "      <td>0.523761</td>\n",
       "      <td>0.428127</td>\n",
       "      <td>1.000000</td>\n",
       "      <td>0.151441</td>\n",
       "      <td>-0.147793</td>\n",
       "      <td>-0.258834</td>\n",
       "      <td>-0.336662</td>\n",
       "    </tr>\n",
       "    <tr>\n",
       "      <th>p_walked</th>\n",
       "      <td>-0.202142</td>\n",
       "      <td>-0.307569</td>\n",
       "      <td>-0.132188</td>\n",
       "      <td>-0.235007</td>\n",
       "      <td>0.323343</td>\n",
       "      <td>0.045473</td>\n",
       "      <td>0.290752</td>\n",
       "      <td>-0.268915</td>\n",
       "      <td>0.116340</td>\n",
       "      <td>0.151441</td>\n",
       "      <td>1.000000</td>\n",
       "      <td>-0.282189</td>\n",
       "      <td>0.180077</td>\n",
       "      <td>0.426159</td>\n",
       "    </tr>\n",
       "    <tr>\n",
       "      <th>p_workfromhome</th>\n",
       "      <td>-0.234144</td>\n",
       "      <td>-0.299316</td>\n",
       "      <td>-0.211461</td>\n",
       "      <td>-0.423556</td>\n",
       "      <td>-0.506700</td>\n",
       "      <td>-0.484293</td>\n",
       "      <td>-0.248650</td>\n",
       "      <td>-0.469002</td>\n",
       "      <td>-0.222742</td>\n",
       "      <td>-0.147793</td>\n",
       "      <td>-0.282189</td>\n",
       "      <td>1.000000</td>\n",
       "      <td>0.010280</td>\n",
       "      <td>0.234248</td>\n",
       "    </tr>\n",
       "    <tr>\n",
       "      <th>p_bikemotorother</th>\n",
       "      <td>-0.235797</td>\n",
       "      <td>-0.163685</td>\n",
       "      <td>-0.173689</td>\n",
       "      <td>0.237530</td>\n",
       "      <td>-0.254785</td>\n",
       "      <td>-0.178152</td>\n",
       "      <td>-0.076531</td>\n",
       "      <td>-0.520046</td>\n",
       "      <td>-0.647335</td>\n",
       "      <td>-0.258834</td>\n",
       "      <td>0.180077</td>\n",
       "      <td>0.010280</td>\n",
       "      <td>1.000000</td>\n",
       "      <td>0.207486</td>\n",
       "    </tr>\n",
       "    <tr>\n",
       "      <th>p_black</th>\n",
       "      <td>-0.396460</td>\n",
       "      <td>-0.399368</td>\n",
       "      <td>-0.508800</td>\n",
       "      <td>-0.249116</td>\n",
       "      <td>-0.543636</td>\n",
       "      <td>-0.786264</td>\n",
       "      <td>-0.324221</td>\n",
       "      <td>-0.776092</td>\n",
       "      <td>-0.101133</td>\n",
       "      <td>-0.336662</td>\n",
       "      <td>0.426159</td>\n",
       "      <td>0.234248</td>\n",
       "      <td>0.207486</td>\n",
       "      <td>1.000000</td>\n",
       "    </tr>\n",
       "  </tbody>\n",
       "</table>\n",
       "</div>"
      ],
      "text/plain": [
       "                      pm_int    mm_int    wm_int  p_carpool  B19052_002E  \\\n",
       "pm_int              1.000000  0.935032  0.939520   0.365044     0.320370   \n",
       "mm_int              0.935032  1.000000  0.798898   0.400102     0.165731   \n",
       "wm_int              0.939520  0.798898  1.000000   0.386969     0.433936   \n",
       "p_carpool           0.365044  0.400102  0.386969   1.000000    -0.039228   \n",
       "B19052_002E         0.320370  0.165731  0.433936  -0.039228     1.000000   \n",
       "p_has_internet      0.263626  0.227523  0.387064   0.156718     0.735020   \n",
       "p_healthinsurance   0.248170  0.128535  0.311710  -0.185822     0.621043   \n",
       "med_total_earnings  0.240417  0.263632  0.258892   0.112476     0.656873   \n",
       "p_drovealone       -0.045760 -0.038123 -0.120626  -0.679211     0.402737   \n",
       "p_salary           -0.056781 -0.070714 -0.082084  -0.284643     0.581285   \n",
       "p_walked           -0.202142 -0.307569 -0.132188  -0.235007     0.323343   \n",
       "p_workfromhome     -0.234144 -0.299316 -0.211461  -0.423556    -0.506700   \n",
       "p_bikemotorother   -0.235797 -0.163685 -0.173689   0.237530    -0.254785   \n",
       "p_black            -0.396460 -0.399368 -0.508800  -0.249116    -0.543636   \n",
       "\n",
       "                    p_has_internet  p_healthinsurance  med_total_earnings  \\\n",
       "pm_int                    0.263626           0.248170            0.240417   \n",
       "mm_int                    0.227523           0.128535            0.263632   \n",
       "wm_int                    0.387064           0.311710            0.258892   \n",
       "p_carpool                 0.156718          -0.185822            0.112476   \n",
       "B19052_002E               0.735020           0.621043            0.656873   \n",
       "p_has_internet            1.000000           0.455018            0.769319   \n",
       "p_healthinsurance         0.455018           1.000000            0.421512   \n",
       "med_total_earnings        0.769319           0.421512            1.000000   \n",
       "p_drovealone              0.238931           0.304140            0.469803   \n",
       "p_salary                  0.617957           0.415393            0.523761   \n",
       "p_walked                  0.045473           0.290752           -0.268915   \n",
       "p_workfromhome           -0.484293          -0.248650           -0.469002   \n",
       "p_bikemotorother         -0.178152          -0.076531           -0.520046   \n",
       "p_black                  -0.786264          -0.324221           -0.776092   \n",
       "\n",
       "                    p_drovealone  p_salary  p_walked  p_workfromhome  \\\n",
       "pm_int                 -0.045760 -0.056781 -0.202142       -0.234144   \n",
       "mm_int                 -0.038123 -0.070714 -0.307569       -0.299316   \n",
       "wm_int                 -0.120626 -0.082084 -0.132188       -0.211461   \n",
       "p_carpool              -0.679211 -0.284643 -0.235007       -0.423556   \n",
       "B19052_002E             0.402737  0.581285  0.323343       -0.506700   \n",
       "p_has_internet          0.238931  0.617957  0.045473       -0.484293   \n",
       "p_healthinsurance       0.304140  0.415393  0.290752       -0.248650   \n",
       "med_total_earnings      0.469803  0.523761 -0.268915       -0.469002   \n",
       "p_drovealone            1.000000  0.428127  0.116340       -0.222742   \n",
       "p_salary                0.428127  1.000000  0.151441       -0.147793   \n",
       "p_walked                0.116340  0.151441  1.000000       -0.282189   \n",
       "p_workfromhome         -0.222742 -0.147793 -0.282189        1.000000   \n",
       "p_bikemotorother       -0.647335 -0.258834  0.180077        0.010280   \n",
       "p_black                -0.101133 -0.336662  0.426159        0.234248   \n",
       "\n",
       "                    p_bikemotorother   p_black  \n",
       "pm_int                     -0.235797 -0.396460  \n",
       "mm_int                     -0.163685 -0.399368  \n",
       "wm_int                     -0.173689 -0.508800  \n",
       "p_carpool                   0.237530 -0.249116  \n",
       "B19052_002E                -0.254785 -0.543636  \n",
       "p_has_internet             -0.178152 -0.786264  \n",
       "p_healthinsurance          -0.076531 -0.324221  \n",
       "med_total_earnings         -0.520046 -0.776092  \n",
       "p_drovealone               -0.647335 -0.101133  \n",
       "p_salary                   -0.258834 -0.336662  \n",
       "p_walked                    0.180077  0.426159  \n",
       "p_workfromhome              0.010280  0.234248  \n",
       "p_bikemotorother            1.000000  0.207486  \n",
       "p_black                     0.207486  1.000000  "
      ]
     },
     "execution_count": 102,
     "metadata": {},
     "output_type": "execute_result"
    }
   ],
   "source": [
    "corr_matrix"
   ]
  },
  {
   "cell_type": "code",
   "execution_count": 105,
   "id": "376fd1b4",
   "metadata": {},
   "outputs": [
    {
     "data": {
      "text/plain": [
       "Index(['p_black', 'p_bikemotorother', 'p_workfromhome', 'p_walked', 'p_salary',\n",
       "       'p_drovealone', 'med_total_earnings', 'p_healthinsurance',\n",
       "       'p_has_internet', 'B19052_002E', 'p_carpool', 'mm_int', 'wm_int',\n",
       "       'pm_int'],\n",
       "      dtype='object')"
      ]
     },
     "execution_count": 105,
     "metadata": {},
     "output_type": "execute_result"
    }
   ],
   "source": [
    "corr_matrix_sub.index"
   ]
  },
  {
   "cell_type": "code",
   "execution_count": 116,
   "id": "561a08e0",
   "metadata": {},
   "outputs": [
    {
     "data": {
      "text/plain": [
       "p_black              -0.396460\n",
       "p_bikemotorother     -0.235797\n",
       "p_workfromhome       -0.234144\n",
       "p_walked             -0.202142\n",
       "p_salary             -0.056781\n",
       "p_drovealone         -0.045760\n",
       "med_total_earnings    0.240417\n",
       "p_healthinsurance     0.248170\n",
       "p_has_internet        0.263626\n",
       "B19052_002E           0.320370\n",
       "p_carpool             0.365044\n",
       "mm_int                0.935032\n",
       "wm_int                0.939520\n",
       "pm_int                1.000000\n",
       "Name: pm_int, dtype: float64"
      ]
     },
     "execution_count": 116,
     "metadata": {},
     "output_type": "execute_result"
    }
   ],
   "source": [
    "corr_matrix.loc['pm_int',:].sort_values(ascending = True)"
   ]
  },
  {
   "cell_type": "code",
   "execution_count": 117,
   "id": "3e29f7ba",
   "metadata": {},
   "outputs": [
    {
     "data": {
      "text/plain": [
       "p_black              -0.508800\n",
       "p_workfromhome       -0.211461\n",
       "p_bikemotorother     -0.173689\n",
       "p_walked             -0.132188\n",
       "p_drovealone         -0.120626\n",
       "p_salary             -0.082084\n",
       "med_total_earnings    0.258892\n",
       "p_healthinsurance     0.311710\n",
       "p_carpool             0.386969\n",
       "p_has_internet        0.387064\n",
       "B19052_002E           0.433936\n",
       "mm_int                0.798898\n",
       "pm_int                0.939520\n",
       "wm_int                1.000000\n",
       "Name: wm_int, dtype: float64"
      ]
     },
     "execution_count": 117,
     "metadata": {},
     "output_type": "execute_result"
    }
   ],
   "source": [
    "corr_matrix.loc['wm_int',:].sort_values(ascending = True)"
   ]
  },
  {
   "cell_type": "code",
   "execution_count": 115,
   "id": "8cf6c060",
   "metadata": {},
   "outputs": [
    {
     "name": "stderr",
     "output_type": "stream",
     "text": [
      "No artists with labels found to put in legend.  Note that artists whose label start with an underscore are ignored when legend() is called with no argument.\n"
     ]
    },
    {
     "data": {
      "image/png": "[encoded data removed]",
      "text/plain": [
       "<Figure size 432x288 with 1 Axes>"
      ]
     },
     "metadata": {},
     "output_type": "display_data"
    }
   ],
   "source": [
    "width = 0.8\n",
    "corr_matrix_sub = corr_matrix.loc['pm_int',:].sort_values(ascending = True)\n",
    "plt.barh(range(0, len(feature_list)), corr_matrix_sub, height = width, color = 'b')\n",
    "#plt.bar(2, base['pm_int'], width = width, color = 'r', alpha = 0.5, label = 'Median travel time in the entire population')\n",
    "plt.yticks(np.array(range(0, len(feature_list))), corr_matrix_sub.index)\n",
    "plt.legend()\n",
    "plt.show()\n",
    "\n"
   ]
  },
  {
   "cell_type": "code",
   "execution_count": 92,
   "id": "9ea224af",
   "metadata": {},
   "outputs": [
    {
     "data": {
      "text/plain": [
       "array([[<AxesSubplot:title={'center':'mm_int'}>,\n",
       "        <AxesSubplot:title={'center':'wm_int'}>],\n",
       "       [<AxesSubplot:title={'center':'pm_int'}>, <AxesSubplot:>]],\n",
       "      dtype=object)"
      ]
     },
     "execution_count": 92,
     "metadata": {},
     "output_type": "execute_result"
    },
    {
     "data": {
      "image/png": "[encoded data removed]",
      "text/plain": [
       "<Figure size 432x288 with 4 Axes>"
      ]
     },
     "metadata": {},
     "output_type": "display_data"
    }
   ],
   "source": [
    "base[['mm_int', 'wm_int', 'pm_int']].hist()"
   ]
  },
  {
   "cell_type": "code",
   "execution_count": null,
   "id": "87050559",
   "metadata": {},
   "outputs": [],
   "source": [
    "width = 0.8\n",
    "plt.bar(1, base['mm_int'], width = width, color = 'b', label = 'Median travel time in male')\n",
    "plt.bar(2, base['pm_int'], width = width, color = 'r', alpha = 0.5, label = 'Median travel time in the entire population')\n",
    "plt.xticks(np.array([0.5, 1.5]), ['',''])\n",
    "plt.legend()\n",
    "plt.show()"
   ]
  },
  {
   "cell_type": "code",
   "execution_count": 89,
   "id": "1fcbf109",
   "metadata": {},
   "outputs": [
    {
     "data": {
      "text/plain": [
       "<seaborn.axisgrid.PairGrid at 0x2097b6085b0>"
      ]
     },
     "execution_count": 89,
     "metadata": {},
     "output_type": "execute_result"
    },
    {
     "data": {
      "image/png": "[encoded data removed]",
      "text/plain": [
       "<Figure size 1980x1980 with 132 Axes>"
      ]
     },
     "metadata": {},
     "output_type": "display_data"
    }
   ],
   "source": [
    "sns.set_theme(style=\"ticks\")\n",
    "# Define feature list\n",
    "feature_list =  ['p_carpool', 'B19052_002E', 'p_has_internet', 'p_healthinsurance', 'med_total_earnings', 'p_drovealone', 'p_salary', 'p_walked', 'p_workfromhome', 'p_bikemotorother', 'p_black']\n",
    "\n",
    "sns.pairplot(base[feature_list])"
   ]
  },
  {
   "cell_type": "code",
   "execution_count": 47,
   "id": "7f16b88e",
   "metadata": {},
   "outputs": [],
   "source": [
    "import numpy as np\n",
    "from sklearn.preprocessing import StandardScaler\n",
    "from sklearn.model_selection import train_test_split\n",
    "from sklearn.ensemble import RandomForestRegressor\n",
    "from sklearn.metrics import mean_squared_error\n",
    "from shapely.geometry import Point\n",
    "from sklearn.linear_model import LinearRegression"
   ]
  },
  {
   "cell_type": "code",
   "execution_count": 59,
   "id": "8d7248c2",
   "metadata": {},
   "outputs": [],
   "source": [
    "# Define feature list\n",
    "feature_list =  ['p_carpool', 'B19052_002E', 'p_has_internet', 'p_healthinsurance', 'med_total_earnings', 'p_drovealone', 'p_salary', 'p_walked', 'p_workfromhome', 'p_bikemotorother', 'p_black']\n",
    "\n",
    "# Define features and labels \n",
    "X = base[feature_list]\n",
    "y = base['pm_int']\n",
    "\n",
    "# Standarize data\n",
    "scaler = StandardScaler()  \n",
    "scaler_fit = scaler.fit(X)\n",
    "X_scaled = scaler_fit.transform(X)"
   ]
  },
  {
   "cell_type": "code",
   "execution_count": 85,
   "id": "276b61ac",
   "metadata": {},
   "outputs": [
    {
     "data": {
      "text/html": [
       "<div>\n",
       "<style scoped>\n",
       "    .dataframe tbody tr th:only-of-type {\n",
       "        vertical-align: middle;\n",
       "    }\n",
       "\n",
       "    .dataframe tbody tr th {\n",
       "        vertical-align: top;\n",
       "    }\n",
       "\n",
       "    .dataframe thead th {\n",
       "        text-align: right;\n",
       "    }\n",
       "</style>\n",
       "<table border=\"1\" class=\"dataframe\">\n",
       "  <thead>\n",
       "    <tr style=\"text-align: right;\">\n",
       "      <th></th>\n",
       "      <th>GEOID</th>\n",
       "      <th>geometry</th>\n",
       "      <th>NAME</th>\n",
       "      <th>state</th>\n",
       "      <th>county</th>\n",
       "      <th>tract</th>\n",
       "      <th>population_median</th>\n",
       "      <th>men_median</th>\n",
       "      <th>women_median</th>\n",
       "      <th>p_salary</th>\n",
       "      <th>...</th>\n",
       "      <th>p_drovealone</th>\n",
       "      <th>p_carpool</th>\n",
       "      <th>p_publictrans</th>\n",
       "      <th>p_walked</th>\n",
       "      <th>p_bikemotorother</th>\n",
       "      <th>p_workfromhome</th>\n",
       "      <th>p_healthinsurance</th>\n",
       "      <th>pm_int</th>\n",
       "      <th>wm_int</th>\n",
       "      <th>mm_int</th>\n",
       "    </tr>\n",
       "  </thead>\n",
       "  <tbody>\n",
       "    <tr>\n",
       "      <th>0</th>\n",
       "      <td>48203020604</td>\n",
       "      <td>POLYGON ((-10542200.570 3822928.240, -10542200...</td>\n",
       "      <td>Census Tract 206.04, Harrison County, Texas</td>\n",
       "      <td>48</td>\n",
       "      <td>203</td>\n",
       "      <td>020604</td>\n",
       "      <td>15-19</td>\n",
       "      <td>15-19</td>\n",
       "      <td>15-19</td>\n",
       "      <td>0.727061</td>\n",
       "      <td>...</td>\n",
       "      <td>0.793725</td>\n",
       "      <td>0.090120</td>\n",
       "      <td>0.0</td>\n",
       "      <td>0.004005</td>\n",
       "      <td>0.014019</td>\n",
       "      <td>0.098131</td>\n",
       "      <td>0.643678</td>\n",
       "      <td>17</td>\n",
       "      <td>17</td>\n",
       "      <td>17</td>\n",
       "    </tr>\n",
       "    <tr>\n",
       "      <th>1</th>\n",
       "      <td>48203020402</td>\n",
       "      <td>POLYGON ((-10516258.230 3827513.530, -10516257...</td>\n",
       "      <td>Census Tract 204.02, Harrison County, Texas</td>\n",
       "      <td>48</td>\n",
       "      <td>203</td>\n",
       "      <td>020402</td>\n",
       "      <td>15-19</td>\n",
       "      <td>15-19</td>\n",
       "      <td>10-14</td>\n",
       "      <td>0.731912</td>\n",
       "      <td>...</td>\n",
       "      <td>0.830746</td>\n",
       "      <td>0.075113</td>\n",
       "      <td>0.0</td>\n",
       "      <td>0.018528</td>\n",
       "      <td>0.018027</td>\n",
       "      <td>0.057586</td>\n",
       "      <td>0.526763</td>\n",
       "      <td>17</td>\n",
       "      <td>12</td>\n",
       "      <td>17</td>\n",
       "    </tr>\n",
       "    <tr>\n",
       "      <th>2</th>\n",
       "      <td>48203020501</td>\n",
       "      <td>POLYGON ((-10505033.890 3835034.510, -10505033...</td>\n",
       "      <td>Census Tract 205.01, Harrison County, Texas</td>\n",
       "      <td>48</td>\n",
       "      <td>203</td>\n",
       "      <td>020501</td>\n",
       "      <td>10-14</td>\n",
       "      <td>15-19</td>\n",
       "      <td>5-9</td>\n",
       "      <td>0.775322</td>\n",
       "      <td>...</td>\n",
       "      <td>0.899865</td>\n",
       "      <td>0.047361</td>\n",
       "      <td>0.0</td>\n",
       "      <td>0.009472</td>\n",
       "      <td>0.002706</td>\n",
       "      <td>0.040595</td>\n",
       "      <td>0.444844</td>\n",
       "      <td>12</td>\n",
       "      <td>7</td>\n",
       "      <td>17</td>\n",
       "    </tr>\n",
       "    <tr>\n",
       "      <th>3</th>\n",
       "      <td>48203020302</td>\n",
       "      <td>POLYGON ((-10505670.970 3837985.810, -10505667...</td>\n",
       "      <td>Census Tract 203.02, Harrison County, Texas</td>\n",
       "      <td>48</td>\n",
       "      <td>203</td>\n",
       "      <td>020302</td>\n",
       "      <td>15-19</td>\n",
       "      <td>15-19</td>\n",
       "      <td>15-19</td>\n",
       "      <td>0.591912</td>\n",
       "      <td>...</td>\n",
       "      <td>0.844407</td>\n",
       "      <td>0.021867</td>\n",
       "      <td>0.0</td>\n",
       "      <td>0.000000</td>\n",
       "      <td>0.012616</td>\n",
       "      <td>0.121110</td>\n",
       "      <td>0.443804</td>\n",
       "      <td>17</td>\n",
       "      <td>17</td>\n",
       "      <td>17</td>\n",
       "    </tr>\n",
       "    <tr>\n",
       "      <th>4</th>\n",
       "      <td>48203020603</td>\n",
       "      <td>POLYGON ((-10538910.080 3829652.730, -10538889...</td>\n",
       "      <td>Census Tract 206.03, Harrison County, Texas</td>\n",
       "      <td>48</td>\n",
       "      <td>203</td>\n",
       "      <td>020603</td>\n",
       "      <td>20-24</td>\n",
       "      <td>20-24</td>\n",
       "      <td>20-24</td>\n",
       "      <td>0.914747</td>\n",
       "      <td>...</td>\n",
       "      <td>0.908138</td>\n",
       "      <td>0.026819</td>\n",
       "      <td>0.0</td>\n",
       "      <td>0.018804</td>\n",
       "      <td>0.005549</td>\n",
       "      <td>0.040691</td>\n",
       "      <td>0.721281</td>\n",
       "      <td>22</td>\n",
       "      <td>22</td>\n",
       "      <td>22</td>\n",
       "    </tr>\n",
       "    <tr>\n",
       "      <th>5</th>\n",
       "      <td>48203020401</td>\n",
       "      <td>POLYGON ((-10515066.110 3834885.950, -10515061...</td>\n",
       "      <td>Census Tract 204.01, Harrison County, Texas</td>\n",
       "      <td>48</td>\n",
       "      <td>203</td>\n",
       "      <td>020401</td>\n",
       "      <td>10-14</td>\n",
       "      <td>10-14</td>\n",
       "      <td>10-14</td>\n",
       "      <td>0.639286</td>\n",
       "      <td>...</td>\n",
       "      <td>0.819157</td>\n",
       "      <td>0.061472</td>\n",
       "      <td>0.0</td>\n",
       "      <td>0.033595</td>\n",
       "      <td>0.040743</td>\n",
       "      <td>0.045032</td>\n",
       "      <td>0.638902</td>\n",
       "      <td>12</td>\n",
       "      <td>12</td>\n",
       "      <td>12</td>\n",
       "    </tr>\n",
       "    <tr>\n",
       "      <th>6</th>\n",
       "      <td>48203020103</td>\n",
       "      <td>POLYGON ((-10503682.240 3824785.580, -10503608...</td>\n",
       "      <td>Census Tract 201.03, Harrison County, Texas</td>\n",
       "      <td>48</td>\n",
       "      <td>203</td>\n",
       "      <td>020103</td>\n",
       "      <td>20-24</td>\n",
       "      <td>25-29</td>\n",
       "      <td>15-19</td>\n",
       "      <td>0.638538</td>\n",
       "      <td>...</td>\n",
       "      <td>0.892985</td>\n",
       "      <td>0.083234</td>\n",
       "      <td>0.0</td>\n",
       "      <td>0.000000</td>\n",
       "      <td>0.000000</td>\n",
       "      <td>0.023781</td>\n",
       "      <td>0.639614</td>\n",
       "      <td>22</td>\n",
       "      <td>17</td>\n",
       "      <td>27</td>\n",
       "    </tr>\n",
       "    <tr>\n",
       "      <th>7</th>\n",
       "      <td>48203020200</td>\n",
       "      <td>POLYGON ((-10542199.010 3861433.820, -10542197...</td>\n",
       "      <td>Census Tract 202, Harrison County, Texas</td>\n",
       "      <td>48</td>\n",
       "      <td>203</td>\n",
       "      <td>020200</td>\n",
       "      <td>25-29</td>\n",
       "      <td>25-29</td>\n",
       "      <td>25-29</td>\n",
       "      <td>0.660900</td>\n",
       "      <td>...</td>\n",
       "      <td>0.883748</td>\n",
       "      <td>0.063480</td>\n",
       "      <td>0.0</td>\n",
       "      <td>0.025621</td>\n",
       "      <td>0.004589</td>\n",
       "      <td>0.022562</td>\n",
       "      <td>0.633769</td>\n",
       "      <td>27</td>\n",
       "      <td>27</td>\n",
       "      <td>27</td>\n",
       "    </tr>\n",
       "    <tr>\n",
       "      <th>8</th>\n",
       "      <td>48203020502</td>\n",
       "      <td>POLYGON ((-10511655.170 3824200.700, -10511599...</td>\n",
       "      <td>Census Tract 205.02, Harrison County, Texas</td>\n",
       "      <td>48</td>\n",
       "      <td>203</td>\n",
       "      <td>020502</td>\n",
       "      <td>10-14</td>\n",
       "      <td>15-19</td>\n",
       "      <td>10-14</td>\n",
       "      <td>0.668128</td>\n",
       "      <td>...</td>\n",
       "      <td>0.775475</td>\n",
       "      <td>0.135866</td>\n",
       "      <td>0.0</td>\n",
       "      <td>0.010363</td>\n",
       "      <td>0.051238</td>\n",
       "      <td>0.027058</td>\n",
       "      <td>0.477666</td>\n",
       "      <td>12</td>\n",
       "      <td>12</td>\n",
       "      <td>17</td>\n",
       "    </tr>\n",
       "    <tr>\n",
       "      <th>9</th>\n",
       "      <td>48203020605</td>\n",
       "      <td>POLYGON ((-10538076.410 3834774.760, -10538075...</td>\n",
       "      <td>Census Tract 206.05, Harrison County, Texas</td>\n",
       "      <td>48</td>\n",
       "      <td>203</td>\n",
       "      <td>020605</td>\n",
       "      <td>20-24</td>\n",
       "      <td>20-24</td>\n",
       "      <td>20-24</td>\n",
       "      <td>0.712600</td>\n",
       "      <td>...</td>\n",
       "      <td>0.846124</td>\n",
       "      <td>0.083301</td>\n",
       "      <td>0.0</td>\n",
       "      <td>0.005785</td>\n",
       "      <td>0.030081</td>\n",
       "      <td>0.034709</td>\n",
       "      <td>0.659746</td>\n",
       "      <td>22</td>\n",
       "      <td>22</td>\n",
       "      <td>22</td>\n",
       "    </tr>\n",
       "    <tr>\n",
       "      <th>10</th>\n",
       "      <td>48203020104</td>\n",
       "      <td>POLYGON ((-10501137.820 3841256.650, -10501074...</td>\n",
       "      <td>Census Tract 201.04, Harrison County, Texas</td>\n",
       "      <td>48</td>\n",
       "      <td>203</td>\n",
       "      <td>020104</td>\n",
       "      <td>25-29</td>\n",
       "      <td>30-34</td>\n",
       "      <td>20-24</td>\n",
       "      <td>0.738693</td>\n",
       "      <td>...</td>\n",
       "      <td>0.819672</td>\n",
       "      <td>0.070164</td>\n",
       "      <td>0.0</td>\n",
       "      <td>0.006557</td>\n",
       "      <td>0.040656</td>\n",
       "      <td>0.062951</td>\n",
       "      <td>0.615534</td>\n",
       "      <td>27</td>\n",
       "      <td>22</td>\n",
       "      <td>32</td>\n",
       "    </tr>\n",
       "    <tr>\n",
       "      <th>11</th>\n",
       "      <td>48203020102</td>\n",
       "      <td>POLYGON ((-10484997.380 3855039.810, -10484993...</td>\n",
       "      <td>Census Tract 201.02, Harrison County, Texas</td>\n",
       "      <td>48</td>\n",
       "      <td>203</td>\n",
       "      <td>020102</td>\n",
       "      <td>30-34</td>\n",
       "      <td>30-34</td>\n",
       "      <td>30-34</td>\n",
       "      <td>0.623592</td>\n",
       "      <td>...</td>\n",
       "      <td>0.790840</td>\n",
       "      <td>0.162341</td>\n",
       "      <td>0.0</td>\n",
       "      <td>0.004071</td>\n",
       "      <td>0.019847</td>\n",
       "      <td>0.022901</td>\n",
       "      <td>0.522515</td>\n",
       "      <td>32</td>\n",
       "      <td>32</td>\n",
       "      <td>32</td>\n",
       "    </tr>\n",
       "    <tr>\n",
       "      <th>12</th>\n",
       "      <td>48203020301</td>\n",
       "      <td>POLYGON ((-10503012.880 3834940.890, -10503007...</td>\n",
       "      <td>Census Tract 203.01, Harrison County, Texas</td>\n",
       "      <td>48</td>\n",
       "      <td>203</td>\n",
       "      <td>020301</td>\n",
       "      <td>10-14</td>\n",
       "      <td>10-14</td>\n",
       "      <td>10-14</td>\n",
       "      <td>0.741379</td>\n",
       "      <td>...</td>\n",
       "      <td>0.890411</td>\n",
       "      <td>0.036530</td>\n",
       "      <td>0.0</td>\n",
       "      <td>0.010959</td>\n",
       "      <td>0.024201</td>\n",
       "      <td>0.037900</td>\n",
       "      <td>0.652381</td>\n",
       "      <td>12</td>\n",
       "      <td>12</td>\n",
       "      <td>12</td>\n",
       "    </tr>\n",
       "    <tr>\n",
       "      <th>13</th>\n",
       "      <td>48203020606</td>\n",
       "      <td>POLYGON ((-10542178.860 3833352.110, -10542178...</td>\n",
       "      <td>Census Tract 206.06, Harrison County, Texas</td>\n",
       "      <td>48</td>\n",
       "      <td>203</td>\n",
       "      <td>020606</td>\n",
       "      <td>20-24</td>\n",
       "      <td>20-24</td>\n",
       "      <td>20-24</td>\n",
       "      <td>0.782846</td>\n",
       "      <td>...</td>\n",
       "      <td>0.845113</td>\n",
       "      <td>0.118797</td>\n",
       "      <td>0.0</td>\n",
       "      <td>0.008271</td>\n",
       "      <td>0.000000</td>\n",
       "      <td>0.027820</td>\n",
       "      <td>0.602114</td>\n",
       "      <td>22</td>\n",
       "      <td>22</td>\n",
       "      <td>22</td>\n",
       "    </tr>\n",
       "  </tbody>\n",
       "</table>\n",
       "<p>14 rows × 24 columns</p>\n",
       "</div>"
      ],
      "text/plain": [
       "          GEOID                                           geometry  \\\n",
       "0   48203020604  POLYGON ((-10542200.570 3822928.240, -10542200...   \n",
       "1   48203020402  POLYGON ((-10516258.230 3827513.530, -10516257...   \n",
       "2   48203020501  POLYGON ((-10505033.890 3835034.510, -10505033...   \n",
       "3   48203020302  POLYGON ((-10505670.970 3837985.810, -10505667...   \n",
       "4   48203020603  POLYGON ((-10538910.080 3829652.730, -10538889...   \n",
       "5   48203020401  POLYGON ((-10515066.110 3834885.950, -10515061...   \n",
       "6   48203020103  POLYGON ((-10503682.240 3824785.580, -10503608...   \n",
       "7   48203020200  POLYGON ((-10542199.010 3861433.820, -10542197...   \n",
       "8   48203020502  POLYGON ((-10511655.170 3824200.700, -10511599...   \n",
       "9   48203020605  POLYGON ((-10538076.410 3834774.760, -10538075...   \n",
       "10  48203020104  POLYGON ((-10501137.820 3841256.650, -10501074...   \n",
       "11  48203020102  POLYGON ((-10484997.380 3855039.810, -10484993...   \n",
       "12  48203020301  POLYGON ((-10503012.880 3834940.890, -10503007...   \n",
       "13  48203020606  POLYGON ((-10542178.860 3833352.110, -10542178...   \n",
       "\n",
       "                                           NAME state county   tract  \\\n",
       "0   Census Tract 206.04, Harrison County, Texas    48    203  020604   \n",
       "1   Census Tract 204.02, Harrison County, Texas    48    203  020402   \n",
       "2   Census Tract 205.01, Harrison County, Texas    48    203  020501   \n",
       "3   Census Tract 203.02, Harrison County, Texas    48    203  020302   \n",
       "4   Census Tract 206.03, Harrison County, Texas    48    203  020603   \n",
       "5   Census Tract 204.01, Harrison County, Texas    48    203  020401   \n",
       "6   Census Tract 201.03, Harrison County, Texas    48    203  020103   \n",
       "7      Census Tract 202, Harrison County, Texas    48    203  020200   \n",
       "8   Census Tract 205.02, Harrison County, Texas    48    203  020502   \n",
       "9   Census Tract 206.05, Harrison County, Texas    48    203  020605   \n",
       "10  Census Tract 201.04, Harrison County, Texas    48    203  020104   \n",
       "11  Census Tract 201.02, Harrison County, Texas    48    203  020102   \n",
       "12  Census Tract 203.01, Harrison County, Texas    48    203  020301   \n",
       "13  Census Tract 206.06, Harrison County, Texas    48    203  020606   \n",
       "\n",
       "   population_median men_median women_median  p_salary  ...  p_drovealone  \\\n",
       "0              15-19      15-19        15-19  0.727061  ...      0.793725   \n",
       "1              15-19      15-19        10-14  0.731912  ...      0.830746   \n",
       "2              10-14      15-19          5-9  0.775322  ...      0.899865   \n",
       "3              15-19      15-19        15-19  0.591912  ...      0.844407   \n",
       "4              20-24      20-24        20-24  0.914747  ...      0.908138   \n",
       "5              10-14      10-14        10-14  0.639286  ...      0.819157   \n",
       "6              20-24      25-29        15-19  0.638538  ...      0.892985   \n",
       "7              25-29      25-29        25-29  0.660900  ...      0.883748   \n",
       "8              10-14      15-19        10-14  0.668128  ...      0.775475   \n",
       "9              20-24      20-24        20-24  0.712600  ...      0.846124   \n",
       "10             25-29      30-34        20-24  0.738693  ...      0.819672   \n",
       "11             30-34      30-34        30-34  0.623592  ...      0.790840   \n",
       "12             10-14      10-14        10-14  0.741379  ...      0.890411   \n",
       "13             20-24      20-24        20-24  0.782846  ...      0.845113   \n",
       "\n",
       "    p_carpool  p_publictrans  p_walked  p_bikemotorother  p_workfromhome  \\\n",
       "0    0.090120            0.0  0.004005          0.014019        0.098131   \n",
       "1    0.075113            0.0  0.018528          0.018027        0.057586   \n",
       "2    0.047361            0.0  0.009472          0.002706        0.040595   \n",
       "3    0.021867            0.0  0.000000          0.012616        0.121110   \n",
       "4    0.026819            0.0  0.018804          0.005549        0.040691   \n",
       "5    0.061472            0.0  0.033595          0.040743        0.045032   \n",
       "6    0.083234            0.0  0.000000          0.000000        0.023781   \n",
       "7    0.063480            0.0  0.025621          0.004589        0.022562   \n",
       "8    0.135866            0.0  0.010363          0.051238        0.027058   \n",
       "9    0.083301            0.0  0.005785          0.030081        0.034709   \n",
       "10   0.070164            0.0  0.006557          0.040656        0.062951   \n",
       "11   0.162341            0.0  0.004071          0.019847        0.022901   \n",
       "12   0.036530            0.0  0.010959          0.024201        0.037900   \n",
       "13   0.118797            0.0  0.008271          0.000000        0.027820   \n",
       "\n",
       "    p_healthinsurance  pm_int  wm_int  mm_int  \n",
       "0            0.643678      17      17      17  \n",
       "1            0.526763      17      12      17  \n",
       "2            0.444844      12       7      17  \n",
       "3            0.443804      17      17      17  \n",
       "4            0.721281      22      22      22  \n",
       "5            0.638902      12      12      12  \n",
       "6            0.639614      22      17      27  \n",
       "7            0.633769      27      27      27  \n",
       "8            0.477666      12      12      17  \n",
       "9            0.659746      22      22      22  \n",
       "10           0.615534      27      22      32  \n",
       "11           0.522515      32      32      32  \n",
       "12           0.652381      12      12      12  \n",
       "13           0.602114      22      22      22  \n",
       "\n",
       "[14 rows x 24 columns]"
      ]
     },
     "execution_count": 85,
     "metadata": {},
     "output_type": "execute_result"
    }
   ],
   "source": [
    "base"
   ]
  },
  {
   "cell_type": "code",
   "execution_count": 40,
   "id": "f46dca92",
   "metadata": {},
   "outputs": [],
   "source": [
    "# Split data \n",
    "X_train, X_test, y_train, y_test = train_test_split(X_scaled, y, test_size=0.2, random_state=42)"
   ]
  },
  {
   "cell_type": "code",
   "execution_count": 41,
   "id": "438d82a0",
   "metadata": {},
   "outputs": [
    {
     "data": {
      "text/plain": [
       "RandomForestRegressor(n_estimators=300)"
      ]
     },
     "execution_count": 41,
     "metadata": {},
     "output_type": "execute_result"
    }
   ],
   "source": [
    "# Define model\n",
    "forest_reg = RandomForestRegressor(n_estimators = 300)\n",
    "\n",
    "# Fit model\n",
    "forest_reg.fit(X_train, y_train)"
   ]
  },
  {
   "cell_type": "code",
   "execution_count": 42,
   "id": "53097aa7",
   "metadata": {},
   "outputs": [
    {
     "data": {
      "text/plain": [
       "8.720527082269315"
      ]
     },
     "execution_count": 42,
     "metadata": {},
     "output_type": "execute_result"
    }
   ],
   "source": [
    "# Predict test labels predictions\n",
    "predictions = forest_reg.predict(X_test)\n",
    "\n",
    "# Compute mean-squared-error\n",
    "final_mse = mean_squared_error(y_test , predictions)\n",
    "final_rmse = np.sqrt(final_mse)\n",
    "final_rmse"
   ]
  },
  {
   "cell_type": "code",
   "execution_count": 43,
   "id": "a59ab729",
   "metadata": {},
   "outputs": [
    {
     "name": "stderr",
     "output_type": "stream",
     "text": [
      "C:\\Users\\zenon\\anaconda3\\envs\\gds\\lib\\site-packages\\sklearn\\base.py:443: UserWarning: X has feature names, but RandomForestRegressor was fitted without feature names\n",
      "  warnings.warn(\n"
     ]
    }
   ],
   "source": [
    "predictions = forest_reg.predict(X)\n"
   ]
  },
  {
   "cell_type": "code",
   "execution_count": 81,
   "id": "d8bd3417",
   "metadata": {},
   "outputs": [],
   "source": [
    "linreg = LinearRegression().fit(X, y)\n",
    "linreg_prediction = linreg.predict(X)"
   ]
  },
  {
   "cell_type": "code",
   "execution_count": 78,
   "id": "b3cd7819",
   "metadata": {},
   "outputs": [],
   "source": [
    "coefs_arr = np.hstack([np.array([linreg.intercept_]), linreg.coef_])"
   ]
  },
  {
   "cell_type": "code",
   "execution_count": 79,
   "id": "e1de3b5e",
   "metadata": {},
   "outputs": [
    {
     "data": {
      "text/html": [
       "<div>\n",
       "<style scoped>\n",
       "    .dataframe tbody tr th:only-of-type {\n",
       "        vertical-align: middle;\n",
       "    }\n",
       "\n",
       "    .dataframe tbody tr th {\n",
       "        vertical-align: top;\n",
       "    }\n",
       "\n",
       "    .dataframe thead th {\n",
       "        text-align: right;\n",
       "    }\n",
       "</style>\n",
       "<table border=\"1\" class=\"dataframe\">\n",
       "  <thead>\n",
       "    <tr style=\"text-align: right;\">\n",
       "      <th></th>\n",
       "      <th>Variable</th>\n",
       "      <th>Coefficient</th>\n",
       "    </tr>\n",
       "  </thead>\n",
       "  <tbody>\n",
       "    <tr>\n",
       "      <th>0</th>\n",
       "      <td>Intercept</td>\n",
       "      <td>-120.549458</td>\n",
       "    </tr>\n",
       "    <tr>\n",
       "      <th>1</th>\n",
       "      <td>p_carpool</td>\n",
       "      <td>204.439574</td>\n",
       "    </tr>\n",
       "    <tr>\n",
       "      <th>2</th>\n",
       "      <td>B19052_002E</td>\n",
       "      <td>0.009534</td>\n",
       "    </tr>\n",
       "    <tr>\n",
       "      <th>3</th>\n",
       "      <td>p_has_internet</td>\n",
       "      <td>18.649621</td>\n",
       "    </tr>\n",
       "    <tr>\n",
       "      <th>4</th>\n",
       "      <td>p_healthinsurance</td>\n",
       "      <td>33.031264</td>\n",
       "    </tr>\n",
       "    <tr>\n",
       "      <th>5</th>\n",
       "      <td>med_total_earnings</td>\n",
       "      <td>-0.001158</td>\n",
       "    </tr>\n",
       "    <tr>\n",
       "      <th>6</th>\n",
       "      <td>p_drovealone</td>\n",
       "      <td>152.838647</td>\n",
       "    </tr>\n",
       "    <tr>\n",
       "      <th>7</th>\n",
       "      <td>p_salary</td>\n",
       "      <td>-10.264643</td>\n",
       "    </tr>\n",
       "    <tr>\n",
       "      <th>8</th>\n",
       "      <td>p_walked</td>\n",
       "      <td>-317.858129</td>\n",
       "    </tr>\n",
       "    <tr>\n",
       "      <th>9</th>\n",
       "      <td>p_workfromhome</td>\n",
       "      <td>71.637033</td>\n",
       "    </tr>\n",
       "    <tr>\n",
       "      <th>10</th>\n",
       "      <td>p_bikemotorother</td>\n",
       "      <td>-111.057126</td>\n",
       "    </tr>\n",
       "    <tr>\n",
       "      <th>11</th>\n",
       "      <td>p_black</td>\n",
       "      <td>-9.124973</td>\n",
       "    </tr>\n",
       "  </tbody>\n",
       "</table>\n",
       "</div>"
      ],
      "text/plain": [
       "              Variable  Coefficient\n",
       "0            Intercept  -120.549458\n",
       "1            p_carpool   204.439574\n",
       "2          B19052_002E     0.009534\n",
       "3       p_has_internet    18.649621\n",
       "4    p_healthinsurance    33.031264\n",
       "5   med_total_earnings    -0.001158\n",
       "6         p_drovealone   152.838647\n",
       "7             p_salary   -10.264643\n",
       "8             p_walked  -317.858129\n",
       "9       p_workfromhome    71.637033\n",
       "10    p_bikemotorother  -111.057126\n",
       "11             p_black    -9.124973"
      ]
     },
     "execution_count": 79,
     "metadata": {},
     "output_type": "execute_result"
    }
   ],
   "source": [
    "coln = ['Intercept', 'p_carpool', 'B19052_002E', 'p_has_internet', 'p_healthinsurance', 'med_total_earnings', 'p_drovealone', 'p_salary', 'p_walked', 'p_workfromhome', 'p_bikemotorother', 'p_black']\n",
    "pd.DataFrame({'Variable': coln, 'Coefficient': coefs_arr})"
   ]
  },
  {
   "cell_type": "code",
   "execution_count": 44,
   "id": "5eb818ba",
   "metadata": {},
   "outputs": [
    {
     "data": {
      "text/plain": [
       "6.162263550311043"
      ]
     },
     "execution_count": 44,
     "metadata": {},
     "output_type": "execute_result"
    }
   ],
   "source": [
    "# Compute mean-squared-error\n",
    "final_mse = mean_squared_error(y , predictions)\n",
    "final_rmse = np.sqrt(final_mse)\n",
    "final_rmse"
   ]
  },
  {
   "cell_type": "markdown",
   "id": "e717d40f",
   "metadata": {},
   "source": [
    "# VISUALIZATIONS"
   ]
  },
  {
   "cell_type": "code",
   "execution_count": 84,
   "id": "7a490be0",
   "metadata": {},
   "outputs": [
    {
     "data": {
      "text/plain": [
       "(0.0, 50.0)"
      ]
     },
     "execution_count": 84,
     "metadata": {},
     "output_type": "execute_result"
    },
    {
     "data": {
      "image/png": "[encoded data removed]",
      "text/plain": [
       "<Figure size 576x576 with 1 Axes>"
      ]
     },
     "metadata": {
      "needs_background": "light"
     },
     "output_type": "display_data"
    }
   ],
   "source": [
    "# Plot\n",
    "fig, ax = plt.subplots(figsize=(8, 8))\n",
    "ax.scatter(y, linreg_prediction, alpha=0.4, s=50, zorder=2)\n",
    "ax.plot([0, 80], [0, 80], color='k', lw=1, zorder=3)\n",
    "ax.set_ylabel('Predicted time of travel', fontsize=14)\n",
    "ax.set_xlabel('Observed time of travel', fontsize=14)\n",
    "ax.tick_params(axis='both', which='major', labelsize=13)\n",
    "ax.grid(ls='dashed', lw=1, zorder=1)\n",
    "ax.set_ylim(0,50)\n",
    "ax.set_xlim(0,50)"
   ]
  },
  {
   "cell_type": "code",
   "execution_count": 36,
   "id": "080a2c4b",
   "metadata": {},
   "outputs": [
    {
     "data": {
      "image/png": "[encoded data removed]",
      "text/plain": [
       "<Figure size 432x288 with 1 Axes>"
      ]
     },
     "metadata": {},
     "output_type": "display_data"
    }
   ],
   "source": [
    "\n",
    "\n",
    "#width = 0.5\n",
    "\n",
    "men_agg   = [343800.0]\n",
    "women_agg = [253860.0]\n",
    "pop_agg = [597665.0]\n",
    "\n",
    "# Pie chart, where the slices will be ordered and plotted counter-clockwise:\n",
    "labels = ['Men aggregate hours traveled', 'Women aggregate hours traveled']\n",
    "sizes = [343800.0, 253860.0]\n",
    "\n",
    "\n",
    "fig, ax = plt.subplots()\n",
    "ax.pie(sizes, labels=labels, autopct='%.0f%%')\n",
    "ax.axis('equal')  # Equal aspect ratio ensures the pie chart is circular.\n",
    "ax.set_title('Total Aggregate hours spent traveling')\n",
    " \n",
    "plt.show()"
   ]
  },
  {
   "cell_type": "code",
   "execution_count": null,
   "id": "15989f9f",
   "metadata": {},
   "outputs": [],
   "source": []
  }
 ],
 "metadata": {
  "kernelspec": {
   "display_name": "Python 3 (ipykernel)",
   "language": "python",
   "name": "python3"
  },
  "language_info": {
   "codemirror_mode": {
    "name": "ipython",
    "version": 3
   },
   "file_extension": ".py",
   "mimetype": "text/x-python",
   "name": "python",
   "nbconvert_exporter": "python",
   "pygments_lexer": "ipython3",
   "version": "3.8.12"
  }
 },
 "nbformat": 4,
 "nbformat_minor": 5
}
