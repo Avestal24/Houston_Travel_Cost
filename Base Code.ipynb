{
 "cells": [
  {
   "cell_type": "markdown",
   "id": "0261270a",
   "metadata": {},
   "source": [
    "Modules"
   ]
  },
  {
   "cell_type": "code",
   "execution_count": 1,
   "id": "b33e68ff",
   "metadata": {},
   "outputs": [],
   "source": [
    "# Import modules\n",
    "import pandas as pd\n",
    "import geopandas as gpd\n",
    "import matplotlib.pyplot as plt\n",
    "from cenpy import products\n",
    "import matplotlib.pyplot as plt"
   ]
  },
  {
   "cell_type": "markdown",
   "id": "d787710a",
   "metadata": {},
   "source": [
    "Set Up"
   ]
  },
  {
   "cell_type": "code",
   "execution_count": 2,
   "id": "eba045ca",
   "metadata": {},
   "outputs": [],
   "source": [
    "# Define product\n",
    "acs = products.ACS(2019)"
   ]
  },
  {
   "cell_type": "markdown",
   "id": "100a05b5",
   "metadata": {},
   "source": [
    "**View a new census table**\n",
    "https://api.census.gov/data/2019/acs/acs5/variables.html"
   ]
  },
  {
   "cell_type": "code",
   "execution_count": 3,
   "id": "ccd1bb2f",
   "metadata": {},
   "outputs": [],
   "source": [
    "# Download data\n",
    "    # the v list is a list of the names of variables you want to input that then goes into the data pull\n",
    "    # the level is \n",
    "v = []\n",
    "counter = 1\n",
    "while counter < 10:\n",
    "    col = 'B08012_00'+str(counter)+'E'\n",
    "    v.append(col)\n",
    "    counter += 1\n",
    "\n",
    "while counter < 40:\n",
    "    col = 'B08012_0'+str(counter)+'E'\n",
    "    v.append(col)\n",
    "    counter += 1\n",
    "    \n",
    "v.append('B08013_001E')\n",
    "v.append('B08013_002E')\n",
    "v.append('B08013_003E')"
   ]
  },
  {
   "cell_type": "code",
   "execution_count": 4,
   "id": "d905e86a",
   "metadata": {},
   "outputs": [
    {
     "name": "stderr",
     "output_type": "stream",
     "text": [
      "C:\\Users\\zenon\\anaconda3\\envs\\gds\\lib\\site-packages\\pyproj\\crs\\crs.py:131: FutureWarning: '+init=<authority>:<code>' syntax is deprecated. '<authority>:<code>' is the preferred initialization method. When making the change, be mindful of axis order changes: https://pyproj4.github.io/pyproj/stable/gotchas.html#axis-order-changes-in-proj-6\n",
      "  in_crs_string = _prepare_from_proj_string(in_crs_string)\n",
      "C:\\Users\\zenon\\anaconda3\\envs\\gds\\lib\\site-packages\\pyproj\\crs\\crs.py:131: FutureWarning: '+init=<authority>:<code>' syntax is deprecated. '<authority>:<code>' is the preferred initialization method. When making the change, be mindful of axis order changes: https://pyproj4.github.io/pyproj/stable/gotchas.html#axis-order-changes-in-proj-6\n",
      "  in_crs_string = _prepare_from_proj_string(in_crs_string)\n",
      "C:\\Users\\zenon\\anaconda3\\envs\\gds\\lib\\site-packages\\cenpy\\products.py:762: FutureWarning: The `op` parameter is deprecated and will be removed in a future release. Please use the `predicate` parameter instead.\n",
      "  return self._from_name(county, variables, level, \"Counties\", **kwargs)\n"
     ]
    }
   ],
   "source": [
    "new_table = products.ACS(2019).from_county('Harris County, TX', level='tract', variables=v)"
   ]
  },
  {
   "cell_type": "code",
   "execution_count": 5,
   "id": "2cb0de17",
   "metadata": {
    "scrolled": true
   },
   "outputs": [
    {
     "name": "stdout",
     "output_type": "stream",
     "text": [
      "<class 'geopandas.geodataframe.GeoDataFrame'>\n",
      "Int64Index: 14 entries, 0 to 13\n",
      "Data columns (total 48 columns):\n",
      " #   Column       Non-Null Count  Dtype   \n",
      "---  ------       --------------  -----   \n",
      " 0   GEOID        14 non-null     object  \n",
      " 1   geometry     14 non-null     geometry\n",
      " 2   B08012_001E  14 non-null     float64 \n",
      " 3   B08012_002E  14 non-null     float64 \n",
      " 4   B08012_003E  14 non-null     float64 \n",
      " 5   B08012_004E  14 non-null     float64 \n",
      " 6   B08012_005E  14 non-null     float64 \n",
      " 7   B08012_006E  14 non-null     float64 \n",
      " 8   B08012_007E  14 non-null     float64 \n",
      " 9   B08012_008E  14 non-null     float64 \n",
      " 10  B08012_009E  14 non-null     float64 \n",
      " 11  B08012_010E  14 non-null     float64 \n",
      " 12  B08012_011E  14 non-null     float64 \n",
      " 13  B08012_012E  14 non-null     float64 \n",
      " 14  B08012_013E  14 non-null     float64 \n",
      " 15  B08012_014E  14 non-null     float64 \n",
      " 16  B08012_015E  14 non-null     float64 \n",
      " 17  B08012_016E  14 non-null     float64 \n",
      " 18  B08012_017E  14 non-null     float64 \n",
      " 19  B08012_018E  14 non-null     float64 \n",
      " 20  B08012_019E  14 non-null     float64 \n",
      " 21  B08012_020E  14 non-null     float64 \n",
      " 22  B08012_021E  14 non-null     float64 \n",
      " 23  B08012_022E  14 non-null     float64 \n",
      " 24  B08012_023E  14 non-null     float64 \n",
      " 25  B08012_024E  14 non-null     float64 \n",
      " 26  B08012_025E  14 non-null     float64 \n",
      " 27  B08012_026E  14 non-null     float64 \n",
      " 28  B08012_027E  14 non-null     float64 \n",
      " 29  B08012_028E  14 non-null     float64 \n",
      " 30  B08012_029E  14 non-null     float64 \n",
      " 31  B08012_030E  14 non-null     float64 \n",
      " 32  B08012_031E  14 non-null     float64 \n",
      " 33  B08012_032E  14 non-null     float64 \n",
      " 34  B08012_033E  14 non-null     float64 \n",
      " 35  B08012_034E  14 non-null     float64 \n",
      " 36  B08012_035E  14 non-null     float64 \n",
      " 37  B08012_036E  14 non-null     float64 \n",
      " 38  B08012_037E  14 non-null     float64 \n",
      " 39  B08012_038E  14 non-null     float64 \n",
      " 40  B08012_039E  14 non-null     float64 \n",
      " 41  B08013_001E  14 non-null     float64 \n",
      " 42  B08013_002E  14 non-null     float64 \n",
      " 43  B08013_003E  14 non-null     float64 \n",
      " 44  NAME         14 non-null     object  \n",
      " 45  state        14 non-null     object  \n",
      " 46  county       14 non-null     object  \n",
      " 47  tract        14 non-null     object  \n",
      "dtypes: float64(42), geometry(1), object(5)\n",
      "memory usage: 5.4+ KB\n"
     ]
    }
   ],
   "source": [
    "# Calculate stats for the new data for a given column\n",
    "new_table.info()"
   ]
  },
  {
   "cell_type": "code",
   "execution_count": 6,
   "id": "99e87b08",
   "metadata": {},
   "outputs": [
    {
     "data": {
      "text/plain": [
       "343800.0"
      ]
     },
     "execution_count": 6,
     "metadata": {},
     "output_type": "execute_result"
    }
   ],
   "source": [
    "new_table['B08013_002E'].sum()"
   ]
  },
  {
   "cell_type": "code",
   "execution_count": 7,
   "id": "62a20889",
   "metadata": {},
   "outputs": [
    {
     "data": {
      "text/plain": [
       "253860.0"
      ]
     },
     "execution_count": 7,
     "metadata": {},
     "output_type": "execute_result"
    }
   ],
   "source": [
    "new_table['B08013_003E'].sum()"
   ]
  },
  {
   "cell_type": "markdown",
   "id": "d5f42270",
   "metadata": {},
   "source": [
    "*Important Data*: men have 343800 aggregate travel hours, as opposed to women's 253860."
   ]
  },
  {
   "cell_type": "code",
   "execution_count": 8,
   "id": "ae9b2355",
   "metadata": {},
   "outputs": [
    {
     "data": {
      "text/plain": [
       "<AxesSubplot:>"
      ]
     },
     "execution_count": 8,
     "metadata": {},
     "output_type": "execute_result"
    },
    {
     "data": {
      "image/png": "[encoded data removed]",
      "text/plain": [
       "<Figure size 720x720 with 2 Axes>"
      ]
     },
     "metadata": {
      "needs_background": "light"
     },
     "output_type": "display_data"
    }
   ],
   "source": [
    "# Plot map of a given column\n",
    "f, ax = plt.subplots(1, 1, figsize=(10,10))\n",
    "new_table.plot('B08013_002E', ax=ax, cmap='plasma', legend=True)"
   ]
  },
  {
   "cell_type": "code",
   "execution_count": 9,
   "id": "b86d71f9",
   "metadata": {},
   "outputs": [
    {
     "data": {
      "text/plain": [
       "<AxesSubplot:>"
      ]
     },
     "execution_count": 9,
     "metadata": {},
     "output_type": "execute_result"
    },
    {
     "data": {
      "image/png": "[encoded data removed]",
      "text/plain": [
       "<Figure size 720x720 with 2 Axes>"
      ]
     },
     "metadata": {
      "needs_background": "light"
     },
     "output_type": "display_data"
    }
   ],
   "source": [
    "# Plot map of a given column\n",
    "f, ax = plt.subplots(1, 1, figsize=(10,10))\n",
    "new_table.plot('B08013_003E', ax=ax, cmap='plasma', legend=True)"
   ]
  },
  {
   "cell_type": "markdown",
   "id": "4e15bc38",
   "metadata": {},
   "source": [
    "Columns of note:\n",
    "B08012_001E = Total number of people polled per tract\n",
    "B08012_014E = Total number of men per tract\n",
    "B08012_027E = Total number of women per tract\n",
    "B08012_012E + B08012_013E = Total numer of workers with a travel time > 60 minutes\n",
    "B08012_025E + B08012_026E = Total numer of men with a travel time > 60 minutes\n",
    "B08012_038E + B08012_039E = Total numer of women with a travel time > 60 minutes\n",
    "B08013_001E = Aggregate travel hours\n",
    "B08013_002E = Men's aggregate travel hours\n",
    "B08013_003E = Men's aggregate travel hours"
   ]
  },
  {
   "cell_type": "markdown",
   "id": "b2e6ee8a",
   "metadata": {},
   "source": [
    "**Gather relevant information**"
   ]
  },
  {
   "cell_type": "markdown",
   "id": "e5d5f034",
   "metadata": {},
   "source": [
    "Base Variables:"
   ]
  },
  {
   "cell_type": "code",
   "execution_count": 10,
   "id": "3cc5ae82",
   "metadata": {},
   "outputs": [],
   "source": [
    "base = pd.DataFrame()\n",
    "\n",
    "def get_popmedian(gdf):\n",
    "    infodict = {}\n",
    "    \n",
    "    for row in gdf.iterrows():\n",
    "        pc = ['B08012_002E', 'B08012_003E', 'B08012_004E', 'B08012_005E', 'B08012_006E', 'B08012_007E', 'B08012_008E', 'B08012_009E', 'B08012_010E', 'B08012_011E', 'B08012_012E', 'B08012_013E']\n",
    "        people = int(row[1][2])\n",
    "        hpeople = people // 2\n",
    "        currcol = ''\n",
    "        \n",
    "        while hpeople > 0:\n",
    "            currcol = pc.pop(0)\n",
    "            value = new_table[currcol][row[0]]\n",
    "            hpeople = hpeople - value # subtract the number of people in that category from the total\n",
    "            \n",
    "        infodict[row[1][47]] = currcol\n",
    "        \n",
    "    return infodict\n",
    "\n",
    "def get_menmedian(gdf):\n",
    "    infodict = {}\n",
    "    \n",
    "    for row in gdf.iterrows():\n",
    "        pc = ['B08012_015E', 'B08012_016E', 'B08012_017E', 'B08012_018E', 'B08012_019E', 'B08012_020E', 'B08012_021E', 'B08012_022E', 'B08012_023E', 'B08012_024E', 'B08012_025E', 'B08012_026E']\n",
    "        men = int(row[1][15])\n",
    "        hmen = men // 2\n",
    "        currcol = ''\n",
    "        #print('new row', currcol)\n",
    "        \n",
    "        while hmen > 0:\n",
    "            currcol = pc.pop(0)\n",
    "            value = new_table[currcol][row[0]]\n",
    "            hmen = hmen - value # subtract the number of people in that category from the total\n",
    "            \n",
    "        #print('end while', currcol)\n",
    "        infodict[row[1][47]] = currcol\n",
    "        \n",
    "    return infodict\n",
    "\n",
    "\n",
    "def get_womenmedian(gdf):\n",
    "    infodict = {}\n",
    "    \n",
    "    for row in gdf.iterrows():\n",
    "        pc = ['B08012_028E', 'B08012_029E', 'B08012_030E', 'B08012_031E', 'B08012_032E', 'B08012_033E', 'B08012_034E', 'B08012_035E', 'B08012_036E', 'B08012_037E', 'B08012_038E', 'B08012_039E']\n",
    "        women = int(row[1][28])\n",
    "        hwomen = women // 2\n",
    "        currcol = ''\n",
    "        #print('new row', currcol)\n",
    "        \n",
    "        while hwomen > 0:\n",
    "            #print('while   half women =', hwomen)\n",
    "            currcol = pc.pop(0)\n",
    "            value = new_table[currcol][row[0]]\n",
    "            hwomen = hwomen - value # subtract the number of people in that category from the total\n",
    "            \n",
    "        #print('end while', currcol)\n",
    "        infodict[row[1][47]] = currcol\n",
    "        \n",
    "    return infodict"
   ]
  },
  {
   "cell_type": "markdown",
   "id": "64a338b7",
   "metadata": {},
   "source": [
    "B08012_004 = 10-14\n",
    "B08012_005 = 15-19\n",
    "B08012_006 = 20-24\n",
    "B08012_007 = 25-29\n",
    "B08012_008 = 30-34"
   ]
  },
  {
   "cell_type": "code",
   "execution_count": 11,
   "id": "9d610338",
   "metadata": {},
   "outputs": [
    {
     "data": {
      "text/plain": [
       "{'020604': 'B08012_005E',\n",
       " '020402': 'B08012_005E',\n",
       " '020501': 'B08012_004E',\n",
       " '020302': 'B08012_005E',\n",
       " '020603': 'B08012_006E',\n",
       " '020401': 'B08012_004E',\n",
       " '020103': 'B08012_006E',\n",
       " '020200': 'B08012_007E',\n",
       " '020502': 'B08012_004E',\n",
       " '020605': 'B08012_006E',\n",
       " '020104': 'B08012_007E',\n",
       " '020102': 'B08012_008E',\n",
       " '020301': 'B08012_004E',\n",
       " '020606': 'B08012_006E'}"
      ]
     },
     "execution_count": 11,
     "metadata": {},
     "output_type": "execute_result"
    }
   ],
   "source": [
    "population_median_cols = get_popmedian(new_table)\n",
    "population_median = ['15-19', '15-19', '10-14', '15-19', '20-24', '10-14', '20-24', '25-29', '10-14', '20-24', '25-29', '30-34', '10-14', '20-24']\n",
    "population_median_cols"
   ]
  },
  {
   "cell_type": "markdown",
   "id": "1f860f1c",
   "metadata": {},
   "source": [
    "B08012_017 = 10-14\n",
    "B08012_018 = 15-19\n",
    "B08012_019 = 20-24\n",
    "B08012_020 = 25-29\n",
    "B08012_021 = 30-35"
   ]
  },
  {
   "cell_type": "code",
   "execution_count": 12,
   "id": "fe4d5f9b",
   "metadata": {},
   "outputs": [
    {
     "data": {
      "text/plain": [
       "{'020604': 'B08012_018E',\n",
       " '020402': 'B08012_018E',\n",
       " '020501': 'B08012_018E',\n",
       " '020302': 'B08012_018E',\n",
       " '020603': 'B08012_019E',\n",
       " '020401': 'B08012_017E',\n",
       " '020103': 'B08012_020E',\n",
       " '020200': 'B08012_020E',\n",
       " '020502': 'B08012_018E',\n",
       " '020605': 'B08012_019E',\n",
       " '020104': 'B08012_021E',\n",
       " '020102': 'B08012_021E',\n",
       " '020301': 'B08012_017E',\n",
       " '020606': 'B08012_019E'}"
      ]
     },
     "execution_count": 12,
     "metadata": {},
     "output_type": "execute_result"
    }
   ],
   "source": [
    "men_median_cols = get_menmedian(new_table)\n",
    "men_median = ['15-19', '15-19', '15-19', '15-19', '20-24', '10-14', '25-29', '25-29', '15-19', '20-24', '30-34', '30-34', '10-14', '20-24']\n",
    "men_median_cols"
   ]
  },
  {
   "cell_type": "markdown",
   "id": "5e78bef8",
   "metadata": {},
   "source": [
    "B08012_029 = 5-9\n",
    "B08012_030 = 10-14\n",
    "B08012_031 = 15-19\n",
    "B08012_032 = 20-24\n",
    "B08012_033 = 25-29\n",
    "B08012_034 = 30-34"
   ]
  },
  {
   "cell_type": "code",
   "execution_count": 13,
   "id": "c9a6e6f7",
   "metadata": {},
   "outputs": [
    {
     "data": {
      "text/plain": [
       "{'020604': 'B08012_031E',\n",
       " '020402': 'B08012_030E',\n",
       " '020501': 'B08012_029E',\n",
       " '020302': 'B08012_031E',\n",
       " '020603': 'B08012_032E',\n",
       " '020401': 'B08012_030E',\n",
       " '020103': 'B08012_031E',\n",
       " '020200': 'B08012_033E',\n",
       " '020502': 'B08012_030E',\n",
       " '020605': 'B08012_032E',\n",
       " '020104': 'B08012_032E',\n",
       " '020102': 'B08012_034E',\n",
       " '020301': 'B08012_030E',\n",
       " '020606': 'B08012_032E'}"
      ]
     },
     "execution_count": 13,
     "metadata": {},
     "output_type": "execute_result"
    }
   ],
   "source": [
    "women_median_cols = get_womenmedian(new_table)\n",
    "women_median = ['15-19', '10-14', '5-9', '15-19', '20-24', '10-14', '15-19', '25-29', '10-14', '20-24', '20-24', '30-34', '10-14', '20-24']\n",
    "women_median_cols"
   ]
  },
  {
   "cell_type": "code",
   "execution_count": 14,
   "id": "85e741cb",
   "metadata": {},
   "outputs": [],
   "source": [
    "# Adding columns to model table\n",
    "base['GEOID'] = new_table['GEOID']\n",
    "base['geometry'] = new_table['geometry']\n",
    "base['NAME'] = new_table['NAME']\n",
    "base['state'] = new_table['state']\n",
    "base['county'] = new_table['county']\n",
    "base['tract'] = new_table['tract']\n",
    "base['population_median'] = population_median\n",
    "base['men_median'] = men_median\n",
    "base['women_median'] = women_median"
   ]
  },
  {
   "cell_type": "code",
   "execution_count": 15,
   "id": "f85439b5",
   "metadata": {},
   "outputs": [
    {
     "name": "stderr",
     "output_type": "stream",
     "text": [
      "C:\\Users\\zenon\\anaconda3\\envs\\gds\\lib\\site-packages\\pyproj\\crs\\crs.py:131: FutureWarning: '+init=<authority>:<code>' syntax is deprecated. '<authority>:<code>' is the preferred initialization method. When making the change, be mindful of axis order changes: https://pyproj4.github.io/pyproj/stable/gotchas.html#axis-order-changes-in-proj-6\n",
      "  in_crs_string = _prepare_from_proj_string(in_crs_string)\n",
      "C:\\Users\\zenon\\anaconda3\\envs\\gds\\lib\\site-packages\\pyproj\\crs\\crs.py:131: FutureWarning: '+init=<authority>:<code>' syntax is deprecated. '<authority>:<code>' is the preferred initialization method. When making the change, be mindful of axis order changes: https://pyproj4.github.io/pyproj/stable/gotchas.html#axis-order-changes-in-proj-6\n",
      "  in_crs_string = _prepare_from_proj_string(in_crs_string)\n",
      "C:\\Users\\zenon\\anaconda3\\envs\\gds\\lib\\site-packages\\cenpy\\products.py:762: FutureWarning: The `op` parameter is deprecated and will be removed in a future release. Please use the `predicate` parameter instead.\n",
      "  return self._from_name(county, variables, level, \"Counties\", **kwargs)\n"
     ]
    }
   ],
   "source": [
    "# people that have a wage or salary income\n",
    "salary = products.ACS(2019).from_county('Harris County, TX', level='tract', variables=['B19052_001E', 'B19052_002E'])\n",
    "p_salary = (salary['B19052_002E']/salary['B19052_001E'])\n",
    "base['p_salary'] = p_salary\n",
    "base['B19052_002E'] = salary['B19052_002E']"
   ]
  },
  {
   "cell_type": "code",
   "execution_count": 16,
   "id": "ceb3f03e",
   "metadata": {},
   "outputs": [
    {
     "name": "stderr",
     "output_type": "stream",
     "text": [
      "C:\\Users\\zenon\\anaconda3\\envs\\gds\\lib\\site-packages\\pyproj\\crs\\crs.py:131: FutureWarning: '+init=<authority>:<code>' syntax is deprecated. '<authority>:<code>' is the preferred initialization method. When making the change, be mindful of axis order changes: https://pyproj4.github.io/pyproj/stable/gotchas.html#axis-order-changes-in-proj-6\n",
      "  in_crs_string = _prepare_from_proj_string(in_crs_string)\n",
      "C:\\Users\\zenon\\anaconda3\\envs\\gds\\lib\\site-packages\\pyproj\\crs\\crs.py:131: FutureWarning: '+init=<authority>:<code>' syntax is deprecated. '<authority>:<code>' is the preferred initialization method. When making the change, be mindful of axis order changes: https://pyproj4.github.io/pyproj/stable/gotchas.html#axis-order-changes-in-proj-6\n",
      "  in_crs_string = _prepare_from_proj_string(in_crs_string)\n",
      "C:\\Users\\zenon\\anaconda3\\envs\\gds\\lib\\site-packages\\cenpy\\products.py:762: FutureWarning: The `op` parameter is deprecated and will be removed in a future release. Please use the `predicate` parameter instead.\n",
      "  return self._from_name(county, variables, level, \"Counties\", **kwargs)\n"
     ]
    }
   ],
   "source": [
    "# percentage of people with internet access\n",
    "internet = products.ACS(2019).from_county('Harris County, TX', level='tract', variables=['B28002_002E', 'B28002_001E'])\n",
    "p_has_internet = internet['B28002_002E'] / internet['B28002_001E']\n",
    "base['p_has_internet'] = p_has_internet"
   ]
  },
  {
   "cell_type": "code",
   "execution_count": 17,
   "id": "1a3c385d",
   "metadata": {},
   "outputs": [
    {
     "name": "stderr",
     "output_type": "stream",
     "text": [
      "C:\\Users\\zenon\\anaconda3\\envs\\gds\\lib\\site-packages\\pyproj\\crs\\crs.py:131: FutureWarning: '+init=<authority>:<code>' syntax is deprecated. '<authority>:<code>' is the preferred initialization method. When making the change, be mindful of axis order changes: https://pyproj4.github.io/pyproj/stable/gotchas.html#axis-order-changes-in-proj-6\n",
      "  in_crs_string = _prepare_from_proj_string(in_crs_string)\n",
      "C:\\Users\\zenon\\anaconda3\\envs\\gds\\lib\\site-packages\\pyproj\\crs\\crs.py:131: FutureWarning: '+init=<authority>:<code>' syntax is deprecated. '<authority>:<code>' is the preferred initialization method. When making the change, be mindful of axis order changes: https://pyproj4.github.io/pyproj/stable/gotchas.html#axis-order-changes-in-proj-6\n",
      "  in_crs_string = _prepare_from_proj_string(in_crs_string)\n",
      "C:\\Users\\zenon\\anaconda3\\envs\\gds\\lib\\site-packages\\cenpy\\products.py:762: FutureWarning: The `op` parameter is deprecated and will be removed in a future release. Please use the `predicate` parameter instead.\n",
      "  return self._from_name(county, variables, level, \"Counties\", **kwargs)\n"
     ]
    }
   ],
   "source": [
    "# percentage of black people B01001B_001E\n",
    "pop = products.ACS(2019).from_county('Harris County, TX', level='tract', variables=['B01001B_001E', 'B01001_001E'])\n",
    "p_black = pop['B01001B_001E'] / pop['B01001_001E']\n",
    "base['p_black'] = p_black"
   ]
  },
  {
   "cell_type": "code",
   "execution_count": 18,
   "id": "ddc369f9",
   "metadata": {},
   "outputs": [
    {
     "name": "stderr",
     "output_type": "stream",
     "text": [
      "C:\\Users\\zenon\\anaconda3\\envs\\gds\\lib\\site-packages\\pyproj\\crs\\crs.py:131: FutureWarning: '+init=<authority>:<code>' syntax is deprecated. '<authority>:<code>' is the preferred initialization method. When making the change, be mindful of axis order changes: https://pyproj4.github.io/pyproj/stable/gotchas.html#axis-order-changes-in-proj-6\n",
      "  in_crs_string = _prepare_from_proj_string(in_crs_string)\n",
      "C:\\Users\\zenon\\anaconda3\\envs\\gds\\lib\\site-packages\\pyproj\\crs\\crs.py:131: FutureWarning: '+init=<authority>:<code>' syntax is deprecated. '<authority>:<code>' is the preferred initialization method. When making the change, be mindful of axis order changes: https://pyproj4.github.io/pyproj/stable/gotchas.html#axis-order-changes-in-proj-6\n",
      "  in_crs_string = _prepare_from_proj_string(in_crs_string)\n",
      "C:\\Users\\zenon\\anaconda3\\envs\\gds\\lib\\site-packages\\cenpy\\products.py:762: FutureWarning: The `op` parameter is deprecated and will be removed in a future release. Please use the `predicate` parameter instead.\n",
      "  return self._from_name(county, variables, level, \"Counties\", **kwargs)\n"
     ]
    }
   ],
   "source": [
    "# median total earnings B20002_001E\n",
    "earnings = products.ACS(2019).from_county('Harris County, TX', level='tract', variables=['B20002_001E'])\n",
    "base['med_total_earnings'] = earnings['B20002_001E']"
   ]
  },
  {
   "cell_type": "code",
   "execution_count": 19,
   "id": "4a7bbef6",
   "metadata": {},
   "outputs": [
    {
     "name": "stderr",
     "output_type": "stream",
     "text": [
      "C:\\Users\\zenon\\anaconda3\\envs\\gds\\lib\\site-packages\\pyproj\\crs\\crs.py:131: FutureWarning: '+init=<authority>:<code>' syntax is deprecated. '<authority>:<code>' is the preferred initialization method. When making the change, be mindful of axis order changes: https://pyproj4.github.io/pyproj/stable/gotchas.html#axis-order-changes-in-proj-6\n",
      "  in_crs_string = _prepare_from_proj_string(in_crs_string)\n",
      "C:\\Users\\zenon\\anaconda3\\envs\\gds\\lib\\site-packages\\pyproj\\crs\\crs.py:131: FutureWarning: '+init=<authority>:<code>' syntax is deprecated. '<authority>:<code>' is the preferred initialization method. When making the change, be mindful of axis order changes: https://pyproj4.github.io/pyproj/stable/gotchas.html#axis-order-changes-in-proj-6\n",
      "  in_crs_string = _prepare_from_proj_string(in_crs_string)\n",
      "C:\\Users\\zenon\\anaconda3\\envs\\gds\\lib\\site-packages\\cenpy\\products.py:762: FutureWarning: The `op` parameter is deprecated and will be removed in a future release. Please use the `predicate` parameter instead.\n",
      "  return self._from_name(county, variables, level, \"Counties\", **kwargs)\n"
     ]
    }
   ],
   "source": [
    "# total B08124_001E\n",
    "# percent drove alone to work B08124_008E\n",
    "# percent drove carpooled B08124_015E\n",
    "# percent public transportation B08124_022E\n",
    "# percent walked B08124_029E\n",
    "# percent bicycle/motorcycle/taxi/other B08124_036E\n",
    "# percent worked from home B08124_043E\n",
    "transportation = products.ACS(2019).from_county('Harris County, TX', level='tract', variables=['B08124_001E', 'B08124_008E', 'B08124_015E', 'B08124_022E', 'B08124_029E', 'B08124_036E', 'B08124_043E'])\n",
    "\n",
    "p_drovealone = transportation['B08124_008E'] / transportation['B08124_001E']\n",
    "p_carpool = transportation['B08124_015E'] / transportation['B08124_001E']\n",
    "p_publictrans = transportation['B08124_022E'] / transportation['B08124_001E']\n",
    "p_walked = transportation['B08124_029E'] / transportation['B08124_001E']\n",
    "p_bikemotorother = transportation['B08124_036E'] / transportation['B08124_001E']\n",
    "p_workfromhome = transportation['B08124_043E'] / transportation['B08124_001E']\n",
    "\n",
    "base['p_drovealone'] = p_drovealone\n",
    "base['p_carpool'] = p_carpool\n",
    "base['p_publictrans'] = p_publictrans\n",
    "base['p_walked'] = p_walked\n",
    "base['p_bikemotorother'] = p_bikemotorother\n",
    "base['p_workfromhome'] = p_workfromhome"
   ]
  },
  {
   "cell_type": "code",
   "execution_count": 20,
   "id": "c29f423a",
   "metadata": {},
   "outputs": [
    {
     "name": "stderr",
     "output_type": "stream",
     "text": [
      "C:\\Users\\zenon\\anaconda3\\envs\\gds\\lib\\site-packages\\pyproj\\crs\\crs.py:131: FutureWarning: '+init=<authority>:<code>' syntax is deprecated. '<authority>:<code>' is the preferred initialization method. When making the change, be mindful of axis order changes: https://pyproj4.github.io/pyproj/stable/gotchas.html#axis-order-changes-in-proj-6\n",
      "  in_crs_string = _prepare_from_proj_string(in_crs_string)\n",
      "C:\\Users\\zenon\\anaconda3\\envs\\gds\\lib\\site-packages\\pyproj\\crs\\crs.py:131: FutureWarning: '+init=<authority>:<code>' syntax is deprecated. '<authority>:<code>' is the preferred initialization method. When making the change, be mindful of axis order changes: https://pyproj4.github.io/pyproj/stable/gotchas.html#axis-order-changes-in-proj-6\n",
      "  in_crs_string = _prepare_from_proj_string(in_crs_string)\n",
      "C:\\Users\\zenon\\anaconda3\\envs\\gds\\lib\\site-packages\\cenpy\\products.py:762: FutureWarning: The `op` parameter is deprecated and will be removed in a future release. Please use the `predicate` parameter instead.\n",
      "  return self._from_name(county, variables, level, \"Counties\", **kwargs)\n"
     ]
    }
   ],
   "source": [
    "# percent with health insurance 26-64\n",
    "insurance = products.ACS(2019).from_county('Harris County, TX', level='tract', variables=['B27019_001E', 'B27019_004E', 'B27019_009E', 'B27019_014E', 'B27019_019E'])\n",
    "p_healthinsurance = (insurance['B27019_004E'] + insurance['B27019_009E'] + insurance['B27019_014E'] + insurance['B27019_019E']) / insurance['B27019_001E']\n",
    "base['p_healthinsurance'] = p_healthinsurance"
   ]
  },
  {
   "cell_type": "code",
   "execution_count": 21,
   "id": "ff157f31",
   "metadata": {},
   "outputs": [
    {
     "data": {
      "text/plain": [
       "0     0.0\n",
       "1     0.0\n",
       "2     0.0\n",
       "3     0.0\n",
       "4     0.0\n",
       "5     0.0\n",
       "6     0.0\n",
       "7     0.0\n",
       "8     0.0\n",
       "9     0.0\n",
       "10    0.0\n",
       "11    0.0\n",
       "12    0.0\n",
       "13    0.0\n",
       "Name: B08124_022E, dtype: float64"
      ]
     },
     "execution_count": 21,
     "metadata": {},
     "output_type": "execute_result"
    }
   ],
   "source": [
    "transportation['B08124_022E']"
   ]
  },
  {
   "cell_type": "code",
   "execution_count": 22,
   "id": "ba1c5e29",
   "metadata": {},
   "outputs": [],
   "source": [
    "pm_int = []\n",
    "for item in population_median:\n",
    "    if item == '5-9':\n",
    "        pm_int.append(7)\n",
    "        \n",
    "    elif item == '10-14':\n",
    "        pm_int.append(12)\n",
    "        \n",
    "    elif item == '15-19':\n",
    "        pm_int.append(17)\n",
    "        \n",
    "    elif item == '20-24':\n",
    "        pm_int.append(22)\n",
    "        \n",
    "    elif item == '25-29':\n",
    "        pm_int.append(27)\n",
    "        \n",
    "    elif item == '30-34':\n",
    "        pm_int.append(32)\n",
    "        \n",
    "base['pm_int'] = pm_int"
   ]
  },
  {
   "cell_type": "code",
   "execution_count": 23,
   "id": "82f1e3b1",
   "metadata": {},
   "outputs": [],
   "source": [
    "wm_int = []\n",
    "for item in women_median:\n",
    "    if item == '5-9':\n",
    "        wm_int.append(7)\n",
    "        \n",
    "    elif item == '10-14':\n",
    "        wm_int.append(12)\n",
    "        \n",
    "    elif item == '15-19':\n",
    "        wm_int.append(17)\n",
    "        \n",
    "    elif item == '20-24':\n",
    "        wm_int.append(22)\n",
    "        \n",
    "    elif item == '25-29':\n",
    "        wm_int.append(27)\n",
    "        \n",
    "    elif item == '30-34':\n",
    "        wm_int.append(32)\n",
    "        \n",
    "base['wm_int'] = wm_int"
   ]
  },
  {
   "cell_type": "code",
   "execution_count": 24,
   "id": "d644eb4b",
   "metadata": {},
   "outputs": [],
   "source": [
    "mm_int = []\n",
    "for item in men_median:\n",
    "    if item == '5-9':\n",
    "        mm_int.append(7)\n",
    "        \n",
    "    elif item == '10-14':\n",
    "        mm_int.append(12)\n",
    "        \n",
    "    elif item == '15-19':\n",
    "        mm_int.append(17)\n",
    "        \n",
    "    elif item == '20-24':\n",
    "        mm_int.append(22)\n",
    "        \n",
    "    elif item == '25-29':\n",
    "        mm_int.append(27)\n",
    "        \n",
    "    elif item == '30-34':\n",
    "        mm_int.append(32)\n",
    "        \n",
    "    else:\n",
    "        mm_int.append('problem')\n",
    "        \n",
    "base['mm_int'] = mm_int"
   ]
  },
  {
   "cell_type": "code",
   "execution_count": 73,
   "id": "7933ce82",
   "metadata": {},
   "outputs": [
    {
     "name": "stdout",
     "output_type": "stream",
     "text": [
      "<class 'pandas.core.frame.DataFrame'>\n",
      "Int64Index: 14 entries, 0 to 13\n",
      "Data columns (total 24 columns):\n",
      " #   Column              Non-Null Count  Dtype   \n",
      "---  ------              --------------  -----   \n",
      " 0   GEOID               14 non-null     object  \n",
      " 1   geometry            14 non-null     geometry\n",
      " 2   NAME                14 non-null     object  \n",
      " 3   state               14 non-null     object  \n",
      " 4   county              14 non-null     object  \n",
      " 5   tract               14 non-null     object  \n",
      " 6   population_median   14 non-null     object  \n",
      " 7   men_median          14 non-null     object  \n",
      " 8   women_median        14 non-null     object  \n",
      " 9   p_salary            14 non-null     float64 \n",
      " 10  B19052_002E         14 non-null     float64 \n",
      " 11  p_has_internet      14 non-null     float64 \n",
      " 12  p_black             14 non-null     float64 \n",
      " 13  med_total_earnings  14 non-null     float64 \n",
      " 14  p_drovealone        14 non-null     float64 \n",
      " 15  p_carpool           14 non-null     float64 \n",
      " 16  p_publictrans       14 non-null     float64 \n",
      " 17  p_walked            14 non-null     float64 \n",
      " 18  p_bikemotorother    14 non-null     float64 \n",
      " 19  p_workfromhome      14 non-null     float64 \n",
      " 20  p_healthinsurance   14 non-null     float64 \n",
      " 21  pm_int              14 non-null     int64   \n",
      " 22  wm_int              14 non-null     int64   \n",
      " 23  mm_int              14 non-null     int64   \n",
      "dtypes: float64(12), geometry(1), int64(3), object(8)\n",
      "memory usage: 3.3+ KB\n"
     ]
    }
   ],
   "source": [
    "base.info()"
   ]
  },
  {
   "cell_type": "code",
   "execution_count": 25,
   "id": "6711697c",
   "metadata": {},
   "outputs": [],
   "source": [
    "# Compute correlation matrix\n",
    "corr_matrix = base.corr()\n",
    "\n",
    "# Display just house value correlations\n",
    "#corr_matrix['population_median'].sort_values(ascending = False)"
   ]
  },
  {
   "cell_type": "code",
   "execution_count": 26,
   "id": "7d849e98",
   "metadata": {},
   "outputs": [
    {
     "data": {
      "text/plain": [
       "pm_int                1.000000\n",
       "wm_int                0.939520\n",
       "mm_int                0.935032\n",
       "p_carpool             0.365044\n",
       "B19052_002E           0.320370\n",
       "p_has_internet        0.263626\n",
       "p_healthinsurance     0.248170\n",
       "med_total_earnings    0.240417\n",
       "p_drovealone         -0.045760\n",
       "p_salary             -0.056781\n",
       "p_walked             -0.202142\n",
       "p_workfromhome       -0.234144\n",
       "p_bikemotorother     -0.235797\n",
       "p_black              -0.396460\n",
       "p_publictrans              NaN\n",
       "Name: pm_int, dtype: float64"
      ]
     },
     "execution_count": 26,
     "metadata": {},
     "output_type": "execute_result"
    }
   ],
   "source": [
    "corr_matrix['pm_int'].sort_values(ascending = False)"
   ]
  },
  {
   "cell_type": "code",
   "execution_count": 111,
   "id": "4a605ad1",
   "metadata": {
    "scrolled": true
   },
   "outputs": [
    {
     "data": {
      "text/html": [
       "<div>\n",
       "<style scoped>\n",
       "    .dataframe tbody tr th:only-of-type {\n",
       "        vertical-align: middle;\n",
       "    }\n",
       "\n",
       "    .dataframe tbody tr th {\n",
       "        vertical-align: top;\n",
       "    }\n",
       "\n",
       "    .dataframe thead th {\n",
       "        text-align: right;\n",
       "    }\n",
       "</style>\n",
       "<table border=\"1\" class=\"dataframe\">\n",
       "  <thead>\n",
       "    <tr style=\"text-align: right;\">\n",
       "      <th></th>\n",
       "      <th>pm_int</th>\n",
       "      <th>wm_int</th>\n",
       "      <th>mm_int</th>\n",
       "      <th>p_has_internet</th>\n",
       "      <th>p_salary</th>\n",
       "      <th>B19052_002E</th>\n",
       "      <th>p_black</th>\n",
       "      <th>med_total_earnings</th>\n",
       "      <th>p_drovealone</th>\n",
       "      <th>p_carpool</th>\n",
       "      <th>p_publictrans</th>\n",
       "      <th>p_walked</th>\n",
       "      <th>p_bikemotorother</th>\n",
       "      <th>p_workfromhome</th>\n",
       "      <th>p_healthinsurance</th>\n",
       "    </tr>\n",
       "  </thead>\n",
       "  <tbody>\n",
       "    <tr>\n",
       "      <th>pm_int</th>\n",
       "      <td>1.000000</td>\n",
       "      <td>0.939520</td>\n",
       "      <td>0.935032</td>\n",
       "      <td>0.263626</td>\n",
       "      <td>-0.056781</td>\n",
       "      <td>0.320370</td>\n",
       "      <td>-0.396460</td>\n",
       "      <td>0.240417</td>\n",
       "      <td>-0.045760</td>\n",
       "      <td>0.365044</td>\n",
       "      <td>NaN</td>\n",
       "      <td>-0.202142</td>\n",
       "      <td>-0.235797</td>\n",
       "      <td>-0.234144</td>\n",
       "      <td>0.248170</td>\n",
       "    </tr>\n",
       "    <tr>\n",
       "      <th>wm_int</th>\n",
       "      <td>0.939520</td>\n",
       "      <td>1.000000</td>\n",
       "      <td>0.798898</td>\n",
       "      <td>0.387064</td>\n",
       "      <td>-0.082084</td>\n",
       "      <td>0.433936</td>\n",
       "      <td>-0.508800</td>\n",
       "      <td>0.258892</td>\n",
       "      <td>-0.120626</td>\n",
       "      <td>0.386969</td>\n",
       "      <td>NaN</td>\n",
       "      <td>-0.132188</td>\n",
       "      <td>-0.173689</td>\n",
       "      <td>-0.211461</td>\n",
       "      <td>0.311710</td>\n",
       "    </tr>\n",
       "    <tr>\n",
       "      <th>mm_int</th>\n",
       "      <td>0.935032</td>\n",
       "      <td>0.798898</td>\n",
       "      <td>1.000000</td>\n",
       "      <td>0.227523</td>\n",
       "      <td>-0.070714</td>\n",
       "      <td>0.165731</td>\n",
       "      <td>-0.399368</td>\n",
       "      <td>0.263632</td>\n",
       "      <td>-0.038123</td>\n",
       "      <td>0.400102</td>\n",
       "      <td>NaN</td>\n",
       "      <td>-0.307569</td>\n",
       "      <td>-0.163685</td>\n",
       "      <td>-0.299316</td>\n",
       "      <td>0.128535</td>\n",
       "    </tr>\n",
       "    <tr>\n",
       "      <th>p_has_internet</th>\n",
       "      <td>0.263626</td>\n",
       "      <td>0.387064</td>\n",
       "      <td>0.227523</td>\n",
       "      <td>1.000000</td>\n",
       "      <td>0.617957</td>\n",
       "      <td>0.735020</td>\n",
       "      <td>-0.786264</td>\n",
       "      <td>0.769319</td>\n",
       "      <td>0.238931</td>\n",
       "      <td>0.156718</td>\n",
       "      <td>NaN</td>\n",
       "      <td>0.045473</td>\n",
       "      <td>-0.178152</td>\n",
       "      <td>-0.484293</td>\n",
       "      <td>0.455018</td>\n",
       "    </tr>\n",
       "    <tr>\n",
       "      <th>p_salary</th>\n",
       "      <td>-0.056781</td>\n",
       "      <td>-0.082084</td>\n",
       "      <td>-0.070714</td>\n",
       "      <td>0.617957</td>\n",
       "      <td>1.000000</td>\n",
       "      <td>0.581285</td>\n",
       "      <td>-0.336662</td>\n",
       "      <td>0.523761</td>\n",
       "      <td>0.428127</td>\n",
       "      <td>-0.284643</td>\n",
       "      <td>NaN</td>\n",
       "      <td>0.151441</td>\n",
       "      <td>-0.258834</td>\n",
       "      <td>-0.147793</td>\n",
       "      <td>0.415393</td>\n",
       "    </tr>\n",
       "    <tr>\n",
       "      <th>B19052_002E</th>\n",
       "      <td>0.320370</td>\n",
       "      <td>0.433936</td>\n",
       "      <td>0.165731</td>\n",
       "      <td>0.735020</td>\n",
       "      <td>0.581285</td>\n",
       "      <td>1.000000</td>\n",
       "      <td>-0.543636</td>\n",
       "      <td>0.656873</td>\n",
       "      <td>0.402737</td>\n",
       "      <td>-0.039228</td>\n",
       "      <td>NaN</td>\n",
       "      <td>0.323343</td>\n",
       "      <td>-0.254785</td>\n",
       "      <td>-0.506700</td>\n",
       "      <td>0.621043</td>\n",
       "    </tr>\n",
       "    <tr>\n",
       "      <th>p_black</th>\n",
       "      <td>-0.396460</td>\n",
       "      <td>-0.508800</td>\n",
       "      <td>-0.399368</td>\n",
       "      <td>-0.786264</td>\n",
       "      <td>-0.336662</td>\n",
       "      <td>-0.543636</td>\n",
       "      <td>1.000000</td>\n",
       "      <td>-0.776092</td>\n",
       "      <td>-0.101133</td>\n",
       "      <td>-0.249116</td>\n",
       "      <td>NaN</td>\n",
       "      <td>0.426159</td>\n",
       "      <td>0.207486</td>\n",
       "      <td>0.234248</td>\n",
       "      <td>-0.324221</td>\n",
       "    </tr>\n",
       "    <tr>\n",
       "      <th>med_total_earnings</th>\n",
       "      <td>0.240417</td>\n",
       "      <td>0.258892</td>\n",
       "      <td>0.263632</td>\n",
       "      <td>0.769319</td>\n",
       "      <td>0.523761</td>\n",
       "      <td>0.656873</td>\n",
       "      <td>-0.776092</td>\n",
       "      <td>1.000000</td>\n",
       "      <td>0.469803</td>\n",
       "      <td>0.112476</td>\n",
       "      <td>NaN</td>\n",
       "      <td>-0.268915</td>\n",
       "      <td>-0.520046</td>\n",
       "      <td>-0.469002</td>\n",
       "      <td>0.421512</td>\n",
       "    </tr>\n",
       "    <tr>\n",
       "      <th>p_drovealone</th>\n",
       "      <td>-0.045760</td>\n",
       "      <td>-0.120626</td>\n",
       "      <td>-0.038123</td>\n",
       "      <td>0.238931</td>\n",
       "      <td>0.428127</td>\n",
       "      <td>0.402737</td>\n",
       "      <td>-0.101133</td>\n",
       "      <td>0.469803</td>\n",
       "      <td>1.000000</td>\n",
       "      <td>-0.679211</td>\n",
       "      <td>NaN</td>\n",
       "      <td>0.116340</td>\n",
       "      <td>-0.647335</td>\n",
       "      <td>-0.222742</td>\n",
       "      <td>0.304140</td>\n",
       "    </tr>\n",
       "    <tr>\n",
       "      <th>p_carpool</th>\n",
       "      <td>0.365044</td>\n",
       "      <td>0.386969</td>\n",
       "      <td>0.400102</td>\n",
       "      <td>0.156718</td>\n",
       "      <td>-0.284643</td>\n",
       "      <td>-0.039228</td>\n",
       "      <td>-0.249116</td>\n",
       "      <td>0.112476</td>\n",
       "      <td>-0.679211</td>\n",
       "      <td>1.000000</td>\n",
       "      <td>NaN</td>\n",
       "      <td>-0.235007</td>\n",
       "      <td>0.237530</td>\n",
       "      <td>-0.423556</td>\n",
       "      <td>-0.185822</td>\n",
       "    </tr>\n",
       "    <tr>\n",
       "      <th>p_publictrans</th>\n",
       "      <td>NaN</td>\n",
       "      <td>NaN</td>\n",
       "      <td>NaN</td>\n",
       "      <td>NaN</td>\n",
       "      <td>NaN</td>\n",
       "      <td>NaN</td>\n",
       "      <td>NaN</td>\n",
       "      <td>NaN</td>\n",
       "      <td>NaN</td>\n",
       "      <td>NaN</td>\n",
       "      <td>NaN</td>\n",
       "      <td>NaN</td>\n",
       "      <td>NaN</td>\n",
       "      <td>NaN</td>\n",
       "      <td>NaN</td>\n",
       "    </tr>\n",
       "    <tr>\n",
       "      <th>p_walked</th>\n",
       "      <td>-0.202142</td>\n",
       "      <td>-0.132188</td>\n",
       "      <td>-0.307569</td>\n",
       "      <td>0.045473</td>\n",
       "      <td>0.151441</td>\n",
       "      <td>0.323343</td>\n",
       "      <td>0.426159</td>\n",
       "      <td>-0.268915</td>\n",
       "      <td>0.116340</td>\n",
       "      <td>-0.235007</td>\n",
       "      <td>NaN</td>\n",
       "      <td>1.000000</td>\n",
       "      <td>0.180077</td>\n",
       "      <td>-0.282189</td>\n",
       "      <td>0.290752</td>\n",
       "    </tr>\n",
       "    <tr>\n",
       "      <th>p_bikemotorother</th>\n",
       "      <td>-0.235797</td>\n",
       "      <td>-0.173689</td>\n",
       "      <td>-0.163685</td>\n",
       "      <td>-0.178152</td>\n",
       "      <td>-0.258834</td>\n",
       "      <td>-0.254785</td>\n",
       "      <td>0.207486</td>\n",
       "      <td>-0.520046</td>\n",
       "      <td>-0.647335</td>\n",
       "      <td>0.237530</td>\n",
       "      <td>NaN</td>\n",
       "      <td>0.180077</td>\n",
       "      <td>1.000000</td>\n",
       "      <td>0.010280</td>\n",
       "      <td>-0.076531</td>\n",
       "    </tr>\n",
       "    <tr>\n",
       "      <th>p_workfromhome</th>\n",
       "      <td>-0.234144</td>\n",
       "      <td>-0.211461</td>\n",
       "      <td>-0.299316</td>\n",
       "      <td>-0.484293</td>\n",
       "      <td>-0.147793</td>\n",
       "      <td>-0.506700</td>\n",
       "      <td>0.234248</td>\n",
       "      <td>-0.469002</td>\n",
       "      <td>-0.222742</td>\n",
       "      <td>-0.423556</td>\n",
       "      <td>NaN</td>\n",
       "      <td>-0.282189</td>\n",
       "      <td>0.010280</td>\n",
       "      <td>1.000000</td>\n",
       "      <td>-0.248650</td>\n",
       "    </tr>\n",
       "    <tr>\n",
       "      <th>p_healthinsurance</th>\n",
       "      <td>0.248170</td>\n",
       "      <td>0.311710</td>\n",
       "      <td>0.128535</td>\n",
       "      <td>0.455018</td>\n",
       "      <td>0.415393</td>\n",
       "      <td>0.621043</td>\n",
       "      <td>-0.324221</td>\n",
       "      <td>0.421512</td>\n",
       "      <td>0.304140</td>\n",
       "      <td>-0.185822</td>\n",
       "      <td>NaN</td>\n",
       "      <td>0.290752</td>\n",
       "      <td>-0.076531</td>\n",
       "      <td>-0.248650</td>\n",
       "      <td>1.000000</td>\n",
       "    </tr>\n",
       "  </tbody>\n",
       "</table>\n",
       "</div>"
      ],
      "text/plain": [
       "                      pm_int    wm_int    mm_int  p_has_internet  p_salary  \\\n",
       "pm_int              1.000000  0.939520  0.935032        0.263626 -0.056781   \n",
       "wm_int              0.939520  1.000000  0.798898        0.387064 -0.082084   \n",
       "mm_int              0.935032  0.798898  1.000000        0.227523 -0.070714   \n",
       "p_has_internet      0.263626  0.387064  0.227523        1.000000  0.617957   \n",
       "p_salary           -0.056781 -0.082084 -0.070714        0.617957  1.000000   \n",
       "B19052_002E         0.320370  0.433936  0.165731        0.735020  0.581285   \n",
       "p_black            -0.396460 -0.508800 -0.399368       -0.786264 -0.336662   \n",
       "med_total_earnings  0.240417  0.258892  0.263632        0.769319  0.523761   \n",
       "p_drovealone       -0.045760 -0.120626 -0.038123        0.238931  0.428127   \n",
       "p_carpool           0.365044  0.386969  0.400102        0.156718 -0.284643   \n",
       "p_publictrans            NaN       NaN       NaN             NaN       NaN   \n",
       "p_walked           -0.202142 -0.132188 -0.307569        0.045473  0.151441   \n",
       "p_bikemotorother   -0.235797 -0.173689 -0.163685       -0.178152 -0.258834   \n",
       "p_workfromhome     -0.234144 -0.211461 -0.299316       -0.484293 -0.147793   \n",
       "p_healthinsurance   0.248170  0.311710  0.128535        0.455018  0.415393   \n",
       "\n",
       "                    B19052_002E   p_black  med_total_earnings  p_drovealone  \\\n",
       "pm_int                 0.320370 -0.396460            0.240417     -0.045760   \n",
       "wm_int                 0.433936 -0.508800            0.258892     -0.120626   \n",
       "mm_int                 0.165731 -0.399368            0.263632     -0.038123   \n",
       "p_has_internet         0.735020 -0.786264            0.769319      0.238931   \n",
       "p_salary               0.581285 -0.336662            0.523761      0.428127   \n",
       "B19052_002E            1.000000 -0.543636            0.656873      0.402737   \n",
       "p_black               -0.543636  1.000000           -0.776092     -0.101133   \n",
       "med_total_earnings     0.656873 -0.776092            1.000000      0.469803   \n",
       "p_drovealone           0.402737 -0.101133            0.469803      1.000000   \n",
       "p_carpool             -0.039228 -0.249116            0.112476     -0.679211   \n",
       "p_publictrans               NaN       NaN                 NaN           NaN   \n",
       "p_walked               0.323343  0.426159           -0.268915      0.116340   \n",
       "p_bikemotorother      -0.254785  0.207486           -0.520046     -0.647335   \n",
       "p_workfromhome        -0.506700  0.234248           -0.469002     -0.222742   \n",
       "p_healthinsurance      0.621043 -0.324221            0.421512      0.304140   \n",
       "\n",
       "                    p_carpool  p_publictrans  p_walked  p_bikemotorother  \\\n",
       "pm_int               0.365044            NaN -0.202142         -0.235797   \n",
       "wm_int               0.386969            NaN -0.132188         -0.173689   \n",
       "mm_int               0.400102            NaN -0.307569         -0.163685   \n",
       "p_has_internet       0.156718            NaN  0.045473         -0.178152   \n",
       "p_salary            -0.284643            NaN  0.151441         -0.258834   \n",
       "B19052_002E         -0.039228            NaN  0.323343         -0.254785   \n",
       "p_black             -0.249116            NaN  0.426159          0.207486   \n",
       "med_total_earnings   0.112476            NaN -0.268915         -0.520046   \n",
       "p_drovealone        -0.679211            NaN  0.116340         -0.647335   \n",
       "p_carpool            1.000000            NaN -0.235007          0.237530   \n",
       "p_publictrans             NaN            NaN       NaN               NaN   \n",
       "p_walked            -0.235007            NaN  1.000000          0.180077   \n",
       "p_bikemotorother     0.237530            NaN  0.180077          1.000000   \n",
       "p_workfromhome      -0.423556            NaN -0.282189          0.010280   \n",
       "p_healthinsurance   -0.185822            NaN  0.290752         -0.076531   \n",
       "\n",
       "                    p_workfromhome  p_healthinsurance  \n",
       "pm_int                   -0.234144           0.248170  \n",
       "wm_int                   -0.211461           0.311710  \n",
       "mm_int                   -0.299316           0.128535  \n",
       "p_has_internet           -0.484293           0.455018  \n",
       "p_salary                 -0.147793           0.415393  \n",
       "B19052_002E              -0.506700           0.621043  \n",
       "p_black                   0.234248          -0.324221  \n",
       "med_total_earnings       -0.469002           0.421512  \n",
       "p_drovealone             -0.222742           0.304140  \n",
       "p_carpool                -0.423556          -0.185822  \n",
       "p_publictrans                  NaN                NaN  \n",
       "p_walked                 -0.282189           0.290752  \n",
       "p_bikemotorother          0.010280          -0.076531  \n",
       "p_workfromhome            1.000000          -0.248650  \n",
       "p_healthinsurance        -0.248650           1.000000  "
      ]
     },
     "execution_count": 111,
     "metadata": {},
     "output_type": "execute_result"
    }
   ],
   "source": [
    "corr_matrix"
   ]
  },
  {
   "cell_type": "code",
   "execution_count": 38,
   "id": "d7185793",
   "metadata": {},
   "outputs": [],
   "source": [
    "import numpy as np\n",
    "from sklearn.preprocessing import StandardScaler\n",
    "from sklearn.model_selection import train_test_split\n",
    "from sklearn.ensemble import RandomForestRegressor\n",
    "from sklearn.metrics import mean_squared_error\n",
    "from shapely.geometry import Point"
   ]
  },
  {
   "cell_type": "code",
   "execution_count": 39,
   "id": "8d7248c2",
   "metadata": {},
   "outputs": [],
   "source": [
    "# Define feature list\n",
    "feature_list =  ['p_carpool', 'B19052_002E', 'p_has_internet', 'p_healthinsurance', 'med_total_earnings', 'p_drovealone', 'p_salary', 'p_walked', 'p_workfromhome', 'p_bikemotorother', 'p_black', 'p_publictrans']\n",
    "\n",
    "# Define features and labels \n",
    "X = base[feature_list]\n",
    "y = base['pm_int']\n",
    "\n",
    "# Standarize data\n",
    "scaler = StandardScaler()  \n",
    "X_scaled = scaler.fit_transform(X)"
   ]
  },
  {
   "cell_type": "code",
   "execution_count": 54,
   "id": "f46dca92",
   "metadata": {},
   "outputs": [],
   "source": [
    "# Split data \n",
    "X_train, X_test, y_train, y_test = train_test_split(X_scaled, y, test_size=0.2, random_state=42)"
   ]
  },
  {
   "cell_type": "code",
   "execution_count": 60,
   "id": "f92178ed",
   "metadata": {},
   "outputs": [
    {
     "data": {
      "text/plain": [
       "RandomForestRegressor(n_estimators=25)"
      ]
     },
     "execution_count": 60,
     "metadata": {},
     "output_type": "execute_result"
    }
   ],
   "source": [
    "# Define model\n",
    "forest_reg = RandomForestRegressor(n_estimators = 25)\n",
    "\n",
    "# Fit model\n",
    "forest_reg.fit(X_train, y_train)"
   ]
  },
  {
   "cell_type": "code",
   "execution_count": 61,
   "id": "7957140a",
   "metadata": {},
   "outputs": [
    {
     "data": {
      "text/plain": [
       "9.227495145848989"
      ]
     },
     "execution_count": 61,
     "metadata": {},
     "output_type": "execute_result"
    }
   ],
   "source": [
    "# Predict test labels predictions\n",
    "predictions = forest_reg.predict(X_test)\n",
    "\n",
    "# Compute mean-squared-error\n",
    "final_mse = mean_squared_error(y_test , predictions)\n",
    "final_rmse = np.sqrt(final_mse)\n",
    "final_rmse"
   ]
  },
  {
   "cell_type": "markdown",
   "id": "7c08d781",
   "metadata": {},
   "source": [
    "# VISUALIZATIONS"
   ]
  },
  {
   "cell_type": "code",
   "execution_count": 72,
   "id": "f01faa8d",
   "metadata": {},
   "outputs": [
    {
     "data": {
      "text/plain": [
       "(0.0, 80.0)"
      ]
     },
     "execution_count": 72,
     "metadata": {},
     "output_type": "execute_result"
    },
    {
     "data": {
      "image/png": "[encoded data removed]",
      "text/plain": [
       "<Figure size 576x432 with 1 Axes>"
      ]
     },
     "metadata": {
      "needs_background": "light"
     },
     "output_type": "display_data"
    }
   ],
   "source": [
    "# Plot\n",
    "fig, ax = plt.subplots(figsize=(8, 6))\n",
    "ax.scatter(y_test, predictions, alpha=0.1, s=50, zorder=2)\n",
    "ax.plot([0, 80], [0, 80], color='k', lw=1, zorder=3)\n",
    "ax.set_ylabel('Predicted time of travel', fontsize=14)\n",
    "ax.set_xlabel('Observed time of travel', fontsize=14)\n",
    "ax.tick_params(axis='both', which='major', labelsize=13)\n",
    "ax.grid(ls='dashed', lw=1, zorder=1)\n",
    "ax.set_ylim(0,80)\n",
    "ax.set_xlim(0,80)"
   ]
  },
  {
   "cell_type": "code",
   "execution_count": 76,
   "id": "68a414a2",
   "metadata": {},
   "outputs": [
    {
     "data": {
      "image/png": "[encoded data removed]",
      "text/plain": [
       "<Figure size 432x288 with 1 Axes>"
      ]
     },
     "metadata": {
      "needs_background": "light"
     },
     "output_type": "display_data"
    }
   ],
   "source": [
    "\n",
    "\n",
    "width = 0.8\n",
    "\n",
    "highPower   = ['mm_int']\n",
    "lowPower    = ['pm_int']\n",
    "indices = np.arange(len(highPower))\n",
    "\n",
    "plt.bar(indices, highPower, width=width, \n",
    "        color='b', label='Max Power in mW')\n",
    "plt.bar([i+0.25*width for i in indices], lowPower, \n",
    "        width=0.5*width, color='r', alpha=0.5, label='Min Power in mW')\n",
    "\n",
    "plt.xticks(indices+width/2., \n",
    "           ['T{}'.format(i) for i in range(len(highPower))] )\n",
    "\n",
    "plt.legend()\n",
    "\n",
    "plt.show()"
   ]
  },
  {
   "cell_type": "code",
   "execution_count": null,
   "id": "354bf8b7",
   "metadata": {},
   "outputs": [],
   "source": []
  }
 ],
 "metadata": {
  "kernelspec": {
   "display_name": "Python 3 (ipykernel)",
   "language": "python",
   "name": "python3"
  },
  "language_info": {
   "codemirror_mode": {
    "name": "ipython",
    "version": 3
   },
   "file_extension": ".py",
   "mimetype": "text/x-python",
   "name": "python",
   "nbconvert_exporter": "python",
   "pygments_lexer": "ipython3",
   "version": "3.8.12"
  }
 },
 "nbformat": 4,
 "nbformat_minor": 5
}
